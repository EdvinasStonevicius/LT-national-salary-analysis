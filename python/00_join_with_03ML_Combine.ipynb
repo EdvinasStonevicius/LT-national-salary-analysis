{
 "cells": [
  {
   "cell_type": "code",
   "execution_count": 3,
   "metadata": {},
   "outputs": [],
   "source": [
    "import pandas as pd\n",
    "import numpy as np\n",
    "import os\n",
    "os.environ['TF_CPP_MIN_LOG_LEVEL'] ='3'\n",
    "import tensorflow as tf\n",
    "import itertools"
   ]
  },
  {
   "attachments": {},
   "cell_type": "markdown",
   "metadata": {},
   "source": [
    "# Import models"
   ]
  },
  {
   "cell_type": "code",
   "execution_count": 4,
   "metadata": {},
   "outputs": [],
   "source": [
    "import joblib\n",
    "xgb_model = joblib.load('./Models/XGBoost_model.joblib')\n",
    "xgb_mc_model = joblib.load('./Models/XGBoost_manual_cat_model.joblib')\n",
    "grb_model = joblib.load('./Models/GRBoost_model.joblib')\n",
    "lm_model = joblib.load('./Models/LM_model.joblib')\n",
    "rf_model = joblib.load('./Models/RF_model.joblib')\n",
    "svr_model = joblib.load('./Models/SVR_model.joblib')\n",
    "sk_voting_model = joblib.load('./Models/SklearnVoting_model.joblib')\n",
    "tf_model = tf.keras.models.load_model(\"./Models/tf_model\")"
   ]
  },
  {
   "attachments": {},
   "cell_type": "markdown",
   "metadata": {},
   "source": [
    "# Data preparation"
   ]
  },
  {
   "attachments": {},
   "cell_type": "markdown",
   "metadata": {},
   "source": [
    "## Import data with outliers (>= 90 percentile) removed in preprocessing"
   ]
  },
  {
   "cell_type": "code",
   "execution_count": 5,
   "metadata": {},
   "outputs": [
    {
     "data": {
      "text/html": [
       "<div>\n",
       "<style scoped>\n",
       "    .dataframe tbody tr th:only-of-type {\n",
       "        vertical-align: middle;\n",
       "    }\n",
       "\n",
       "    .dataframe tbody tr th {\n",
       "        vertical-align: top;\n",
       "    }\n",
       "\n",
       "    .dataframe thead th {\n",
       "        text-align: right;\n",
       "    }\n",
       "</style>\n",
       "<table border=\"1\" class=\"dataframe\">\n",
       "  <thead>\n",
       "    <tr style=\"text-align: right;\">\n",
       "      <th></th>\n",
       "      <th>nace</th>\n",
       "      <th>esize_class</th>\n",
       "      <th>gender</th>\n",
       "      <th>age_class</th>\n",
       "      <th>lpk</th>\n",
       "      <th>education</th>\n",
       "      <th>experience</th>\n",
       "      <th>target</th>\n",
       "    </tr>\n",
       "  </thead>\n",
       "  <tbody>\n",
       "    <tr>\n",
       "      <th>0</th>\n",
       "      <td>C</td>\n",
       "      <td>1_49</td>\n",
       "      <td>M</td>\n",
       "      <td>40-49</td>\n",
       "      <td>p721</td>\n",
       "      <td>G2</td>\n",
       "      <td>13</td>\n",
       "      <td>8.20</td>\n",
       "    </tr>\n",
       "    <tr>\n",
       "      <th>1</th>\n",
       "      <td>C</td>\n",
       "      <td>1_49</td>\n",
       "      <td>F</td>\n",
       "      <td>40-49</td>\n",
       "      <td>p334</td>\n",
       "      <td>G2</td>\n",
       "      <td>0</td>\n",
       "      <td>2.51</td>\n",
       "    </tr>\n",
       "    <tr>\n",
       "      <th>2</th>\n",
       "      <td>M</td>\n",
       "      <td>50_249</td>\n",
       "      <td>F</td>\n",
       "      <td>40-49</td>\n",
       "      <td>p522</td>\n",
       "      <td>G2</td>\n",
       "      <td>18</td>\n",
       "      <td>2.19</td>\n",
       "    </tr>\n",
       "    <tr>\n",
       "      <th>3</th>\n",
       "      <td>M</td>\n",
       "      <td>50_249</td>\n",
       "      <td>F</td>\n",
       "      <td>40-49</td>\n",
       "      <td>p522</td>\n",
       "      <td>G2</td>\n",
       "      <td>12</td>\n",
       "      <td>2.19</td>\n",
       "    </tr>\n",
       "    <tr>\n",
       "      <th>4</th>\n",
       "      <td>M</td>\n",
       "      <td>50_249</td>\n",
       "      <td>F</td>\n",
       "      <td>14-29</td>\n",
       "      <td>p522</td>\n",
       "      <td>G2</td>\n",
       "      <td>0</td>\n",
       "      <td>2.19</td>\n",
       "    </tr>\n",
       "  </tbody>\n",
       "</table>\n",
       "</div>"
      ],
      "text/plain": [
       "  nace esize_class gender age_class   lpk education  experience  target\n",
       "0    C        1_49      M     40-49  p721        G2          13    8.20\n",
       "1    C        1_49      F     40-49  p334        G2           0    2.51\n",
       "2    M      50_249      F     40-49  p522        G2          18    2.19\n",
       "3    M      50_249      F     40-49  p522        G2          12    2.19\n",
       "4    M      50_249      F     14-29  p522        G2           0    2.19"
      ]
     },
     "execution_count": 5,
     "metadata": {},
     "output_type": "execute_result"
    }
   ],
   "source": [
    "data = pd.read_csv('../Data/LT_DU_data_for_ML.csv')\n",
    "data.head()"
   ]
  },
  {
   "attachments": {},
   "cell_type": "markdown",
   "metadata": {},
   "source": [
    "## Unique categorical feature values"
   ]
  },
  {
   "cell_type": "code",
   "execution_count": 8,
   "metadata": {},
   "outputs": [],
   "source": [
    "nace = np.sort(data['nace'].unique())\n",
    "gender = data['gender'].unique()\n",
    "esize_class = np.array(['1_49', '50_249','GT_250'], dtype=object)\n",
    "age_class = np.array(['14-29','30-39', '40-49', '50-59','60+'], dtype=object)\n",
    "education = np.array([ 'G1', 'G2', 'G3', 'G4'], dtype=object)\n",
    "lpk = np.sort(data['lpk'].unique())"
   ]
  },
  {
   "attachments": {},
   "cell_type": "markdown",
   "metadata": {},
   "source": [
    "# Functions to create datasets and apply models"
   ]
  },
  {
   "cell_type": "code",
   "execution_count": 10,
   "metadata": {},
   "outputs": [],
   "source": [
    "def combination_of_feature_values(nace=nace,\n",
    "                                esize_class=esize_class,\n",
    "                                gender=gender,\n",
    "                                age_class=age_class,\n",
    "                                lpk=lpk,\n",
    "                                education=education,\n",
    "                                experience=[3]):\n",
    "\n",
    "    \"\"\" \n",
    "    Inputs should be lists, even if single value is provided e.g [3] for experience\n",
    "    \"\"\"\n",
    "\n",
    "    combination = []\n",
    "    for t in itertools.product(*[nace, esize_class, gender, age_class, lpk, education, experience]):\n",
    "        combination.append(t)\n",
    "\n",
    "    df = pd.DataFrame(combination, columns=['nace', 'esize_class', 'gender', 'age_class', 'lpk', 'education', 'experience'])\n",
    "    return df"
   ]
  },
  {
   "cell_type": "code",
   "execution_count": 11,
   "metadata": {},
   "outputs": [],
   "source": [
    "def df_to_dataset(data, shuffle=False, batch_size=256):\n",
    "  \"\"\"\n",
    "  Create TensorFlow dataset from Pandas data frame.\n",
    "  \"\"\"\n",
    "  df = data\n",
    "  df = {key: value.to_numpy()[:,tf.newaxis] for key, value in data.items()}\n",
    "  ds = tf.data.Dataset.from_tensor_slices((dict(df)))\n",
    "  if shuffle:\n",
    "    ds = ds.shuffle(buffer_size=len(data))\n",
    "  ds = ds.batch(batch_size)\n",
    "  ds = ds.prefetch(batch_size)\n",
    "  return ds\n",
    "\n",
    "def apply_models(data): \n",
    "  df_ml = data.copy()\n",
    "  \n",
    "  df_ml['xgb'] = xgb_model.predict(data)\n",
    "  df_ml['xgb_mc'] = xgb_mc_model.predict(data)\n",
    "  df_ml['grb'] = grb_model.predict(data)\n",
    "  df_ml['rf'] = rf_model.predict(data)\n",
    "  df_ml['lm'] = lm_model.predict(data)\n",
    "  df_ml['svr'] = svr_model.predict(data)\n",
    "  df_ml['voting'] = sk_voting_model.predict(data)\n",
    "\n",
    "  df_tf = df_to_dataset(data.copy(),  shuffle=False, batch_size=256)\n",
    "  df_ml['tf'] = tf_model.predict(df_tf)\n",
    "  \n",
    "  df_ml_long = pd.melt(\n",
    "                    df_ml,\n",
    "                    id_vars=['nace', 'esize_class', 'gender', 'age_class', 'lpk', 'education', 'experience'],\n",
    "                    var_name='model'\n",
    "                    )\n",
    "  return df_ml, df_ml_long"
   ]
  },
  {
   "cell_type": "code",
   "execution_count": 69,
   "metadata": {},
   "outputs": [],
   "source": [
    "df = combination_of_feature_values(experience=[0, 1, 3, 5, 10, 20])"
   ]
  },
  {
   "cell_type": "code",
   "execution_count": 70,
   "metadata": {},
   "outputs": [
    {
     "name": "stdout",
     "output_type": "stream",
     "text": [
      "5114/5114 [==============================] - 6s 1ms/step\n",
      "df_ml columns: ['nace' 'esize_class' 'gender' 'age_class' 'lpk' 'education' 'experience'\n",
      " 'xgb' 'xgb_mc' 'grb' 'rf' 'lm' 'svr' 'voting' 'tf']\n",
      "df_ml_long columns: ['nace' 'esize_class' 'gender' 'age_class' 'lpk' 'education' 'experience'\n",
      " 'model' 'value']\n"
     ]
    }
   ],
   "source": [
    "\"\"\" df_ml, df_ml_long = apply_models(df)\n",
    "df_ml_long.to_csv('../Data/LT_DU_all_feature_combinations_all_model_predictions.csv', index=False) \"\"\""
   ]
  },
  {
   "attachments": {},
   "cell_type": "markdown",
   "metadata": {},
   "source": [
    "# !!! need to reduce file size /5. feather??? less experiance???"
   ]
  }
 ],
 "metadata": {
  "kernelspec": {
   "display_name": "tf211",
   "language": "python",
   "name": "python3"
  },
  "language_info": {
   "codemirror_mode": {
    "name": "ipython",
    "version": 3
   },
   "file_extension": ".py",
   "mimetype": "text/x-python",
   "name": "python",
   "nbconvert_exporter": "python",
   "pygments_lexer": "ipython3",
   "version": "3.10.6 (main, Oct 24 2022, 16:07:47) [GCC 11.2.0]"
  },
  "orig_nbformat": 4,
  "vscode": {
   "interpreter": {
    "hash": "646a531948125ec56986ec132b6b0924910ab162d70d87c7d6803b25de81a801"
   }
  }
 },
 "nbformat": 4,
 "nbformat_minor": 2
}
