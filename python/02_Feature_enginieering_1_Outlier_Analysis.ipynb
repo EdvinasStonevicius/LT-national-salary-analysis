{
 "cells": [
  {
   "cell_type": "code",
   "execution_count": 1,
   "metadata": {},
   "outputs": [],
   "source": [
    "import pandas as pd\n",
    "import numpy as np\n",
    "import matplotlib.pyplot as plt\n",
    "import seaborn as sns\n",
    "from sklearn.metrics import mean_squared_error\n",
    "from sklearn.metrics import r2_score\n"
   ]
  },
  {
   "cell_type": "code",
   "execution_count": 6,
   "metadata": {},
   "outputs": [
    {
     "data": {
      "text/plain": [
       "Index(['lpk', 'hourly_rate', 'esize_class_ord', 'gender_M', 'age_class_ord',\n",
       "       'education_ord', 'experience_sc'],\n",
       "      dtype='object')"
      ]
     },
     "execution_count": 6,
     "metadata": {},
     "output_type": "execute_result"
    }
   ],
   "source": [
    "data_import = pd.read_csv('../Data/LT_DU_data_for_ML_All_variations_optimized_outliers.csv',\n",
    "usecols=['hourly_rate', 'esize_class_ord', 'gender_M', 'age_class_ord', 'education_ord', 'lpk', 'experience_sc']) # All variations of categorical and numeric transformations\n",
    "data_import.columns"
   ]
  },
  {
   "cell_type": "markdown",
   "metadata": {},
   "source": [
    "# Upper part of 'hourly_rate' distribution in lpk groups"
   ]
  },
  {
   "cell_type": "code",
   "execution_count": 75,
   "metadata": {},
   "outputs": [],
   "source": [
    "data = data_import.copy()"
   ]
  },
  {
   "cell_type": "code",
   "execution_count": 76,
   "metadata": {},
   "outputs": [
    {
     "data": {
      "text/plain": [
       "(36513, 7)"
      ]
     },
     "execution_count": 76,
     "metadata": {},
     "output_type": "execute_result"
    }
   ],
   "source": [
    "data.shape"
   ]
  },
  {
   "cell_type": "markdown",
   "metadata": {},
   "source": [
    "# Prepare X and y"
   ]
  },
  {
   "cell_type": "code",
   "execution_count": 100,
   "metadata": {},
   "outputs": [],
   "source": [
    "def observations_below_outlier(df, outlier_threshold=0.95):\n",
    "    \"\"\"Select observations, \n",
    "    which exceed selected hourly rate \n",
    "    percentile threshold within lpk group\"\"\"\n",
    "    df['rank'] = df.groupby('lpk')['hourly_rate'].rank(pct=True).copy()\n",
    "    df = df.query('rank < @outlier_threshold')\n",
    "    df = df.drop(columns='rank')     \n",
    "    return df"
   ]
  },
  {
   "cell_type": "code",
   "execution_count": 105,
   "metadata": {},
   "outputs": [
    {
     "name": "stdout",
     "output_type": "stream",
     "text": [
      "Number of records after removal of outliers,\n",
      "which exceed 90 hourly rate percentile within lpk group: 36513\n"
     ]
    }
   ],
   "source": [
    "threshold = 90\n",
    "\n",
    "df = observations_below_outlier(data, outlier_threshold=threshold)\n",
    "print(f'Number of records after removal of outliers,{chr(10)}which exceed {threshold} hourly rate percentile within lpk group:', len(df))"
   ]
  },
  {
   "cell_type": "code",
   "execution_count": 119,
   "metadata": {},
   "outputs": [
    {
     "data": {
      "image/png": "[encoded data removed]",
      "text/plain": [
       "<Figure size 432x288 with 1 Axes>"
      ]
     },
     "metadata": {
      "needs_background": "light"
     },
     "output_type": "display_data"
    }
   ],
   "source": [
    "p = []\n",
    "n = []\n",
    "\n",
    "for threshold in np.linspace(0.7, 1 ,7):\n",
    "    n.append(len(observations_below_outlier(data, outlier_threshold=threshold)))\n",
    "    p.append(threshold)\n",
    "\n",
    "pd.DataFrame(zip(p, n), columns=['threshold', 'observations']).plot.scatter(x='threshold', y='observations');"
   ]
  },
  {
   "cell_type": "markdown",
   "metadata": {},
   "source": [
    "# NOT FINISHED\n",
    "#"
   ]
  },
  {
   "cell_type": "code",
   "execution_count": 11,
   "metadata": {},
   "outputs": [
    {
     "data": {
      "text/plain": [
       "((29210,), (7303,))"
      ]
     },
     "execution_count": 11,
     "metadata": {},
     "output_type": "execute_result"
    }
   ],
   "source": [
    "from sklearn.model_selection import train_test_split\n",
    "X_train, X_test, y_train, y_test = train_test_split( X, y, test_size=0.20, random_state=0)\n",
    "y_train.shape, y_test.shape, y_train.shape, y_test.shape"
   ]
  },
  {
   "cell_type": "code",
   "execution_count": 8,
   "metadata": {},
   "outputs": [
    {
     "data": {
      "text/plain": [
       "4.72"
      ]
     },
     "execution_count": 8,
     "metadata": {},
     "output_type": "execute_result"
    }
   ],
   "source": [
    "y_train_mean = np.mean(y_train)\n",
    "y_train_mean.round(2)"
   ]
  },
  {
   "cell_type": "markdown",
   "metadata": {},
   "source": [
    "# Model and predictions"
   ]
  },
  {
   "cell_type": "markdown",
   "metadata": {},
   "source": [
    "## Initial model"
   ]
  },
  {
   "cell_type": "code",
   "execution_count": 9,
   "metadata": {},
   "outputs": [],
   "source": [
    "from xgboost import XGBRegressor\n",
    "model = XGBRegressor()\n",
    "model.fit(X=X_train, y=y_train)\n",
    "y_train_pred = model.predict(X_train)\n",
    "y_test_pred = model.predict(X_test)"
   ]
  },
  {
   "cell_type": "code",
   "execution_count": 10,
   "metadata": {},
   "outputs": [
    {
     "name": "stdout",
     "output_type": "stream",
     "text": [
      "Train: RMSE= 1.44  R2= 0.615\n",
      "Test: RMSE= 1.487  R2= 0.593\n"
     ]
    }
   ],
   "source": [
    "print('Train: RMSE=', np.sqrt(mean_squared_error(y_train, y_train_pred)).round(3),\n",
    "    ' R2=', r2_score(y_train, y_train_pred).round(3))\n",
    "\n",
    "print('Test: RMSE=', np.sqrt(mean_squared_error(y_test, y_test_pred)).round(3),\n",
    "    ' R2=', r2_score(y_test, y_test_pred).round(3))"
   ]
  },
  {
   "cell_type": "markdown",
   "metadata": {},
   "source": [
    "## Best eta, gamma, max_depth"
   ]
  },
  {
   "cell_type": "code",
   "execution_count": 11,
   "metadata": {},
   "outputs": [
    {
     "name": "stdout",
     "output_type": "stream",
     "text": [
      "Best eta:  0.133\n"
     ]
    },
    {
     "data": {
      "image/png": "[encoded data removed]",
      "text/plain": [
       "<Figure size 432x288 with 1 Axes>"
      ]
     },
     "metadata": {
      "needs_background": "light"
     },
     "output_type": "display_data"
    }
   ],
   "source": [
    "etas = np.linspace(0.05, 0.35, 30)\n",
    "scores_eta=[]\n",
    "for eta in etas:\n",
    "    model = XGBRegressor(eta=eta)\n",
    "    model.fit(X=X_train,y=y_train)\n",
    "    score = model.score(X=X_test,y=y_test)\n",
    "    scores_eta.append(score)\n",
    "\n",
    "best_eta = round(etas[scores_eta.index(max(scores_eta))],3)\n",
    "print('Best eta: ', best_eta)\n",
    "\n",
    "sns.lineplot(x=etas, y=scores_eta)\n",
    "plt.xlabel('eta')\n",
    "plt.ylabel('R2');"
   ]
  },
  {
   "cell_type": "code",
   "execution_count": 12,
   "metadata": {},
   "outputs": [
    {
     "name": "stdout",
     "output_type": "stream",
     "text": [
      "Best max depth:  6\n"
     ]
    },
    {
     "data": {
      "image/png": "[encoded data removed]",
      "text/plain": [
       "<Figure size 432x288 with 1 Axes>"
      ]
     },
     "metadata": {
      "needs_background": "light"
     },
     "output_type": "display_data"
    }
   ],
   "source": [
    "depths = np.arange(3,  10)\n",
    "scores_depth=[]\n",
    "for depth in depths:\n",
    "    model = XGBRegressor(max_depth=depth, eta=best_eta)\n",
    "    model.fit(X=X_train,y=y_train)\n",
    "    score = model.score(X=X_test,y=y_test)\n",
    "    scores_depth.append(score)\n",
    "\n",
    "best_depth = round(depths[scores_depth.index(max(scores_depth))],3)\n",
    "print('Best max depth: ', best_depth)\n",
    "\n",
    "sns.lineplot(x=depths, y=scores_depth)\n",
    "plt.xlabel('max depth')\n",
    "plt.ylabel('R2');"
   ]
  },
  {
   "cell_type": "code",
   "execution_count": 13,
   "metadata": {},
   "outputs": [
    {
     "name": "stdout",
     "output_type": "stream",
     "text": [
      "Best gamma:  1.947\n"
     ]
    },
    {
     "data": {
      "image/png": "[encoded data removed]",
      "text/plain": [
       "<Figure size 432x288 with 1 Axes>"
      ]
     },
     "metadata": {
      "needs_background": "light"
     },
     "output_type": "display_data"
    }
   ],
   "source": [
    "gammas = np.linspace(1,  3, num=20)\n",
    "scores_gamma=[]\n",
    "for gamma in gammas:\n",
    "    model = XGBRegressor(gamma=gamma, eta=best_eta, max_depth=best_depth)\n",
    "    model.fit(X=X_train,y=y_train)\n",
    "    score = model.score(X=X_test,y=y_test)\n",
    "    scores_gamma.append(score)\n",
    "\n",
    "best_gamma = round(gammas[scores_gamma.index(max(scores_gamma))],3)\n",
    "print('Best gamma: ', best_gamma)\n",
    "\n",
    "sns.lineplot(x=gammas, y=scores_gamma)\n",
    "plt.xlabel('gamma')\n",
    "plt.ylabel('R2');"
   ]
  },
  {
   "cell_type": "code",
   "execution_count": 14,
   "metadata": {},
   "outputs": [],
   "source": [
    "model = XGBRegressor(gamma=best_gamma, eta=best_eta, max_depth=best_depth)\n",
    "model.fit(X=X_train, y=y_train)\n",
    "y_train_pred = model.predict(X_train)\n",
    "y_test_pred = model.predict(X_test)\n",
    "residuals_test=y_test_pred-y_test\n",
    "r_residuals_test=(y_test_pred-y_test)/y_test*100"
   ]
  },
  {
   "cell_type": "code",
   "execution_count": 15,
   "metadata": {},
   "outputs": [
    {
     "name": "stdout",
     "output_type": "stream",
     "text": [
      "Train: RMSE= 1.465  R2= 0.601\n",
      "Test: RMSE= 1.48  R2= 0.597\n"
     ]
    }
   ],
   "source": [
    "print('Train: RMSE=', np.sqrt(mean_squared_error(y_train, y_train_pred)).round(3),\n",
    "    ' R2=', r2_score(y_train, y_train_pred).round(3))\n",
    "\n",
    "print('Test: RMSE=', np.sqrt(mean_squared_error(y_test, y_test_pred)).round(3),\n",
    "    ' R2=', r2_score(y_test, y_test_pred).round(3))"
   ]
  }
 ],
 "metadata": {
  "kernelspec": {
   "display_name": "Python 3.10.4 ('ds310-ltdu')",
   "language": "python",
   "name": "python3"
  },
  "language_info": {
   "codemirror_mode": {
    "name": "ipython",
    "version": 3
   },
   "file_extension": ".py",
   "mimetype": "text/x-python",
   "name": "python",
   "nbconvert_exporter": "python",
   "pygments_lexer": "ipython3",
   "version": "3.10.4"
  },
  "orig_nbformat": 4,
  "vscode": {
   "interpreter": {
    "hash": "f596823847b41a4877c15772cb4cef8c5fd558509561fe56420e1f0f39d8a61f"
   }
  }
 },
 "nbformat": 4,
 "nbformat_minor": 2
}
