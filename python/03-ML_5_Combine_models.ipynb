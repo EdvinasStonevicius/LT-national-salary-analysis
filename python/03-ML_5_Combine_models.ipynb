{
 "cells": [
  {
   "cell_type": "code",
   "execution_count": 16,
   "metadata": {},
   "outputs": [],
   "source": [
    "import pandas as pd\n",
    "import numpy as np\n",
    "import matplotlib.pyplot as plt\n",
    "import os\n",
    "os.environ['TF_CPP_MIN_LOG_LEVEL'] ='3'\n",
    "import tensorflow as tf\n",
    "import seaborn as sns\n",
    "import matplotlib.pyplot as plt"
   ]
  },
  {
   "attachments": {},
   "cell_type": "markdown",
   "metadata": {},
   "source": [
    "# Data preparation"
   ]
  },
  {
   "attachments": {},
   "cell_type": "markdown",
   "metadata": {},
   "source": [
    "Data import for scikit learn models and transform to TensorFlow dataset for neural network model."
   ]
  },
  {
   "cell_type": "code",
   "execution_count": 17,
   "metadata": {},
   "outputs": [],
   "source": [
    "def df_to_dataset(dataframe, shuffle=False, batch_size=256):\n",
    "  \"\"\"\n",
    "  Create TensorFlow dataset from Pandas data frame.\n",
    "  Label column name should be 'target'\n",
    "  \"\"\"\n",
    "  df = dataframe\n",
    "  #df = dataframe.copy()\n",
    "  labels = df.pop('target')\n",
    "  df = {key: value.to_numpy()[:,tf.newaxis] for key, value in dataframe.items()}\n",
    "  ds = tf.data.Dataset.from_tensor_slices((dict(df), labels))\n",
    "  if shuffle:\n",
    "    ds = ds.shuffle(buffer_size=len(dataframe))\n",
    "  ds = ds.batch(batch_size)\n",
    "  ds = ds.prefetch(batch_size)\n",
    "  return ds"
   ]
  },
  {
   "cell_type": "code",
   "execution_count": 18,
   "metadata": {},
   "outputs": [
    {
     "data": {
      "text/html": [
       "<div>\n",
       "<style scoped>\n",
       "    .dataframe tbody tr th:only-of-type {\n",
       "        vertical-align: middle;\n",
       "    }\n",
       "\n",
       "    .dataframe tbody tr th {\n",
       "        vertical-align: top;\n",
       "    }\n",
       "\n",
       "    .dataframe thead th {\n",
       "        text-align: right;\n",
       "    }\n",
       "</style>\n",
       "<table border=\"1\" class=\"dataframe\">\n",
       "  <thead>\n",
       "    <tr style=\"text-align: right;\">\n",
       "      <th></th>\n",
       "      <th>nace</th>\n",
       "      <th>esize_class</th>\n",
       "      <th>gender</th>\n",
       "      <th>age_class</th>\n",
       "      <th>lpk</th>\n",
       "      <th>education</th>\n",
       "      <th>experience</th>\n",
       "      <th>target</th>\n",
       "    </tr>\n",
       "  </thead>\n",
       "  <tbody>\n",
       "    <tr>\n",
       "      <th>0</th>\n",
       "      <td>C</td>\n",
       "      <td>1_49</td>\n",
       "      <td>M</td>\n",
       "      <td>40-49</td>\n",
       "      <td>p721</td>\n",
       "      <td>G2</td>\n",
       "      <td>13</td>\n",
       "      <td>8.20</td>\n",
       "    </tr>\n",
       "    <tr>\n",
       "      <th>1</th>\n",
       "      <td>C</td>\n",
       "      <td>1_49</td>\n",
       "      <td>F</td>\n",
       "      <td>40-49</td>\n",
       "      <td>p334</td>\n",
       "      <td>G2</td>\n",
       "      <td>0</td>\n",
       "      <td>2.51</td>\n",
       "    </tr>\n",
       "    <tr>\n",
       "      <th>2</th>\n",
       "      <td>M</td>\n",
       "      <td>50_249</td>\n",
       "      <td>F</td>\n",
       "      <td>40-49</td>\n",
       "      <td>p522</td>\n",
       "      <td>G2</td>\n",
       "      <td>18</td>\n",
       "      <td>2.19</td>\n",
       "    </tr>\n",
       "    <tr>\n",
       "      <th>3</th>\n",
       "      <td>M</td>\n",
       "      <td>50_249</td>\n",
       "      <td>F</td>\n",
       "      <td>40-49</td>\n",
       "      <td>p522</td>\n",
       "      <td>G2</td>\n",
       "      <td>12</td>\n",
       "      <td>2.19</td>\n",
       "    </tr>\n",
       "    <tr>\n",
       "      <th>4</th>\n",
       "      <td>M</td>\n",
       "      <td>50_249</td>\n",
       "      <td>F</td>\n",
       "      <td>14-29</td>\n",
       "      <td>p522</td>\n",
       "      <td>G2</td>\n",
       "      <td>0</td>\n",
       "      <td>2.19</td>\n",
       "    </tr>\n",
       "  </tbody>\n",
       "</table>\n",
       "</div>"
      ],
      "text/plain": [
       "  nace esize_class gender age_class   lpk education  experience  target\n",
       "0    C        1_49      M     40-49  p721        G2          13    8.20\n",
       "1    C        1_49      F     40-49  p334        G2           0    2.51\n",
       "2    M      50_249      F     40-49  p522        G2          18    2.19\n",
       "3    M      50_249      F     40-49  p522        G2          12    2.19\n",
       "4    M      50_249      F     14-29  p522        G2           0    2.19"
      ]
     },
     "execution_count": 18,
     "metadata": {},
     "output_type": "execute_result"
    }
   ],
   "source": [
    "data = pd.read_csv('../Data/LT_DU_data_for_ML.csv')\n",
    "data.head()"
   ]
  },
  {
   "cell_type": "code",
   "execution_count": 19,
   "metadata": {},
   "outputs": [
    {
     "data": {
      "text/plain": [
       "<PrefetchDataset element_spec=({'nace': TensorSpec(shape=(None, 1), dtype=tf.string, name=None), 'esize_class': TensorSpec(shape=(None, 1), dtype=tf.string, name=None), 'gender': TensorSpec(shape=(None, 1), dtype=tf.string, name=None), 'age_class': TensorSpec(shape=(None, 1), dtype=tf.string, name=None), 'lpk': TensorSpec(shape=(None, 1), dtype=tf.string, name=None), 'education': TensorSpec(shape=(None, 1), dtype=tf.string, name=None), 'experience': TensorSpec(shape=(None, 1), dtype=tf.int64, name=None)}, TensorSpec(shape=(None,), dtype=tf.float64, name=None))>"
      ]
     },
     "execution_count": 19,
     "metadata": {},
     "output_type": "execute_result"
    }
   ],
   "source": [
    "data_tf = df_to_dataset(data.copy(),  shuffle=False, batch_size=256)\n",
    "data_tf"
   ]
  },
  {
   "attachments": {},
   "cell_type": "markdown",
   "metadata": {},
   "source": [
    "# Import models and predict"
   ]
  },
  {
   "cell_type": "code",
   "execution_count": 20,
   "metadata": {},
   "outputs": [],
   "source": [
    "import joblib\n",
    "xgb_model = joblib.load('./Models/XGBoost_model.joblib')\n",
    "grb_model = joblib.load('./Models/GRBoost_model.joblib')\n",
    "lm_model = joblib.load('./Models/LM_model.joblib')\n",
    "rf_model = joblib.load('./Models/RF_model.joblib')\n",
    "svr_model = joblib.load('./Models/SVR_model.joblib')\n",
    "sk_voting_model = joblib.load('./Models/SklearnVoting_model.joblib')\n",
    "tf_model = tf.keras.models.load_model(\"./Models/tf_model\")"
   ]
  },
  {
   "cell_type": "code",
   "execution_count": 21,
   "metadata": {},
   "outputs": [
    {
     "name": "stdout",
     "output_type": "stream",
     "text": [
      "128/128 [==============================] - 0s 1ms/step\n"
     ]
    },
    {
     "data": {
      "text/html": [
       "<div>\n",
       "<style scoped>\n",
       "    .dataframe tbody tr th:only-of-type {\n",
       "        vertical-align: middle;\n",
       "    }\n",
       "\n",
       "    .dataframe tbody tr th {\n",
       "        vertical-align: top;\n",
       "    }\n",
       "\n",
       "    .dataframe thead th {\n",
       "        text-align: right;\n",
       "    }\n",
       "</style>\n",
       "<table border=\"1\" class=\"dataframe\">\n",
       "  <thead>\n",
       "    <tr style=\"text-align: right;\">\n",
       "      <th></th>\n",
       "      <th>nace</th>\n",
       "      <th>esize_class</th>\n",
       "      <th>gender</th>\n",
       "      <th>age_class</th>\n",
       "      <th>lpk</th>\n",
       "      <th>education</th>\n",
       "      <th>experience</th>\n",
       "      <th>target</th>\n",
       "      <th>xgb</th>\n",
       "      <th>grb</th>\n",
       "      <th>rf</th>\n",
       "      <th>lm</th>\n",
       "      <th>svr</th>\n",
       "      <th>voting</th>\n",
       "      <th>tf</th>\n",
       "    </tr>\n",
       "  </thead>\n",
       "  <tbody>\n",
       "    <tr>\n",
       "      <th>0</th>\n",
       "      <td>C</td>\n",
       "      <td>1_49</td>\n",
       "      <td>M</td>\n",
       "      <td>40-49</td>\n",
       "      <td>p721</td>\n",
       "      <td>G2</td>\n",
       "      <td>13</td>\n",
       "      <td>8.20</td>\n",
       "      <td>4.503678</td>\n",
       "      <td>4.176350</td>\n",
       "      <td>4.778167</td>\n",
       "      <td>4.061958</td>\n",
       "      <td>4.009178</td>\n",
       "      <td>4.390707</td>\n",
       "      <td>4.049001</td>\n",
       "    </tr>\n",
       "    <tr>\n",
       "      <th>1</th>\n",
       "      <td>C</td>\n",
       "      <td>1_49</td>\n",
       "      <td>F</td>\n",
       "      <td>40-49</td>\n",
       "      <td>p334</td>\n",
       "      <td>G2</td>\n",
       "      <td>0</td>\n",
       "      <td>2.51</td>\n",
       "      <td>3.051344</td>\n",
       "      <td>2.980969</td>\n",
       "      <td>3.041897</td>\n",
       "      <td>2.992907</td>\n",
       "      <td>3.122998</td>\n",
       "      <td>3.266770</td>\n",
       "      <td>3.292751</td>\n",
       "    </tr>\n",
       "    <tr>\n",
       "      <th>2</th>\n",
       "      <td>M</td>\n",
       "      <td>50_249</td>\n",
       "      <td>F</td>\n",
       "      <td>40-49</td>\n",
       "      <td>p522</td>\n",
       "      <td>G2</td>\n",
       "      <td>18</td>\n",
       "      <td>2.19</td>\n",
       "      <td>3.425669</td>\n",
       "      <td>3.172908</td>\n",
       "      <td>3.256087</td>\n",
       "      <td>3.945913</td>\n",
       "      <td>2.907824</td>\n",
       "      <td>3.278419</td>\n",
       "      <td>3.245212</td>\n",
       "    </tr>\n",
       "    <tr>\n",
       "      <th>3</th>\n",
       "      <td>M</td>\n",
       "      <td>50_249</td>\n",
       "      <td>F</td>\n",
       "      <td>40-49</td>\n",
       "      <td>p522</td>\n",
       "      <td>G2</td>\n",
       "      <td>12</td>\n",
       "      <td>2.19</td>\n",
       "      <td>3.298834</td>\n",
       "      <td>3.066702</td>\n",
       "      <td>3.219982</td>\n",
       "      <td>3.849712</td>\n",
       "      <td>2.802480</td>\n",
       "      <td>3.200731</td>\n",
       "      <td>3.176937</td>\n",
       "    </tr>\n",
       "    <tr>\n",
       "      <th>4</th>\n",
       "      <td>M</td>\n",
       "      <td>50_249</td>\n",
       "      <td>F</td>\n",
       "      <td>14-29</td>\n",
       "      <td>p522</td>\n",
       "      <td>G2</td>\n",
       "      <td>0</td>\n",
       "      <td>2.19</td>\n",
       "      <td>2.991804</td>\n",
       "      <td>2.920913</td>\n",
       "      <td>2.993366</td>\n",
       "      <td>3.531646</td>\n",
       "      <td>2.741929</td>\n",
       "      <td>3.123216</td>\n",
       "      <td>2.880577</td>\n",
       "    </tr>\n",
       "  </tbody>\n",
       "</table>\n",
       "</div>"
      ],
      "text/plain": [
       "  nace esize_class gender age_class   lpk education  experience  target  \\\n",
       "0    C        1_49      M     40-49  p721        G2          13    8.20   \n",
       "1    C        1_49      F     40-49  p334        G2           0    2.51   \n",
       "2    M      50_249      F     40-49  p522        G2          18    2.19   \n",
       "3    M      50_249      F     40-49  p522        G2          12    2.19   \n",
       "4    M      50_249      F     14-29  p522        G2           0    2.19   \n",
       "\n",
       "        xgb       grb        rf        lm       svr    voting        tf  \n",
       "0  4.503678  4.176350  4.778167  4.061958  4.009178  4.390707  4.049001  \n",
       "1  3.051344  2.980969  3.041897  2.992907  3.122998  3.266770  3.292751  \n",
       "2  3.425669  3.172908  3.256087  3.945913  2.907824  3.278419  3.245212  \n",
       "3  3.298834  3.066702  3.219982  3.849712  2.802480  3.200731  3.176937  \n",
       "4  2.991804  2.920913  2.993366  3.531646  2.741929  3.123216  2.880577  "
      ]
     },
     "execution_count": 21,
     "metadata": {},
     "output_type": "execute_result"
    }
   ],
   "source": [
    "data_ml = data.copy()\n",
    "\n",
    "data_ml['xgb'] = xgb_model.predict(data)\n",
    "data_ml['grb'] = grb_model.predict(data)\n",
    "data_ml['rf'] = rf_model.predict(data)\n",
    "data_ml['lm'] = lm_model.predict(data)\n",
    "data_ml['svr'] = svr_model.predict(data)\n",
    "data_ml['voting'] = sk_voting_model.predict(data)\n",
    "\n",
    "data_ml['tf'] = tf_model.predict(data_tf)\n",
    "\n",
    "data_ml.head()"
   ]
  },
  {
   "cell_type": "code",
   "execution_count": 24,
   "metadata": {},
   "outputs": [],
   "source": [
    "target_columns = ['target', 'xgb', 'grb', 'rf', 'lm', 'svr', 'voting', 'tf']"
   ]
  },
  {
   "cell_type": "code",
   "execution_count": 25,
   "metadata": {},
   "outputs": [
    {
     "data": {
      "image/png": "[encoded data removed]",
      "text/plain": [
       "<Figure size 700x700 with 1 Axes>"
      ]
     },
     "metadata": {},
     "output_type": "display_data"
    }
   ],
   "source": [
    "plt.figure(figsize = (7, 7))\n",
    "sns.heatmap(data_ml[target_columns].corr(), annot=True, cmap='Blues', cbar=False);"
   ]
  },
  {
   "cell_type": "code",
   "execution_count": 26,
   "metadata": {},
   "outputs": [],
   "source": [
    "data_ml.to_csv('../Data/LT_DU_ML_results.csv', index=False)"
   ]
  }
 ],
 "metadata": {
  "kernelspec": {
   "display_name": "tf211",
   "language": "python",
   "name": "python3"
  },
  "language_info": {
   "codemirror_mode": {
    "name": "ipython",
    "version": 3
   },
   "file_extension": ".py",
   "mimetype": "text/x-python",
   "name": "python",
   "nbconvert_exporter": "python",
   "pygments_lexer": "ipython3",
   "version": "3.10.6"
  },
  "orig_nbformat": 4,
  "vscode": {
   "interpreter": {
    "hash": "646a531948125ec56986ec132b6b0924910ab162d70d87c7d6803b25de81a801"
   }
  }
 },
 "nbformat": 4,
 "nbformat_minor": 2
}
