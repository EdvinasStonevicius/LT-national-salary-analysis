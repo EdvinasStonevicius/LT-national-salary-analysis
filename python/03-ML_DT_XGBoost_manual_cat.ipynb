{
 "cells": [
  {
   "cell_type": "code",
   "execution_count": 9,
   "metadata": {},
   "outputs": [],
   "source": [
    "import pandas as pd\n",
    "import numpy as np\n",
    "import matplotlib.pyplot as plt\n",
    "import seaborn as sns\n",
    "from sklearn.model_selection import train_test_split\n",
    "from sklearn.metrics import mean_squared_error\n",
    "from sklearn.metrics import r2_score\n",
    "import shap"
   ]
  },
  {
   "attachments": {},
   "cell_type": "markdown",
   "metadata": {},
   "source": [
    "Import data prepared in previous steps (only data for 2018 survey, full time employment, and removed outliers) and used for all machine learning models. The target is hourly rate and predictors are economic sector (nace), company size (esize_class), gender, age class, profession (lpk), education. All these are categorical variables. Single numerical variable is experience in years."
   ]
  },
  {
   "cell_type": "code",
   "execution_count": 10,
   "metadata": {},
   "outputs": [
    {
     "data": {
      "text/html": [
       "<div>\n",
       "<style scoped>\n",
       "    .dataframe tbody tr th:only-of-type {\n",
       "        vertical-align: middle;\n",
       "    }\n",
       "\n",
       "    .dataframe tbody tr th {\n",
       "        vertical-align: top;\n",
       "    }\n",
       "\n",
       "    .dataframe thead th {\n",
       "        text-align: right;\n",
       "    }\n",
       "</style>\n",
       "<table border=\"1\" class=\"dataframe\">\n",
       "  <thead>\n",
       "    <tr style=\"text-align: right;\">\n",
       "      <th></th>\n",
       "      <th>nace</th>\n",
       "      <th>esize_class</th>\n",
       "      <th>gender</th>\n",
       "      <th>age_class</th>\n",
       "      <th>lpk</th>\n",
       "      <th>education</th>\n",
       "      <th>experience</th>\n",
       "      <th>target</th>\n",
       "    </tr>\n",
       "  </thead>\n",
       "  <tbody>\n",
       "    <tr>\n",
       "      <th>0</th>\n",
       "      <td>C</td>\n",
       "      <td>1_49</td>\n",
       "      <td>M</td>\n",
       "      <td>40-49</td>\n",
       "      <td>p721</td>\n",
       "      <td>G2</td>\n",
       "      <td>13</td>\n",
       "      <td>8.20</td>\n",
       "    </tr>\n",
       "    <tr>\n",
       "      <th>1</th>\n",
       "      <td>C</td>\n",
       "      <td>1_49</td>\n",
       "      <td>F</td>\n",
       "      <td>40-49</td>\n",
       "      <td>p334</td>\n",
       "      <td>G2</td>\n",
       "      <td>0</td>\n",
       "      <td>2.51</td>\n",
       "    </tr>\n",
       "    <tr>\n",
       "      <th>2</th>\n",
       "      <td>M</td>\n",
       "      <td>50_249</td>\n",
       "      <td>F</td>\n",
       "      <td>40-49</td>\n",
       "      <td>p522</td>\n",
       "      <td>G2</td>\n",
       "      <td>18</td>\n",
       "      <td>2.19</td>\n",
       "    </tr>\n",
       "    <tr>\n",
       "      <th>3</th>\n",
       "      <td>M</td>\n",
       "      <td>50_249</td>\n",
       "      <td>F</td>\n",
       "      <td>40-49</td>\n",
       "      <td>p522</td>\n",
       "      <td>G2</td>\n",
       "      <td>12</td>\n",
       "      <td>2.19</td>\n",
       "    </tr>\n",
       "    <tr>\n",
       "      <th>4</th>\n",
       "      <td>M</td>\n",
       "      <td>50_249</td>\n",
       "      <td>F</td>\n",
       "      <td>14-29</td>\n",
       "      <td>p522</td>\n",
       "      <td>G2</td>\n",
       "      <td>0</td>\n",
       "      <td>2.19</td>\n",
       "    </tr>\n",
       "  </tbody>\n",
       "</table>\n",
       "</div>"
      ],
      "text/plain": [
       "  nace esize_class gender age_class   lpk education  experience  target\n",
       "0    C        1_49      M     40-49  p721        G2          13    8.20\n",
       "1    C        1_49      F     40-49  p334        G2           0    2.51\n",
       "2    M      50_249      F     40-49  p522        G2          18    2.19\n",
       "3    M      50_249      F     40-49  p522        G2          12    2.19\n",
       "4    M      50_249      F     14-29  p522        G2           0    2.19"
      ]
     },
     "execution_count": 10,
     "metadata": {},
     "output_type": "execute_result"
    }
   ],
   "source": [
    "data = pd.read_csv('../Data/LT_DU_data_for_ML.csv') \n",
    "data.head()"
   ]
  },
  {
   "attachments": {},
   "cell_type": "markdown",
   "metadata": {},
   "source": [
    "One fifth of records is kept for testing of models."
   ]
  },
  {
   "cell_type": "code",
   "execution_count": 11,
   "metadata": {},
   "outputs": [
    {
     "name": "stdout",
     "output_type": "stream",
     "text": [
      "Dataset lengths: train 26114 , test 6529\n"
     ]
    }
   ],
   "source": [
    "y = data['target']\n",
    "X = data.drop(columns='target')\n",
    "\n",
    "X_train, X_test, y_train, y_test = train_test_split( X, y, test_size=0.20, random_state=0)\n",
    "\n",
    "print('Dataset lengths:', 'train', len(y_train), ', test', len(y_test))"
   ]
  },
  {
   "cell_type": "markdown",
   "metadata": {},
   "source": [
    "# Model and predictions"
   ]
  },
  {
   "cell_type": "markdown",
   "metadata": {},
   "source": [
    "## Initial model"
   ]
  },
  {
   "attachments": {},
   "cell_type": "markdown",
   "metadata": {},
   "source": [
    "Initial XGB model used to test pipline and estimate the baseline accuracy. Numerical feature is scaled with [StandardScaler](https://scikit-learn.org/stable/modules/generated/sklearn.preprocessing.StandardScaler.html) and categorical features are encoded using [OrdinalEncoder](https://scikit-learn.org/stable/modules/generated/sklearn.preprocessing.OrdinalEncoder.html) with manual encoding for selected features. Company size, age_class and education are sorted by expected effect on hourly rate. Profession is sorted by the code value. Economic sector encoded according to the appearance order in train dataset."
   ]
  },
  {
   "cell_type": "code",
   "execution_count": 12,
   "metadata": {},
   "outputs": [],
   "source": [
    "nace = X_train['nace'].unique()\n",
    "gender = X_train['gender'].unique()\n",
    "esize_class = np.array(['1_49', '50_249','GT_250'], dtype=object)\n",
    "age_class = np.array(['14-29','30-39', '40-49', '50-59','60+'], dtype=object)\n",
    "education = np.array([ 'G1', 'G2', 'G3', 'G4'], dtype=object)\n",
    "lpk = np.sort(X_train['lpk'].unique())"
   ]
  },
  {
   "attachments": {},
   "cell_type": "markdown",
   "metadata": {},
   "source": [
    "# Initial model"
   ]
  },
  {
   "cell_type": "code",
   "execution_count": 13,
   "metadata": {},
   "outputs": [
    {
     "data": {
      "text/html": [
       "<style>#sk-container-id-2 {color: black;background-color: white;}#sk-container-id-2 pre{padding: 0;}#sk-container-id-2 div.sk-toggleable {background-color: white;}#sk-container-id-2 label.sk-toggleable__label {cursor: pointer;display: block;width: 100%;margin-bottom: 0;padding: 0.3em;box-sizing: border-box;text-align: center;}#sk-container-id-2 label.sk-toggleable__label-arrow:before {content: \"▸\";float: left;margin-right: 0.25em;color: #696969;}#sk-container-id-2 label.sk-toggleable__label-arrow:hover:before {color: black;}#sk-container-id-2 div.sk-estimator:hover label.sk-toggleable__label-arrow:before {color: black;}#sk-container-id-2 div.sk-toggleable__content {max-height: 0;max-width: 0;overflow: hidden;text-align: left;background-color: #f0f8ff;}#sk-container-id-2 div.sk-toggleable__content pre {margin: 0.2em;color: black;border-radius: 0.25em;background-color: #f0f8ff;}#sk-container-id-2 input.sk-toggleable__control:checked~div.sk-toggleable__content {max-height: 200px;max-width: 100%;overflow: auto;}#sk-container-id-2 input.sk-toggleable__control:checked~label.sk-toggleable__label-arrow:before {content: \"▾\";}#sk-container-id-2 div.sk-estimator input.sk-toggleable__control:checked~label.sk-toggleable__label {background-color: #d4ebff;}#sk-container-id-2 div.sk-label input.sk-toggleable__control:checked~label.sk-toggleable__label {background-color: #d4ebff;}#sk-container-id-2 input.sk-hidden--visually {border: 0;clip: rect(1px 1px 1px 1px);clip: rect(1px, 1px, 1px, 1px);height: 1px;margin: -1px;overflow: hidden;padding: 0;position: absolute;width: 1px;}#sk-container-id-2 div.sk-estimator {font-family: monospace;background-color: #f0f8ff;border: 1px dotted black;border-radius: 0.25em;box-sizing: border-box;margin-bottom: 0.5em;}#sk-container-id-2 div.sk-estimator:hover {background-color: #d4ebff;}#sk-container-id-2 div.sk-parallel-item::after {content: \"\";width: 100%;border-bottom: 1px solid gray;flex-grow: 1;}#sk-container-id-2 div.sk-label:hover label.sk-toggleable__label {background-color: #d4ebff;}#sk-container-id-2 div.sk-serial::before {content: \"\";position: absolute;border-left: 1px solid gray;box-sizing: border-box;top: 0;bottom: 0;left: 50%;z-index: 0;}#sk-container-id-2 div.sk-serial {display: flex;flex-direction: column;align-items: center;background-color: white;padding-right: 0.2em;padding-left: 0.2em;position: relative;}#sk-container-id-2 div.sk-item {position: relative;z-index: 1;}#sk-container-id-2 div.sk-parallel {display: flex;align-items: stretch;justify-content: center;background-color: white;position: relative;}#sk-container-id-2 div.sk-item::before, #sk-container-id-2 div.sk-parallel-item::before {content: \"\";position: absolute;border-left: 1px solid gray;box-sizing: border-box;top: 0;bottom: 0;left: 50%;z-index: -1;}#sk-container-id-2 div.sk-parallel-item {display: flex;flex-direction: column;z-index: 1;position: relative;background-color: white;}#sk-container-id-2 div.sk-parallel-item:first-child::after {align-self: flex-end;width: 50%;}#sk-container-id-2 div.sk-parallel-item:last-child::after {align-self: flex-start;width: 50%;}#sk-container-id-2 div.sk-parallel-item:only-child::after {width: 0;}#sk-container-id-2 div.sk-dashed-wrapped {border: 1px dashed gray;margin: 0 0.4em 0.5em 0.4em;box-sizing: border-box;padding-bottom: 0.4em;background-color: white;}#sk-container-id-2 div.sk-label label {font-family: monospace;font-weight: bold;display: inline-block;line-height: 1.2em;}#sk-container-id-2 div.sk-label-container {text-align: center;}#sk-container-id-2 div.sk-container {/* jupyter's `normalize.less` sets `[hidden] { display: none; }` but bootstrap.min.css set `[hidden] { display: none !important; }` so we also need the `!important` here to be able to override the default hidden behavior on the sphinx rendered scikit-learn.org. See: https://github.com/scikit-learn/scikit-learn/issues/21755 */display: inline-block !important;position: relative;}#sk-container-id-2 div.sk-text-repr-fallback {display: none;}</style><div id=\"sk-container-id-2\" class=\"sk-top-container\"><div class=\"sk-text-repr-fallback\"><pre>Pipeline(steps=[(&#x27;prep&#x27;,\n",
       "                 ColumnTransformer(transformers=[(&#x27;categorical&#x27;,\n",
       "                                                  Pipeline(steps=[(&#x27;ordinal&#x27;,\n",
       "                                                                   OrdinalEncoder(categories=[array([&#x27;C&#x27;, &#x27;N&#x27;, &#x27;D&#x27;, &#x27;E&#x27;, &#x27;Q&#x27;, &#x27;G&#x27;, &#x27;H&#x27;, &#x27;I&#x27;, &#x27;M&#x27;, &#x27;O&#x27;, &#x27;P&#x27;, &#x27;F&#x27;, &#x27;J&#x27;,\n",
       "       &#x27;S&#x27;, &#x27;K&#x27;, &#x27;L&#x27;, &#x27;R&#x27;, &#x27;B&#x27;], dtype=object),\n",
       "                                                                                              array([&#x27;1_49&#x27;, &#x27;50_249&#x27;, &#x27;GT_250&#x27;], dtype=object),\n",
       "                                                                                              array([&#x27;M&#x27;, &#x27;F&#x27;], dtype=object),\n",
       "                                                                                              array([&#x27;14-29&#x27;, &#x27;30-39&#x27;, &#x27;40-49&#x27;, &#x27;50-59&#x27;, &#x27;60+&#x27;], dtype=ob...\n",
       "                              feature_types=None, gamma=0, gpu_id=-1,\n",
       "                              grow_policy=&#x27;depthwise&#x27;, importance_type=None,\n",
       "                              interaction_constraints=&#x27;&#x27;,\n",
       "                              learning_rate=0.300000012, max_bin=256,\n",
       "                              max_cat_threshold=64, max_cat_to_onehot=4,\n",
       "                              max_delta_step=0, max_depth=6, max_leaves=0,\n",
       "                              min_child_weight=1, missing=nan,\n",
       "                              monotone_constraints=&#x27;()&#x27;, n_estimators=100,\n",
       "                              n_jobs=0, num_parallel_tree=1, predictor=&#x27;auto&#x27;,\n",
       "                              random_state=0, ...))])</pre><b>In a Jupyter environment, please rerun this cell to show the HTML representation or trust the notebook. <br />On GitHub, the HTML representation is unable to render, please try loading this page with nbviewer.org.</b></div><div class=\"sk-container\" hidden><div class=\"sk-item sk-dashed-wrapped\"><div class=\"sk-label-container\"><div class=\"sk-label sk-toggleable\"><input class=\"sk-toggleable__control sk-hidden--visually\" id=\"sk-estimator-id-8\" type=\"checkbox\" ><label for=\"sk-estimator-id-8\" class=\"sk-toggleable__label sk-toggleable__label-arrow\">Pipeline</label><div class=\"sk-toggleable__content\"><pre>Pipeline(steps=[(&#x27;prep&#x27;,\n",
       "                 ColumnTransformer(transformers=[(&#x27;categorical&#x27;,\n",
       "                                                  Pipeline(steps=[(&#x27;ordinal&#x27;,\n",
       "                                                                   OrdinalEncoder(categories=[array([&#x27;C&#x27;, &#x27;N&#x27;, &#x27;D&#x27;, &#x27;E&#x27;, &#x27;Q&#x27;, &#x27;G&#x27;, &#x27;H&#x27;, &#x27;I&#x27;, &#x27;M&#x27;, &#x27;O&#x27;, &#x27;P&#x27;, &#x27;F&#x27;, &#x27;J&#x27;,\n",
       "       &#x27;S&#x27;, &#x27;K&#x27;, &#x27;L&#x27;, &#x27;R&#x27;, &#x27;B&#x27;], dtype=object),\n",
       "                                                                                              array([&#x27;1_49&#x27;, &#x27;50_249&#x27;, &#x27;GT_250&#x27;], dtype=object),\n",
       "                                                                                              array([&#x27;M&#x27;, &#x27;F&#x27;], dtype=object),\n",
       "                                                                                              array([&#x27;14-29&#x27;, &#x27;30-39&#x27;, &#x27;40-49&#x27;, &#x27;50-59&#x27;, &#x27;60+&#x27;], dtype=ob...\n",
       "                              feature_types=None, gamma=0, gpu_id=-1,\n",
       "                              grow_policy=&#x27;depthwise&#x27;, importance_type=None,\n",
       "                              interaction_constraints=&#x27;&#x27;,\n",
       "                              learning_rate=0.300000012, max_bin=256,\n",
       "                              max_cat_threshold=64, max_cat_to_onehot=4,\n",
       "                              max_delta_step=0, max_depth=6, max_leaves=0,\n",
       "                              min_child_weight=1, missing=nan,\n",
       "                              monotone_constraints=&#x27;()&#x27;, n_estimators=100,\n",
       "                              n_jobs=0, num_parallel_tree=1, predictor=&#x27;auto&#x27;,\n",
       "                              random_state=0, ...))])</pre></div></div></div><div class=\"sk-serial\"><div class=\"sk-item sk-dashed-wrapped\"><div class=\"sk-label-container\"><div class=\"sk-label sk-toggleable\"><input class=\"sk-toggleable__control sk-hidden--visually\" id=\"sk-estimator-id-9\" type=\"checkbox\" ><label for=\"sk-estimator-id-9\" class=\"sk-toggleable__label sk-toggleable__label-arrow\">prep: ColumnTransformer</label><div class=\"sk-toggleable__content\"><pre>ColumnTransformer(transformers=[(&#x27;categorical&#x27;,\n",
       "                                 Pipeline(steps=[(&#x27;ordinal&#x27;,\n",
       "                                                  OrdinalEncoder(categories=[array([&#x27;C&#x27;, &#x27;N&#x27;, &#x27;D&#x27;, &#x27;E&#x27;, &#x27;Q&#x27;, &#x27;G&#x27;, &#x27;H&#x27;, &#x27;I&#x27;, &#x27;M&#x27;, &#x27;O&#x27;, &#x27;P&#x27;, &#x27;F&#x27;, &#x27;J&#x27;,\n",
       "       &#x27;S&#x27;, &#x27;K&#x27;, &#x27;L&#x27;, &#x27;R&#x27;, &#x27;B&#x27;], dtype=object),\n",
       "                                                                             array([&#x27;1_49&#x27;, &#x27;50_249&#x27;, &#x27;GT_250&#x27;], dtype=object),\n",
       "                                                                             array([&#x27;M&#x27;, &#x27;F&#x27;], dtype=object),\n",
       "                                                                             array([&#x27;14-29&#x27;, &#x27;30-39&#x27;, &#x27;40-49&#x27;, &#x27;50-59&#x27;, &#x27;60+&#x27;], dtype=object),\n",
       "                                                                             array([&#x27;p111&#x27;, &#x27;p11...\n",
       "       &#x27;p723&#x27;, &#x27;p731&#x27;, &#x27;p732&#x27;, &#x27;p741&#x27;, &#x27;p742&#x27;, &#x27;p751&#x27;, &#x27;p752&#x27;, &#x27;p753&#x27;,\n",
       "       &#x27;p754&#x27;, &#x27;p812&#x27;, &#x27;p813&#x27;, &#x27;p814&#x27;, &#x27;p815&#x27;, &#x27;p816&#x27;, &#x27;p817&#x27;, &#x27;p818&#x27;,\n",
       "       &#x27;p821&#x27;, &#x27;p831&#x27;, &#x27;p832&#x27;, &#x27;p833&#x27;, &#x27;p834&#x27;, &#x27;p911&#x27;, &#x27;p912&#x27;, &#x27;p931&#x27;,\n",
       "       &#x27;p932&#x27;, &#x27;p933&#x27;, &#x27;p941&#x27;, &#x27;p961&#x27;, &#x27;p962&#x27;], dtype=object),\n",
       "                                                                             array([&#x27;G1&#x27;, &#x27;G2&#x27;, &#x27;G3&#x27;, &#x27;G4&#x27;], dtype=object)]))]),\n",
       "                                 [&#x27;nace&#x27;, &#x27;esize_class&#x27;, &#x27;gender&#x27;, &#x27;age_class&#x27;,\n",
       "                                  &#x27;lpk&#x27;, &#x27;education&#x27;]),\n",
       "                                (&#x27;numerical&#x27;,\n",
       "                                 Pipeline(steps=[(&#x27;scaler&#x27;, StandardScaler())]),\n",
       "                                 [&#x27;experience&#x27;])])</pre></div></div></div><div class=\"sk-parallel\"><div class=\"sk-parallel-item\"><div class=\"sk-item\"><div class=\"sk-label-container\"><div class=\"sk-label sk-toggleable\"><input class=\"sk-toggleable__control sk-hidden--visually\" id=\"sk-estimator-id-10\" type=\"checkbox\" ><label for=\"sk-estimator-id-10\" class=\"sk-toggleable__label sk-toggleable__label-arrow\">categorical</label><div class=\"sk-toggleable__content\"><pre>[&#x27;nace&#x27;, &#x27;esize_class&#x27;, &#x27;gender&#x27;, &#x27;age_class&#x27;, &#x27;lpk&#x27;, &#x27;education&#x27;]</pre></div></div></div><div class=\"sk-serial\"><div class=\"sk-item\"><div class=\"sk-serial\"><div class=\"sk-item\"><div class=\"sk-estimator sk-toggleable\"><input class=\"sk-toggleable__control sk-hidden--visually\" id=\"sk-estimator-id-11\" type=\"checkbox\" ><label for=\"sk-estimator-id-11\" class=\"sk-toggleable__label sk-toggleable__label-arrow\">OrdinalEncoder</label><div class=\"sk-toggleable__content\"><pre>OrdinalEncoder(categories=[array([&#x27;C&#x27;, &#x27;N&#x27;, &#x27;D&#x27;, &#x27;E&#x27;, &#x27;Q&#x27;, &#x27;G&#x27;, &#x27;H&#x27;, &#x27;I&#x27;, &#x27;M&#x27;, &#x27;O&#x27;, &#x27;P&#x27;, &#x27;F&#x27;, &#x27;J&#x27;,\n",
       "       &#x27;S&#x27;, &#x27;K&#x27;, &#x27;L&#x27;, &#x27;R&#x27;, &#x27;B&#x27;], dtype=object),\n",
       "                           array([&#x27;1_49&#x27;, &#x27;50_249&#x27;, &#x27;GT_250&#x27;], dtype=object),\n",
       "                           array([&#x27;M&#x27;, &#x27;F&#x27;], dtype=object),\n",
       "                           array([&#x27;14-29&#x27;, &#x27;30-39&#x27;, &#x27;40-49&#x27;, &#x27;50-59&#x27;, &#x27;60+&#x27;], dtype=object),\n",
       "                           array([&#x27;p111&#x27;, &#x27;p112&#x27;, &#x27;p121&#x27;, &#x27;p122&#x27;, &#x27;p132&#x27;, &#x27;p133&#x27;, &#x27;p134&#x27;, &#x27;p141&#x27;,\n",
       "       &#x27;p142&#x27;, &#x27;p143&#x27;, &#x27;p21&#x27;, &#x27;p211&#x27;, &#x27;p...\n",
       "       &#x27;p441&#x27;, &#x27;p512&#x27;, &#x27;p513&#x27;, &#x27;p514&#x27;, &#x27;p515&#x27;, &#x27;p522&#x27;, &#x27;p523&#x27;, &#x27;p524&#x27;,\n",
       "       &#x27;p531&#x27;, &#x27;p532&#x27;, &#x27;p541&#x27;, &#x27;p711&#x27;, &#x27;p712&#x27;, &#x27;p713&#x27;, &#x27;p721&#x27;, &#x27;p722&#x27;,\n",
       "       &#x27;p723&#x27;, &#x27;p731&#x27;, &#x27;p732&#x27;, &#x27;p741&#x27;, &#x27;p742&#x27;, &#x27;p751&#x27;, &#x27;p752&#x27;, &#x27;p753&#x27;,\n",
       "       &#x27;p754&#x27;, &#x27;p812&#x27;, &#x27;p813&#x27;, &#x27;p814&#x27;, &#x27;p815&#x27;, &#x27;p816&#x27;, &#x27;p817&#x27;, &#x27;p818&#x27;,\n",
       "       &#x27;p821&#x27;, &#x27;p831&#x27;, &#x27;p832&#x27;, &#x27;p833&#x27;, &#x27;p834&#x27;, &#x27;p911&#x27;, &#x27;p912&#x27;, &#x27;p931&#x27;,\n",
       "       &#x27;p932&#x27;, &#x27;p933&#x27;, &#x27;p941&#x27;, &#x27;p961&#x27;, &#x27;p962&#x27;], dtype=object),\n",
       "                           array([&#x27;G1&#x27;, &#x27;G2&#x27;, &#x27;G3&#x27;, &#x27;G4&#x27;], dtype=object)])</pre></div></div></div></div></div></div></div></div><div class=\"sk-parallel-item\"><div class=\"sk-item\"><div class=\"sk-label-container\"><div class=\"sk-label sk-toggleable\"><input class=\"sk-toggleable__control sk-hidden--visually\" id=\"sk-estimator-id-12\" type=\"checkbox\" ><label for=\"sk-estimator-id-12\" class=\"sk-toggleable__label sk-toggleable__label-arrow\">numerical</label><div class=\"sk-toggleable__content\"><pre>[&#x27;experience&#x27;]</pre></div></div></div><div class=\"sk-serial\"><div class=\"sk-item\"><div class=\"sk-serial\"><div class=\"sk-item\"><div class=\"sk-estimator sk-toggleable\"><input class=\"sk-toggleable__control sk-hidden--visually\" id=\"sk-estimator-id-13\" type=\"checkbox\" ><label for=\"sk-estimator-id-13\" class=\"sk-toggleable__label sk-toggleable__label-arrow\">StandardScaler</label><div class=\"sk-toggleable__content\"><pre>StandardScaler()</pre></div></div></div></div></div></div></div></div></div></div><div class=\"sk-item\"><div class=\"sk-estimator sk-toggleable\"><input class=\"sk-toggleable__control sk-hidden--visually\" id=\"sk-estimator-id-14\" type=\"checkbox\" ><label for=\"sk-estimator-id-14\" class=\"sk-toggleable__label sk-toggleable__label-arrow\">XGBRegressor</label><div class=\"sk-toggleable__content\"><pre>XGBRegressor(base_score=0.5, booster=&#x27;gbtree&#x27;, callbacks=None,\n",
       "             colsample_bylevel=1, colsample_bynode=1, colsample_bytree=1,\n",
       "             early_stopping_rounds=None, enable_categorical=False,\n",
       "             eval_metric=None, feature_types=None, gamma=0, gpu_id=-1,\n",
       "             grow_policy=&#x27;depthwise&#x27;, importance_type=None,\n",
       "             interaction_constraints=&#x27;&#x27;, learning_rate=0.300000012, max_bin=256,\n",
       "             max_cat_threshold=64, max_cat_to_onehot=4, max_delta_step=0,\n",
       "             max_depth=6, max_leaves=0, min_child_weight=1, missing=nan,\n",
       "             monotone_constraints=&#x27;()&#x27;, n_estimators=100, n_jobs=0,\n",
       "             num_parallel_tree=1, predictor=&#x27;auto&#x27;, random_state=0, ...)</pre></div></div></div></div></div></div></div>"
      ],
      "text/plain": [
       "Pipeline(steps=[('prep',\n",
       "                 ColumnTransformer(transformers=[('categorical',\n",
       "                                                  Pipeline(steps=[('ordinal',\n",
       "                                                                   OrdinalEncoder(categories=[array(['C', 'N', 'D', 'E', 'Q', 'G', 'H', 'I', 'M', 'O', 'P', 'F', 'J',\n",
       "       'S', 'K', 'L', 'R', 'B'], dtype=object),\n",
       "                                                                                              array(['1_49', '50_249', 'GT_250'], dtype=object),\n",
       "                                                                                              array(['M', 'F'], dtype=object),\n",
       "                                                                                              array(['14-29', '30-39', '40-49', '50-59', '60+'], dtype=ob...\n",
       "                              feature_types=None, gamma=0, gpu_id=-1,\n",
       "                              grow_policy='depthwise', importance_type=None,\n",
       "                              interaction_constraints='',\n",
       "                              learning_rate=0.300000012, max_bin=256,\n",
       "                              max_cat_threshold=64, max_cat_to_onehot=4,\n",
       "                              max_delta_step=0, max_depth=6, max_leaves=0,\n",
       "                              min_child_weight=1, missing=nan,\n",
       "                              monotone_constraints='()', n_estimators=100,\n",
       "                              n_jobs=0, num_parallel_tree=1, predictor='auto',\n",
       "                              random_state=0, ...))])"
      ]
     },
     "execution_count": 13,
     "metadata": {},
     "output_type": "execute_result"
    }
   ],
   "source": [
    "from sklearn.pipeline import Pipeline\n",
    "from sklearn.compose import ColumnTransformer\n",
    "from sklearn.preprocessing import OrdinalEncoder, StandardScaler\n",
    "from xgboost import XGBRegressor\n",
    "\n",
    "numeric_preprocessor = Pipeline(steps=[(\"scaler\", StandardScaler())])\n",
    "\n",
    "categorical_preprocessor = Pipeline(steps=[(\"ordinal\", OrdinalEncoder(categories=[nace, esize_class, gender, age_class, lpk, education]))])\n",
    "\n",
    "preprocessor = ColumnTransformer(\n",
    "    [\n",
    "        (\"categorical\", categorical_preprocessor, ['nace', 'esize_class', 'gender', 'age_class', 'lpk', 'education']),\n",
    "        (\"numerical\", numeric_preprocessor, ['experience'])\n",
    "    ]\n",
    ")\n",
    "\n",
    "model = Pipeline([('prep', preprocessor), ('regr', XGBRegressor())])\n",
    "model.fit(X=X_train, y=y_train)"
   ]
  },
  {
   "attachments": {},
   "cell_type": "markdown",
   "metadata": {},
   "source": [
    "Function to print model prediction RMSE and R2"
   ]
  },
  {
   "cell_type": "code",
   "execution_count": 14,
   "metadata": {},
   "outputs": [],
   "source": [
    "def print_model_rmse_r2(model, X_train, y_train, X_test, y_test):\n",
    "    \"\"\" \n",
    "    Function to print model prediction RMSE and R2\n",
    "    for train and test datasets\n",
    "        Parameters:\n",
    "        model - model to evaluate\n",
    "        X_train - train features\n",
    "        y_train - train target \n",
    "        X_test - test features\n",
    "        y_test - test target\n",
    "    \"\"\"\n",
    "    y_train_pred = model.predict(X_train)\n",
    "    y_test_pred = model.predict(X_test)\n",
    "\n",
    "    rmse_train = np.sqrt(mean_squared_error(y_train, y_train_pred)).round(3)\n",
    "    rmse_test = np.sqrt(mean_squared_error(y_test, y_test_pred)).round(3)\n",
    "\n",
    "    r2_train = r2_score(y_train, y_train_pred).round(3)\n",
    "    r2_test = r2_score(y_test, y_test_pred).round(3)\n",
    "\n",
    "    print('Train: RMSE=', rmse_train, ' R2=', r2_train,\n",
    "        '\\nTest: RMSE=', rmse_test, ' R2=', r2_test)"
   ]
  },
  {
   "attachments": {},
   "cell_type": "markdown",
   "metadata": {},
   "source": [
    "RMSE and R2 of initial model predicions for train and test datasets"
   ]
  },
  {
   "cell_type": "code",
   "execution_count": 15,
   "metadata": {},
   "outputs": [
    {
     "name": "stdout",
     "output_type": "stream",
     "text": [
      "Train: RMSE= 1.343  R2= 0.722 \n",
      "Test: RMSE= 1.639  R2= 0.583\n"
     ]
    }
   ],
   "source": [
    "print_model_rmse_r2(model, X_train, y_train, X_test, y_test)"
   ]
  },
  {
   "attachments": {},
   "cell_type": "markdown",
   "metadata": {},
   "source": [
    "## Randomized Search CV"
   ]
  },
  {
   "attachments": {},
   "cell_type": "markdown",
   "metadata": {},
   "source": [
    "Randomized cross validation was used to tune model. Randomized search used to quickly explore parameter space and test if tuning of hyperparameters potentially can provide substantial gains over initial model."
   ]
  },
  {
   "cell_type": "code",
   "execution_count": 16,
   "metadata": {},
   "outputs": [
    {
     "data": {
      "text/html": [
       "<div>\n",
       "<style scoped>\n",
       "    .dataframe tbody tr th:only-of-type {\n",
       "        vertical-align: middle;\n",
       "    }\n",
       "\n",
       "    .dataframe tbody tr th {\n",
       "        vertical-align: top;\n",
       "    }\n",
       "\n",
       "    .dataframe thead th {\n",
       "        text-align: right;\n",
       "    }\n",
       "</style>\n",
       "<table border=\"1\" class=\"dataframe\">\n",
       "  <thead>\n",
       "    <tr style=\"text-align: right;\">\n",
       "      <th></th>\n",
       "      <th>24</th>\n",
       "      <th>11</th>\n",
       "      <th>44</th>\n",
       "      <th>63</th>\n",
       "      <th>91</th>\n",
       "    </tr>\n",
       "  </thead>\n",
       "  <tbody>\n",
       "    <tr>\n",
       "      <th>param_regr__subsample</th>\n",
       "      <td>0.9125</td>\n",
       "      <td>0.7375</td>\n",
       "      <td>0.9125</td>\n",
       "      <td>0.3875</td>\n",
       "      <td>0.5625</td>\n",
       "    </tr>\n",
       "    <tr>\n",
       "      <th>param_regr__min_child_weight</th>\n",
       "      <td>1</td>\n",
       "      <td>3</td>\n",
       "      <td>1</td>\n",
       "      <td>4</td>\n",
       "      <td>5</td>\n",
       "    </tr>\n",
       "    <tr>\n",
       "      <th>param_regr__max_depth</th>\n",
       "      <td>8</td>\n",
       "      <td>14</td>\n",
       "      <td>9</td>\n",
       "      <td>9</td>\n",
       "      <td>14</td>\n",
       "    </tr>\n",
       "    <tr>\n",
       "      <th>param_regr__learning_rate</th>\n",
       "      <td>0.05</td>\n",
       "      <td>0.05</td>\n",
       "      <td>0.1</td>\n",
       "      <td>0.05</td>\n",
       "      <td>0.1</td>\n",
       "    </tr>\n",
       "    <tr>\n",
       "      <th>param_regr__lambda</th>\n",
       "      <td>5</td>\n",
       "      <td>5</td>\n",
       "      <td>10</td>\n",
       "      <td>1</td>\n",
       "      <td>20</td>\n",
       "    </tr>\n",
       "    <tr>\n",
       "      <th>param_regr__gamma</th>\n",
       "      <td>1.5</td>\n",
       "      <td>2.0</td>\n",
       "      <td>2.5</td>\n",
       "      <td>2.5</td>\n",
       "      <td>1.0</td>\n",
       "    </tr>\n",
       "    <tr>\n",
       "      <th>param_regr__eta</th>\n",
       "      <td>0.3625</td>\n",
       "      <td>0.175</td>\n",
       "      <td>0.1125</td>\n",
       "      <td>0.425</td>\n",
       "      <td>0.3625</td>\n",
       "    </tr>\n",
       "    <tr>\n",
       "      <th>param_regr__colsample_bytree</th>\n",
       "      <td>0.7375</td>\n",
       "      <td>0.9125</td>\n",
       "      <td>0.825</td>\n",
       "      <td>0.7375</td>\n",
       "      <td>0.7375</td>\n",
       "    </tr>\n",
       "    <tr>\n",
       "      <th>param_regr__alpha</th>\n",
       "      <td>0.125</td>\n",
       "      <td>0.625</td>\n",
       "      <td>1.0</td>\n",
       "      <td>0.625</td>\n",
       "      <td>1.0</td>\n",
       "    </tr>\n",
       "    <tr>\n",
       "      <th>mean_test_score</th>\n",
       "      <td>-1.652668</td>\n",
       "      <td>-1.653088</td>\n",
       "      <td>-1.653791</td>\n",
       "      <td>-1.655172</td>\n",
       "      <td>-1.656223</td>\n",
       "    </tr>\n",
       "    <tr>\n",
       "      <th>std_test_score</th>\n",
       "      <td>0.029799</td>\n",
       "      <td>0.029937</td>\n",
       "      <td>0.031281</td>\n",
       "      <td>0.031669</td>\n",
       "      <td>0.027325</td>\n",
       "    </tr>\n",
       "    <tr>\n",
       "      <th>rank_test_score</th>\n",
       "      <td>1</td>\n",
       "      <td>2</td>\n",
       "      <td>3</td>\n",
       "      <td>4</td>\n",
       "      <td>5</td>\n",
       "    </tr>\n",
       "  </tbody>\n",
       "</table>\n",
       "</div>"
      ],
      "text/plain": [
       "                                    24        11        44        63        91\n",
       "param_regr__subsample           0.9125    0.7375    0.9125    0.3875    0.5625\n",
       "param_regr__min_child_weight         1         3         1         4         5\n",
       "param_regr__max_depth                8        14         9         9        14\n",
       "param_regr__learning_rate         0.05      0.05       0.1      0.05       0.1\n",
       "param_regr__lambda                   5         5        10         1        20\n",
       "param_regr__gamma                  1.5       2.0       2.5       2.5       1.0\n",
       "param_regr__eta                 0.3625     0.175    0.1125     0.425    0.3625\n",
       "param_regr__colsample_bytree    0.7375    0.9125     0.825    0.7375    0.7375\n",
       "param_regr__alpha                0.125     0.625       1.0     0.625       1.0\n",
       "mean_test_score              -1.652668 -1.653088 -1.653791 -1.655172 -1.656223\n",
       "std_test_score                0.029799  0.029937  0.031281  0.031669  0.027325\n",
       "rank_test_score                      1         2         3         4         5"
      ]
     },
     "execution_count": 16,
     "metadata": {},
     "output_type": "execute_result"
    }
   ],
   "source": [
    "from sklearn.model_selection import RandomizedSearchCV\n",
    "from sklearn.model_selection import RepeatedKFold\n",
    "cv = RepeatedKFold(n_splits=5, n_repeats=3, random_state=1)\n",
    "model = Pipeline([('prep', preprocessor), ('regr', XGBRegressor())])\n",
    "\n",
    "grid = {'regr__max_depth':np.arange(5, 15, dtype=int),\n",
    "        'regr__eta': np.linspace(0.05, 0.55, 9),\n",
    "        'regr__gamma': np.linspace(1,  3,  9),\n",
    "        'regr__min_child_weight': np.arange(1, 6, dtype=int),\n",
    "        'regr__subsample': np.linspace(0.3, 1, 9), \n",
    "        'regr__colsample_bytree': np.linspace(0.3,  1,  9),\n",
    "        'regr__alpha': np.linspace(0,  1,  9),\n",
    "        'regr__lambda' : [1, 5, 10, 20],\n",
    "        'regr__learning_rate': np.linspace(0.05,  0.2,  4)\n",
    "         }\n",
    "search = RandomizedSearchCV(model, grid, scoring='neg_root_mean_squared_error', n_iter = 150, cv=cv, n_jobs=-1)\n",
    "results = search.fit(X=X_train,y=y_train)\n",
    "\n",
    "results_pd = pd.DataFrame(results.cv_results_)\n",
    "results_pd.filter(regex='rank|regr|mean_test_score|std_test_score',axis=1).sort_values('rank_test_score').head().T"
   ]
  },
  {
   "cell_type": "code",
   "execution_count": 19,
   "metadata": {},
   "outputs": [
    {
     "data": {
      "text/html": [
       "<style>#sk-container-id-4 {color: black;background-color: white;}#sk-container-id-4 pre{padding: 0;}#sk-container-id-4 div.sk-toggleable {background-color: white;}#sk-container-id-4 label.sk-toggleable__label {cursor: pointer;display: block;width: 100%;margin-bottom: 0;padding: 0.3em;box-sizing: border-box;text-align: center;}#sk-container-id-4 label.sk-toggleable__label-arrow:before {content: \"▸\";float: left;margin-right: 0.25em;color: #696969;}#sk-container-id-4 label.sk-toggleable__label-arrow:hover:before {color: black;}#sk-container-id-4 div.sk-estimator:hover label.sk-toggleable__label-arrow:before {color: black;}#sk-container-id-4 div.sk-toggleable__content {max-height: 0;max-width: 0;overflow: hidden;text-align: left;background-color: #f0f8ff;}#sk-container-id-4 div.sk-toggleable__content pre {margin: 0.2em;color: black;border-radius: 0.25em;background-color: #f0f8ff;}#sk-container-id-4 input.sk-toggleable__control:checked~div.sk-toggleable__content {max-height: 200px;max-width: 100%;overflow: auto;}#sk-container-id-4 input.sk-toggleable__control:checked~label.sk-toggleable__label-arrow:before {content: \"▾\";}#sk-container-id-4 div.sk-estimator input.sk-toggleable__control:checked~label.sk-toggleable__label {background-color: #d4ebff;}#sk-container-id-4 div.sk-label input.sk-toggleable__control:checked~label.sk-toggleable__label {background-color: #d4ebff;}#sk-container-id-4 input.sk-hidden--visually {border: 0;clip: rect(1px 1px 1px 1px);clip: rect(1px, 1px, 1px, 1px);height: 1px;margin: -1px;overflow: hidden;padding: 0;position: absolute;width: 1px;}#sk-container-id-4 div.sk-estimator {font-family: monospace;background-color: #f0f8ff;border: 1px dotted black;border-radius: 0.25em;box-sizing: border-box;margin-bottom: 0.5em;}#sk-container-id-4 div.sk-estimator:hover {background-color: #d4ebff;}#sk-container-id-4 div.sk-parallel-item::after {content: \"\";width: 100%;border-bottom: 1px solid gray;flex-grow: 1;}#sk-container-id-4 div.sk-label:hover label.sk-toggleable__label {background-color: #d4ebff;}#sk-container-id-4 div.sk-serial::before {content: \"\";position: absolute;border-left: 1px solid gray;box-sizing: border-box;top: 0;bottom: 0;left: 50%;z-index: 0;}#sk-container-id-4 div.sk-serial {display: flex;flex-direction: column;align-items: center;background-color: white;padding-right: 0.2em;padding-left: 0.2em;position: relative;}#sk-container-id-4 div.sk-item {position: relative;z-index: 1;}#sk-container-id-4 div.sk-parallel {display: flex;align-items: stretch;justify-content: center;background-color: white;position: relative;}#sk-container-id-4 div.sk-item::before, #sk-container-id-4 div.sk-parallel-item::before {content: \"\";position: absolute;border-left: 1px solid gray;box-sizing: border-box;top: 0;bottom: 0;left: 50%;z-index: -1;}#sk-container-id-4 div.sk-parallel-item {display: flex;flex-direction: column;z-index: 1;position: relative;background-color: white;}#sk-container-id-4 div.sk-parallel-item:first-child::after {align-self: flex-end;width: 50%;}#sk-container-id-4 div.sk-parallel-item:last-child::after {align-self: flex-start;width: 50%;}#sk-container-id-4 div.sk-parallel-item:only-child::after {width: 0;}#sk-container-id-4 div.sk-dashed-wrapped {border: 1px dashed gray;margin: 0 0.4em 0.5em 0.4em;box-sizing: border-box;padding-bottom: 0.4em;background-color: white;}#sk-container-id-4 div.sk-label label {font-family: monospace;font-weight: bold;display: inline-block;line-height: 1.2em;}#sk-container-id-4 div.sk-label-container {text-align: center;}#sk-container-id-4 div.sk-container {/* jupyter's `normalize.less` sets `[hidden] { display: none; }` but bootstrap.min.css set `[hidden] { display: none !important; }` so we also need the `!important` here to be able to override the default hidden behavior on the sphinx rendered scikit-learn.org. See: https://github.com/scikit-learn/scikit-learn/issues/21755 */display: inline-block !important;position: relative;}#sk-container-id-4 div.sk-text-repr-fallback {display: none;}</style><div id=\"sk-container-id-4\" class=\"sk-top-container\"><div class=\"sk-text-repr-fallback\"><pre>Pipeline(steps=[(&#x27;prep&#x27;,\n",
       "                 ColumnTransformer(transformers=[(&#x27;categorical&#x27;,\n",
       "                                                  Pipeline(steps=[(&#x27;ordinal&#x27;,\n",
       "                                                                   OrdinalEncoder(categories=[array([&#x27;C&#x27;, &#x27;N&#x27;, &#x27;D&#x27;, &#x27;E&#x27;, &#x27;Q&#x27;, &#x27;G&#x27;, &#x27;H&#x27;, &#x27;I&#x27;, &#x27;M&#x27;, &#x27;O&#x27;, &#x27;P&#x27;, &#x27;F&#x27;, &#x27;J&#x27;,\n",
       "       &#x27;S&#x27;, &#x27;K&#x27;, &#x27;L&#x27;, &#x27;R&#x27;, &#x27;B&#x27;], dtype=object),\n",
       "                                                                                              array([&#x27;1_49&#x27;, &#x27;50_249&#x27;, &#x27;GT_250&#x27;], dtype=object),\n",
       "                                                                                              array([&#x27;M&#x27;, &#x27;F&#x27;], dtype=object),\n",
       "                                                                                              array([&#x27;14-29&#x27;, &#x27;30-39&#x27;, &#x27;40-49&#x27;, &#x27;50-59&#x27;, &#x27;60+&#x27;], dtype=ob...\n",
       "                              enable_categorical=False, eta=0.3625,\n",
       "                              eval_metric=None, feature_types=None, gamma=1.5,\n",
       "                              gpu_id=-1, grow_policy=&#x27;depthwise&#x27;,\n",
       "                              importance_type=None, interaction_constraints=&#x27;&#x27;,\n",
       "                              lambda=5, learning_rate=0.05, max_bin=256,\n",
       "                              max_cat_threshold=64, max_cat_to_onehot=4,\n",
       "                              max_delta_step=0, max_depth=8, max_leaves=0,\n",
       "                              min_child_weight=1, missing=nan,\n",
       "                              monotone_constraints=&#x27;()&#x27;, n_estimators=100,\n",
       "                              n_jobs=0, ...))])</pre><b>In a Jupyter environment, please rerun this cell to show the HTML representation or trust the notebook. <br />On GitHub, the HTML representation is unable to render, please try loading this page with nbviewer.org.</b></div><div class=\"sk-container\" hidden><div class=\"sk-item sk-dashed-wrapped\"><div class=\"sk-label-container\"><div class=\"sk-label sk-toggleable\"><input class=\"sk-toggleable__control sk-hidden--visually\" id=\"sk-estimator-id-22\" type=\"checkbox\" ><label for=\"sk-estimator-id-22\" class=\"sk-toggleable__label sk-toggleable__label-arrow\">Pipeline</label><div class=\"sk-toggleable__content\"><pre>Pipeline(steps=[(&#x27;prep&#x27;,\n",
       "                 ColumnTransformer(transformers=[(&#x27;categorical&#x27;,\n",
       "                                                  Pipeline(steps=[(&#x27;ordinal&#x27;,\n",
       "                                                                   OrdinalEncoder(categories=[array([&#x27;C&#x27;, &#x27;N&#x27;, &#x27;D&#x27;, &#x27;E&#x27;, &#x27;Q&#x27;, &#x27;G&#x27;, &#x27;H&#x27;, &#x27;I&#x27;, &#x27;M&#x27;, &#x27;O&#x27;, &#x27;P&#x27;, &#x27;F&#x27;, &#x27;J&#x27;,\n",
       "       &#x27;S&#x27;, &#x27;K&#x27;, &#x27;L&#x27;, &#x27;R&#x27;, &#x27;B&#x27;], dtype=object),\n",
       "                                                                                              array([&#x27;1_49&#x27;, &#x27;50_249&#x27;, &#x27;GT_250&#x27;], dtype=object),\n",
       "                                                                                              array([&#x27;M&#x27;, &#x27;F&#x27;], dtype=object),\n",
       "                                                                                              array([&#x27;14-29&#x27;, &#x27;30-39&#x27;, &#x27;40-49&#x27;, &#x27;50-59&#x27;, &#x27;60+&#x27;], dtype=ob...\n",
       "                              enable_categorical=False, eta=0.3625,\n",
       "                              eval_metric=None, feature_types=None, gamma=1.5,\n",
       "                              gpu_id=-1, grow_policy=&#x27;depthwise&#x27;,\n",
       "                              importance_type=None, interaction_constraints=&#x27;&#x27;,\n",
       "                              lambda=5, learning_rate=0.05, max_bin=256,\n",
       "                              max_cat_threshold=64, max_cat_to_onehot=4,\n",
       "                              max_delta_step=0, max_depth=8, max_leaves=0,\n",
       "                              min_child_weight=1, missing=nan,\n",
       "                              monotone_constraints=&#x27;()&#x27;, n_estimators=100,\n",
       "                              n_jobs=0, ...))])</pre></div></div></div><div class=\"sk-serial\"><div class=\"sk-item sk-dashed-wrapped\"><div class=\"sk-label-container\"><div class=\"sk-label sk-toggleable\"><input class=\"sk-toggleable__control sk-hidden--visually\" id=\"sk-estimator-id-23\" type=\"checkbox\" ><label for=\"sk-estimator-id-23\" class=\"sk-toggleable__label sk-toggleable__label-arrow\">prep: ColumnTransformer</label><div class=\"sk-toggleable__content\"><pre>ColumnTransformer(transformers=[(&#x27;categorical&#x27;,\n",
       "                                 Pipeline(steps=[(&#x27;ordinal&#x27;,\n",
       "                                                  OrdinalEncoder(categories=[array([&#x27;C&#x27;, &#x27;N&#x27;, &#x27;D&#x27;, &#x27;E&#x27;, &#x27;Q&#x27;, &#x27;G&#x27;, &#x27;H&#x27;, &#x27;I&#x27;, &#x27;M&#x27;, &#x27;O&#x27;, &#x27;P&#x27;, &#x27;F&#x27;, &#x27;J&#x27;,\n",
       "       &#x27;S&#x27;, &#x27;K&#x27;, &#x27;L&#x27;, &#x27;R&#x27;, &#x27;B&#x27;], dtype=object),\n",
       "                                                                             array([&#x27;1_49&#x27;, &#x27;50_249&#x27;, &#x27;GT_250&#x27;], dtype=object),\n",
       "                                                                             array([&#x27;M&#x27;, &#x27;F&#x27;], dtype=object),\n",
       "                                                                             array([&#x27;14-29&#x27;, &#x27;30-39&#x27;, &#x27;40-49&#x27;, &#x27;50-59&#x27;, &#x27;60+&#x27;], dtype=object),\n",
       "                                                                             array([&#x27;p111&#x27;, &#x27;p11...\n",
       "       &#x27;p723&#x27;, &#x27;p731&#x27;, &#x27;p732&#x27;, &#x27;p741&#x27;, &#x27;p742&#x27;, &#x27;p751&#x27;, &#x27;p752&#x27;, &#x27;p753&#x27;,\n",
       "       &#x27;p754&#x27;, &#x27;p812&#x27;, &#x27;p813&#x27;, &#x27;p814&#x27;, &#x27;p815&#x27;, &#x27;p816&#x27;, &#x27;p817&#x27;, &#x27;p818&#x27;,\n",
       "       &#x27;p821&#x27;, &#x27;p831&#x27;, &#x27;p832&#x27;, &#x27;p833&#x27;, &#x27;p834&#x27;, &#x27;p911&#x27;, &#x27;p912&#x27;, &#x27;p931&#x27;,\n",
       "       &#x27;p932&#x27;, &#x27;p933&#x27;, &#x27;p941&#x27;, &#x27;p961&#x27;, &#x27;p962&#x27;], dtype=object),\n",
       "                                                                             array([&#x27;G1&#x27;, &#x27;G2&#x27;, &#x27;G3&#x27;, &#x27;G4&#x27;], dtype=object)]))]),\n",
       "                                 [&#x27;nace&#x27;, &#x27;esize_class&#x27;, &#x27;gender&#x27;, &#x27;age_class&#x27;,\n",
       "                                  &#x27;lpk&#x27;, &#x27;education&#x27;]),\n",
       "                                (&#x27;numerical&#x27;,\n",
       "                                 Pipeline(steps=[(&#x27;scaler&#x27;, StandardScaler())]),\n",
       "                                 [&#x27;experience&#x27;])])</pre></div></div></div><div class=\"sk-parallel\"><div class=\"sk-parallel-item\"><div class=\"sk-item\"><div class=\"sk-label-container\"><div class=\"sk-label sk-toggleable\"><input class=\"sk-toggleable__control sk-hidden--visually\" id=\"sk-estimator-id-24\" type=\"checkbox\" ><label for=\"sk-estimator-id-24\" class=\"sk-toggleable__label sk-toggleable__label-arrow\">categorical</label><div class=\"sk-toggleable__content\"><pre>[&#x27;nace&#x27;, &#x27;esize_class&#x27;, &#x27;gender&#x27;, &#x27;age_class&#x27;, &#x27;lpk&#x27;, &#x27;education&#x27;]</pre></div></div></div><div class=\"sk-serial\"><div class=\"sk-item\"><div class=\"sk-serial\"><div class=\"sk-item\"><div class=\"sk-estimator sk-toggleable\"><input class=\"sk-toggleable__control sk-hidden--visually\" id=\"sk-estimator-id-25\" type=\"checkbox\" ><label for=\"sk-estimator-id-25\" class=\"sk-toggleable__label sk-toggleable__label-arrow\">OrdinalEncoder</label><div class=\"sk-toggleable__content\"><pre>OrdinalEncoder(categories=[array([&#x27;C&#x27;, &#x27;N&#x27;, &#x27;D&#x27;, &#x27;E&#x27;, &#x27;Q&#x27;, &#x27;G&#x27;, &#x27;H&#x27;, &#x27;I&#x27;, &#x27;M&#x27;, &#x27;O&#x27;, &#x27;P&#x27;, &#x27;F&#x27;, &#x27;J&#x27;,\n",
       "       &#x27;S&#x27;, &#x27;K&#x27;, &#x27;L&#x27;, &#x27;R&#x27;, &#x27;B&#x27;], dtype=object),\n",
       "                           array([&#x27;1_49&#x27;, &#x27;50_249&#x27;, &#x27;GT_250&#x27;], dtype=object),\n",
       "                           array([&#x27;M&#x27;, &#x27;F&#x27;], dtype=object),\n",
       "                           array([&#x27;14-29&#x27;, &#x27;30-39&#x27;, &#x27;40-49&#x27;, &#x27;50-59&#x27;, &#x27;60+&#x27;], dtype=object),\n",
       "                           array([&#x27;p111&#x27;, &#x27;p112&#x27;, &#x27;p121&#x27;, &#x27;p122&#x27;, &#x27;p132&#x27;, &#x27;p133&#x27;, &#x27;p134&#x27;, &#x27;p141&#x27;,\n",
       "       &#x27;p142&#x27;, &#x27;p143&#x27;, &#x27;p21&#x27;, &#x27;p211&#x27;, &#x27;p...\n",
       "       &#x27;p441&#x27;, &#x27;p512&#x27;, &#x27;p513&#x27;, &#x27;p514&#x27;, &#x27;p515&#x27;, &#x27;p522&#x27;, &#x27;p523&#x27;, &#x27;p524&#x27;,\n",
       "       &#x27;p531&#x27;, &#x27;p532&#x27;, &#x27;p541&#x27;, &#x27;p711&#x27;, &#x27;p712&#x27;, &#x27;p713&#x27;, &#x27;p721&#x27;, &#x27;p722&#x27;,\n",
       "       &#x27;p723&#x27;, &#x27;p731&#x27;, &#x27;p732&#x27;, &#x27;p741&#x27;, &#x27;p742&#x27;, &#x27;p751&#x27;, &#x27;p752&#x27;, &#x27;p753&#x27;,\n",
       "       &#x27;p754&#x27;, &#x27;p812&#x27;, &#x27;p813&#x27;, &#x27;p814&#x27;, &#x27;p815&#x27;, &#x27;p816&#x27;, &#x27;p817&#x27;, &#x27;p818&#x27;,\n",
       "       &#x27;p821&#x27;, &#x27;p831&#x27;, &#x27;p832&#x27;, &#x27;p833&#x27;, &#x27;p834&#x27;, &#x27;p911&#x27;, &#x27;p912&#x27;, &#x27;p931&#x27;,\n",
       "       &#x27;p932&#x27;, &#x27;p933&#x27;, &#x27;p941&#x27;, &#x27;p961&#x27;, &#x27;p962&#x27;], dtype=object),\n",
       "                           array([&#x27;G1&#x27;, &#x27;G2&#x27;, &#x27;G3&#x27;, &#x27;G4&#x27;], dtype=object)])</pre></div></div></div></div></div></div></div></div><div class=\"sk-parallel-item\"><div class=\"sk-item\"><div class=\"sk-label-container\"><div class=\"sk-label sk-toggleable\"><input class=\"sk-toggleable__control sk-hidden--visually\" id=\"sk-estimator-id-26\" type=\"checkbox\" ><label for=\"sk-estimator-id-26\" class=\"sk-toggleable__label sk-toggleable__label-arrow\">numerical</label><div class=\"sk-toggleable__content\"><pre>[&#x27;experience&#x27;]</pre></div></div></div><div class=\"sk-serial\"><div class=\"sk-item\"><div class=\"sk-serial\"><div class=\"sk-item\"><div class=\"sk-estimator sk-toggleable\"><input class=\"sk-toggleable__control sk-hidden--visually\" id=\"sk-estimator-id-27\" type=\"checkbox\" ><label for=\"sk-estimator-id-27\" class=\"sk-toggleable__label sk-toggleable__label-arrow\">StandardScaler</label><div class=\"sk-toggleable__content\"><pre>StandardScaler()</pre></div></div></div></div></div></div></div></div></div></div><div class=\"sk-item\"><div class=\"sk-estimator sk-toggleable\"><input class=\"sk-toggleable__control sk-hidden--visually\" id=\"sk-estimator-id-28\" type=\"checkbox\" ><label for=\"sk-estimator-id-28\" class=\"sk-toggleable__label sk-toggleable__label-arrow\">XGBRegressor</label><div class=\"sk-toggleable__content\"><pre>XGBRegressor(alpha=0.125, base_score=0.5, booster=&#x27;gbtree&#x27;, callbacks=None,\n",
       "             colsample_bylevel=1, colsample_bynode=1, colsample_bytree=0.7375,\n",
       "             early_stopping_rounds=None, enable_categorical=False, eta=0.3625,\n",
       "             eval_metric=None, feature_types=None, gamma=1.5, gpu_id=-1,\n",
       "             grow_policy=&#x27;depthwise&#x27;, importance_type=None,\n",
       "             interaction_constraints=&#x27;&#x27;, lambda=5, learning_rate=0.05,\n",
       "             max_bin=256, max_cat_threshold=64, max_cat_to_onehot=4,\n",
       "             max_delta_step=0, max_depth=8, max_leaves=0, min_child_weight=1,\n",
       "             missing=nan, monotone_constraints=&#x27;()&#x27;, n_estimators=100, n_jobs=0, ...)</pre></div></div></div></div></div></div></div>"
      ],
      "text/plain": [
       "Pipeline(steps=[('prep',\n",
       "                 ColumnTransformer(transformers=[('categorical',\n",
       "                                                  Pipeline(steps=[('ordinal',\n",
       "                                                                   OrdinalEncoder(categories=[array(['C', 'N', 'D', 'E', 'Q', 'G', 'H', 'I', 'M', 'O', 'P', 'F', 'J',\n",
       "       'S', 'K', 'L', 'R', 'B'], dtype=object),\n",
       "                                                                                              array(['1_49', '50_249', 'GT_250'], dtype=object),\n",
       "                                                                                              array(['M', 'F'], dtype=object),\n",
       "                                                                                              array(['14-29', '30-39', '40-49', '50-59', '60+'], dtype=ob...\n",
       "                              enable_categorical=False, eta=0.3625,\n",
       "                              eval_metric=None, feature_types=None, gamma=1.5,\n",
       "                              gpu_id=-1, grow_policy='depthwise',\n",
       "                              importance_type=None, interaction_constraints='',\n",
       "                              lambda=5, learning_rate=0.05, max_bin=256,\n",
       "                              max_cat_threshold=64, max_cat_to_onehot=4,\n",
       "                              max_delta_step=0, max_depth=8, max_leaves=0,\n",
       "                              min_child_weight=1, missing=nan,\n",
       "                              monotone_constraints='()', n_estimators=100,\n",
       "                              n_jobs=0, ...))])"
      ]
     },
     "execution_count": 19,
     "metadata": {},
     "output_type": "execute_result"
    }
   ],
   "source": [
    "best_model=results.best_estimator_\n",
    "best_model"
   ]
  },
  {
   "cell_type": "code",
   "execution_count": 20,
   "metadata": {},
   "outputs": [
    {
     "name": "stdout",
     "output_type": "stream",
     "text": [
      "Train: RMSE= 1.487  R2= 0.658 \n",
      "Test: RMSE= 1.615  R2= 0.596\n"
     ]
    }
   ],
   "source": [
    "print_model_rmse_r2(best_model, X_train, y_train, X_test, y_test)"
   ]
  },
  {
   "attachments": {},
   "cell_type": "markdown",
   "metadata": {},
   "source": [
    "Variability of parameter values is significant for five best iterations and performance gain over untuned initial model is marginal. Small changes of scores suggest that the loss gradient is small near best iterations. The model with parameters from best iteration will be used for further analysis. The best model R2 (0.596) for test data is almost the same as using auto encoding (0.604). "
   ]
  },
  {
   "attachments": {},
   "cell_type": "markdown",
   "metadata": {},
   "source": [
    "## Feature importance"
   ]
  },
  {
   "attachments": {},
   "cell_type": "markdown",
   "metadata": {},
   "source": [
    "We tested the feature importance using native XGBoost, permutation and [SHAP](https://shap.readthedocs.io/en/latest/) feature importance methods."
   ]
  },
  {
   "cell_type": "markdown",
   "metadata": {},
   "source": [
    "### XGBoost"
   ]
  },
  {
   "cell_type": "code",
   "execution_count": 21,
   "metadata": {},
   "outputs": [
    {
     "data": {
      "text/html": [
       "<div>\n",
       "<style scoped>\n",
       "    .dataframe tbody tr th:only-of-type {\n",
       "        vertical-align: middle;\n",
       "    }\n",
       "\n",
       "    .dataframe tbody tr th {\n",
       "        vertical-align: top;\n",
       "    }\n",
       "\n",
       "    .dataframe thead th {\n",
       "        text-align: right;\n",
       "    }\n",
       "</style>\n",
       "<table border=\"1\" class=\"dataframe\">\n",
       "  <thead>\n",
       "    <tr style=\"text-align: right;\">\n",
       "      <th></th>\n",
       "      <th>importance</th>\n",
       "    </tr>\n",
       "  </thead>\n",
       "  <tbody>\n",
       "    <tr>\n",
       "      <th>categorical__lpk</th>\n",
       "      <td>0.340183</td>\n",
       "    </tr>\n",
       "    <tr>\n",
       "      <th>categorical__esize_class</th>\n",
       "      <td>0.279252</td>\n",
       "    </tr>\n",
       "    <tr>\n",
       "      <th>categorical__education</th>\n",
       "      <td>0.186450</td>\n",
       "    </tr>\n",
       "    <tr>\n",
       "      <th>categorical__gender</th>\n",
       "      <td>0.077425</td>\n",
       "    </tr>\n",
       "    <tr>\n",
       "      <th>categorical__nace</th>\n",
       "      <td>0.049556</td>\n",
       "    </tr>\n",
       "    <tr>\n",
       "      <th>categorical__age_class</th>\n",
       "      <td>0.033981</td>\n",
       "    </tr>\n",
       "    <tr>\n",
       "      <th>numerical__experience</th>\n",
       "      <td>0.033152</td>\n",
       "    </tr>\n",
       "  </tbody>\n",
       "</table>\n",
       "</div>"
      ],
      "text/plain": [
       "                          importance\n",
       "categorical__lpk            0.340183\n",
       "categorical__esize_class    0.279252\n",
       "categorical__education      0.186450\n",
       "categorical__gender         0.077425\n",
       "categorical__nace           0.049556\n",
       "categorical__age_class      0.033981\n",
       "numerical__experience       0.033152"
      ]
     },
     "execution_count": 21,
     "metadata": {},
     "output_type": "execute_result"
    }
   ],
   "source": [
    "best_regr = best_model.named_steps[\"regr\"]\n",
    "feature_importances = best_regr.feature_importances_\n",
    "\n",
    "prep = best_model.named_steps[\"prep\"]\n",
    "feature_names = prep.get_feature_names_out()\n",
    "\n",
    "importances = pd.DataFrame({'importance': feature_importances }, index=feature_names )\n",
    "importances.sort_values('importance', ascending=False)"
   ]
  },
  {
   "cell_type": "markdown",
   "metadata": {},
   "source": [
    "### SHAP"
   ]
  },
  {
   "cell_type": "code",
   "execution_count": 22,
   "metadata": {},
   "outputs": [
    {
     "name": "stderr",
     "output_type": "stream",
     "text": [
      "ntree_limit is deprecated, use `iteration_range` or model slicing instead.\n"
     ]
    },
    {
     "data": {
      "image/png": "[encoded data removed]",
      "text/plain": [
       "<Figure size 800x430 with 1 Axes>"
      ]
     },
     "metadata": {},
     "output_type": "display_data"
    }
   ],
   "source": [
    "explainer = shap.TreeExplainer(best_regr, feature_names=feature_names)\n",
    "shap_values = explainer(prep.transform(X_test))\n",
    "shap.summary_plot(shap_values, plot_type=\"bar\");"
   ]
  },
  {
   "cell_type": "code",
   "execution_count": 23,
   "metadata": {},
   "outputs": [
    {
     "name": "stderr",
     "output_type": "stream",
     "text": [
      "ntree_limit is deprecated, use `iteration_range` or model slicing instead.\n"
     ]
    },
    {
     "data": {
      "image/png": "[encoded data removed]",
      "text/plain": [
       "<Figure size 800x430 with 1 Axes>"
      ]
     },
     "metadata": {},
     "output_type": "display_data"
    }
   ],
   "source": [
    "shap_values = shap.TreeExplainer(best_model['regr']).shap_values(prep.transform(X_test))\n",
    "shap.summary_plot(shap_values, feature_names=feature_names );"
   ]
  },
  {
   "attachments": {},
   "cell_type": "markdown",
   "metadata": {},
   "source": [
    "## Permutation importance"
   ]
  },
  {
   "cell_type": "code",
   "execution_count": 24,
   "metadata": {},
   "outputs": [
    {
     "data": {
      "image/png": "[encoded data removed]",
      "text/plain": [
       "<Figure size 640x480 with 1 Axes>"
      ]
     },
     "metadata": {},
     "output_type": "display_data"
    }
   ],
   "source": [
    "from sklearn.inspection import permutation_importance\n",
    "\n",
    "perm_importance = permutation_importance(best_model, X_test, y_test,  n_repeats=100,  random_state=0)\n",
    "importance_order = perm_importance.importances_mean.argsort()\n",
    "fig, ax = plt.subplots()\n",
    "plt.boxplot(\n",
    "    perm_importance.importances[importance_order].T,\n",
    "    vert=False,\n",
    "    labels=np.array(X_test.columns)[importance_order],\n",
    ");"
   ]
  },
  {
   "attachments": {},
   "cell_type": "markdown",
   "metadata": {},
   "source": [
    "By far the most important feature is profession (lpk) followed by company size and education. The economic sector, age, gender and experience are less important. Feature immportance results might be affected by large cardinality of lpk and nace."
   ]
  },
  {
   "attachments": {},
   "cell_type": "markdown",
   "metadata": {},
   "source": [
    "# Model (Pipline) Serialization "
   ]
  },
  {
   "cell_type": "code",
   "execution_count": 25,
   "metadata": {},
   "outputs": [
    {
     "data": {
      "text/plain": [
       "['./Models/XGBoost_manual_cat_model.joblib']"
      ]
     },
     "execution_count": 25,
     "metadata": {},
     "output_type": "execute_result"
    }
   ],
   "source": [
    "import joblib\n",
    "joblib.dump(best_model, './Models/XGBoost_manual_cat_model.joblib')"
   ]
  }
 ],
 "metadata": {
  "kernelspec": {
   "display_name": "tf211",
   "language": "python",
   "name": "python3"
  },
  "language_info": {
   "codemirror_mode": {
    "name": "ipython",
    "version": 3
   },
   "file_extension": ".py",
   "mimetype": "text/x-python",
   "name": "python",
   "nbconvert_exporter": "python",
   "pygments_lexer": "ipython3",
   "version": "3.10.6"
  },
  "orig_nbformat": 4,
  "vscode": {
   "interpreter": {
    "hash": "646a531948125ec56986ec132b6b0924910ab162d70d87c7d6803b25de81a801"
   }
  }
 },
 "nbformat": 4,
 "nbformat_minor": 2
}
