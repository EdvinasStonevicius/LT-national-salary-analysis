{
 "cells": [
  {
   "cell_type": "code",
   "execution_count": 42,
   "metadata": {},
   "outputs": [],
   "source": [
    "import pandas as pd\n",
    "import numpy as np\n",
    "import matplotlib.pyplot as plt\n",
    "import seaborn as sns\n",
    "import tensorflow as tf\n",
    "import os\n",
    "os.environ['TF_CPP_MIN_LOG_LEVEL'] ='3'"
   ]
  },
  {
   "cell_type": "code",
   "execution_count": 43,
   "metadata": {},
   "outputs": [],
   "source": [
    "data_import = pd.read_csv('../Data/SQLout_employees.csv')"
   ]
  },
  {
   "cell_type": "code",
   "execution_count": 44,
   "metadata": {},
   "outputs": [
    {
     "data": {
      "text/plain": [
       "(36785, 8)"
      ]
     },
     "execution_count": 44,
     "metadata": {},
     "output_type": "execute_result"
    }
   ],
   "source": [
    "data = data_import.query('arrangement == \"FT\" & year==2018', inplace=False )[['nace', \n",
    "                          'esize_class', 'gender', \n",
    "                          'age_class', 'lpk',  'education','experience', 'hourly_rate' ]]\n",
    "data = data.rename(columns={'hourly_rate': 'target'})\n",
    "data.shape"
   ]
  },
  {
   "cell_type": "code",
   "execution_count": 45,
   "metadata": {},
   "outputs": [],
   "source": [
    "def outlier_iqr_upper(x, n=1.5):\n",
    "    \"\"\" check if x is outlier using IQR\"\"\"\n",
    "    iqr = x.quantile(0.75)-x.quantile(0.25)\n",
    "    upper_lim = x.quantile(0.75)+iqr*n\n",
    "    return x>=upper_lim"
   ]
  },
  {
   "cell_type": "code",
   "execution_count": 46,
   "metadata": {},
   "outputs": [],
   "source": [
    "data['lpk2'] = data['lpk'] // 10\n",
    "data['outlier'] = data.groupby('lpk2')['target'].apply(outlier_iqr_upper, n=1.0)\n",
    "data=data.query('outlier==False')\n",
    "data = data.drop(columns=['outlier', 'lpk2'])\n",
    "data['lpk'] = data['lpk'].apply(str)"
   ]
  },
  {
   "cell_type": "code",
   "execution_count": 47,
   "metadata": {},
   "outputs": [
    {
     "name": "stdout",
     "output_type": "stream",
     "text": [
      "(34259, 8)\n"
     ]
    },
    {
     "data": {
      "text/html": [
       "<div>\n",
       "<style scoped>\n",
       "    .dataframe tbody tr th:only-of-type {\n",
       "        vertical-align: middle;\n",
       "    }\n",
       "\n",
       "    .dataframe tbody tr th {\n",
       "        vertical-align: top;\n",
       "    }\n",
       "\n",
       "    .dataframe thead th {\n",
       "        text-align: right;\n",
       "    }\n",
       "</style>\n",
       "<table border=\"1\" class=\"dataframe\">\n",
       "  <thead>\n",
       "    <tr style=\"text-align: right;\">\n",
       "      <th></th>\n",
       "      <th>nace</th>\n",
       "      <th>esize_class</th>\n",
       "      <th>gender</th>\n",
       "      <th>age_class</th>\n",
       "      <th>lpk</th>\n",
       "      <th>education</th>\n",
       "      <th>experience</th>\n",
       "      <th>target</th>\n",
       "    </tr>\n",
       "  </thead>\n",
       "  <tbody>\n",
       "    <tr>\n",
       "      <th>44952</th>\n",
       "      <td>C</td>\n",
       "      <td>1_49</td>\n",
       "      <td>M</td>\n",
       "      <td>50-59</td>\n",
       "      <td>722</td>\n",
       "      <td>G2</td>\n",
       "      <td>13</td>\n",
       "      <td>8.13</td>\n",
       "    </tr>\n",
       "    <tr>\n",
       "      <th>44953</th>\n",
       "      <td>C</td>\n",
       "      <td>1_49</td>\n",
       "      <td>M</td>\n",
       "      <td>40-49</td>\n",
       "      <td>721</td>\n",
       "      <td>G2</td>\n",
       "      <td>13</td>\n",
       "      <td>8.20</td>\n",
       "    </tr>\n",
       "    <tr>\n",
       "      <th>44954</th>\n",
       "      <td>C</td>\n",
       "      <td>1_49</td>\n",
       "      <td>M</td>\n",
       "      <td>50-59</td>\n",
       "      <td>722</td>\n",
       "      <td>G2</td>\n",
       "      <td>13</td>\n",
       "      <td>8.20</td>\n",
       "    </tr>\n",
       "    <tr>\n",
       "      <th>44955</th>\n",
       "      <td>C</td>\n",
       "      <td>1_49</td>\n",
       "      <td>F</td>\n",
       "      <td>40-49</td>\n",
       "      <td>334</td>\n",
       "      <td>G2</td>\n",
       "      <td>0</td>\n",
       "      <td>2.51</td>\n",
       "    </tr>\n",
       "    <tr>\n",
       "      <th>44956</th>\n",
       "      <td>M</td>\n",
       "      <td>50_249</td>\n",
       "      <td>F</td>\n",
       "      <td>40-49</td>\n",
       "      <td>522</td>\n",
       "      <td>G2</td>\n",
       "      <td>18</td>\n",
       "      <td>2.19</td>\n",
       "    </tr>\n",
       "  </tbody>\n",
       "</table>\n",
       "</div>"
      ],
      "text/plain": [
       "      nace esize_class gender age_class  lpk education  experience  target\n",
       "44952    C        1_49      M     50-59  722        G2          13    8.13\n",
       "44953    C        1_49      M     40-49  721        G2          13    8.20\n",
       "44954    C        1_49      M     50-59  722        G2          13    8.20\n",
       "44955    C        1_49      F     40-49  334        G2           0    2.51\n",
       "44956    M      50_249      F     40-49  522        G2          18    2.19"
      ]
     },
     "execution_count": 47,
     "metadata": {},
     "output_type": "execute_result"
    }
   ],
   "source": [
    "dataset=data.copy()\n",
    "print(dataset.shape)\n",
    "dataset.head()"
   ]
  },
  {
   "cell_type": "markdown",
   "metadata": {},
   "source": [
    "## Datasets"
   ]
  },
  {
   "cell_type": "code",
   "execution_count": 48,
   "metadata": {},
   "outputs": [],
   "source": [
    "train_dataset = dataset.sample(frac=0.8, random_state=99)\n",
    "test_dataset = dataset.drop(train_dataset.index)\n",
    "train_target = train_dataset.pop(\"target\")\n",
    "test_target = test_dataset.pop(\"target\")"
   ]
  },
  {
   "cell_type": "code",
   "execution_count": 49,
   "metadata": {},
   "outputs": [],
   "source": [
    "train_ltdu_features_dict = {name: np.array(value) for name, value in train_dataset.items()}\n",
    "test_ltdu_features_dict = {name: np.array(value) for name, value in test_dataset.items()}"
   ]
  },
  {
   "cell_type": "markdown",
   "metadata": {},
   "source": [
    "# Feature preprocessing"
   ]
  },
  {
   "cell_type": "code",
   "execution_count": 50,
   "metadata": {},
   "outputs": [
    {
     "data": {
      "text/plain": [
       "{'nace': <KerasTensor: shape=(None, 1) dtype=string (created by layer 'nace')>,\n",
       " 'esize_class': <KerasTensor: shape=(None, 1) dtype=string (created by layer 'esize_class')>,\n",
       " 'gender': <KerasTensor: shape=(None, 1) dtype=string (created by layer 'gender')>,\n",
       " 'age_class': <KerasTensor: shape=(None, 1) dtype=string (created by layer 'age_class')>,\n",
       " 'lpk': <KerasTensor: shape=(None, 1) dtype=string (created by layer 'lpk')>,\n",
       " 'education': <KerasTensor: shape=(None, 1) dtype=string (created by layer 'education')>,\n",
       " 'experience': <KerasTensor: shape=(None, 1) dtype=float32 (created by layer 'experience')>}"
      ]
     },
     "execution_count": 50,
     "metadata": {},
     "output_type": "execute_result"
    }
   ],
   "source": [
    "inputs = {}\n",
    "for name, column in train_dataset.items():\n",
    "  dtype = column.dtype\n",
    "  if dtype == object:\n",
    "    dtype = tf.string\n",
    "  else:\n",
    "    dtype = tf.float32\n",
    "\n",
    "  inputs[name] = tf.keras.Input(shape=(1,), name=name, dtype=dtype)\n",
    "inputs"
   ]
  },
  {
   "cell_type": "code",
   "execution_count": 51,
   "metadata": {},
   "outputs": [],
   "source": [
    "numeric_inputs = {name:input for name, input in inputs.items()\n",
    "                  if input.dtype==tf.float32}\n",
    "\n",
    "x = tf.keras.layers.Concatenate()(list(numeric_inputs.values()))\n",
    "norm = tf.keras.layers.Normalization()\n",
    "norm.adapt(np.array(train_dataset[numeric_inputs.keys()]))\n",
    "all_numeric_inputs = norm(x)\n"
   ]
  },
  {
   "cell_type": "code",
   "execution_count": 52,
   "metadata": {},
   "outputs": [],
   "source": [
    "preprocessed_inputs = [all_numeric_inputs]"
   ]
  },
  {
   "cell_type": "code",
   "execution_count": 53,
   "metadata": {},
   "outputs": [],
   "source": [
    "for name, input in inputs.items():\n",
    "  if input.dtype == tf.float32:\n",
    "    continue\n",
    "\n",
    "  lookup = tf.keras.layers.StringLookup(vocabulary=np.unique(train_dataset[name]))\n",
    "  one_hot = tf.keras.layers.CategoryEncoding(num_tokens=lookup.vocabulary_size())\n",
    "\n",
    "  x = lookup(input)\n",
    "  x = one_hot(x)\n",
    "  preprocessed_inputs.append(x)"
   ]
  },
  {
   "cell_type": "code",
   "execution_count": 54,
   "metadata": {},
   "outputs": [
    {
     "data": {
      "text/plain": [
       "[<KerasTensor: shape=(None, 1) dtype=float32 (created by layer 'normalization_2')>,\n",
       " <KerasTensor: shape=(None, 19) dtype=float32 (created by layer 'category_encoding_12')>,\n",
       " <KerasTensor: shape=(None, 4) dtype=float32 (created by layer 'category_encoding_13')>,\n",
       " <KerasTensor: shape=(None, 3) dtype=float32 (created by layer 'category_encoding_14')>,\n",
       " <KerasTensor: shape=(None, 6) dtype=float32 (created by layer 'category_encoding_15')>,\n",
       " <KerasTensor: shape=(None, 118) dtype=float32 (created by layer 'category_encoding_16')>,\n",
       " <KerasTensor: shape=(None, 5) dtype=float32 (created by layer 'category_encoding_17')>]"
      ]
     },
     "execution_count": 54,
     "metadata": {},
     "output_type": "execute_result"
    }
   ],
   "source": [
    "preprocessed_inputs"
   ]
  },
  {
   "cell_type": "code",
   "execution_count": 55,
   "metadata": {},
   "outputs": [],
   "source": [
    "preprocessed_inputs_cat = tf.keras.layers.Concatenate()(preprocessed_inputs)\n",
    "ltdu_preprocessing = tf.keras.Model(inputs, preprocessed_inputs_cat)"
   ]
  },
  {
   "cell_type": "markdown",
   "metadata": {},
   "source": [
    "# Model and predictions"
   ]
  },
  {
   "cell_type": "code",
   "execution_count": 56,
   "metadata": {},
   "outputs": [],
   "source": [
    "def ltdu_model(preprocessing_head, inputs):\n",
    "  body = tf.keras.Sequential([\n",
    "    tf.keras.layers.Dense(64),\n",
    "    tf.keras.layers.Dropout(0.3),\n",
    "    tf.keras.layers.Dense(1)\n",
    "  ])\n",
    "\n",
    "  preprocessed_inputs = preprocessing_head(inputs)\n",
    "  result = body(preprocessed_inputs)\n",
    "  model = tf.keras.Model(inputs, result)\n",
    "\n",
    "  model.compile(loss=tf.keras.losses.MeanSquaredError(),\n",
    "                optimizer=tf.keras.optimizers.Adam(),\n",
    "                metrics=[tf.keras.metrics.RootMeanSquaredError()]),\n",
    "  return model\n",
    "\n",
    "ltdu_model = ltdu_model(ltdu_preprocessing, inputs)"
   ]
  },
  {
   "cell_type": "code",
   "execution_count": 57,
   "metadata": {},
   "outputs": [],
   "source": [
    "early_stopping = tf.keras.callbacks.EarlyStopping(\n",
    "    min_delta=0.001,\n",
    "    patience=10, \n",
    "    restore_best_weights=True,\n",
    ")"
   ]
  },
  {
   "cell_type": "code",
   "execution_count": 61,
   "metadata": {},
   "outputs": [
    {
     "name": "stdout",
     "output_type": "stream",
     "text": [
      "Epoch 1/50\n",
      "686/686 [==============================] - 7s 11ms/step - loss: 3.4103 - root_mean_squared_error: 1.8467 - val_loss: 3.1735 - val_root_mean_squared_error: 1.7814\n",
      "Epoch 2/50\n",
      "686/686 [==============================] - 7s 10ms/step - loss: 3.3976 - root_mean_squared_error: 1.8432 - val_loss: 3.2680 - val_root_mean_squared_error: 1.8078\n",
      "Epoch 3/50\n",
      "686/686 [==============================] - 7s 10ms/step - loss: 3.4225 - root_mean_squared_error: 1.8500 - val_loss: 3.2015 - val_root_mean_squared_error: 1.7893\n",
      "Epoch 4/50\n",
      "686/686 [==============================] - 7s 10ms/step - loss: 3.4079 - root_mean_squared_error: 1.8461 - val_loss: 3.1754 - val_root_mean_squared_error: 1.7820\n",
      "Epoch 5/50\n",
      "686/686 [==============================] - 7s 11ms/step - loss: 3.3770 - root_mean_squared_error: 1.8377 - val_loss: 3.1650 - val_root_mean_squared_error: 1.7790\n",
      "Epoch 6/50\n",
      "686/686 [==============================] - 7s 10ms/step - loss: 3.3730 - root_mean_squared_error: 1.8366 - val_loss: 3.1757 - val_root_mean_squared_error: 1.7820\n",
      "Epoch 7/50\n",
      "686/686 [==============================] - 7s 11ms/step - loss: 3.3490 - root_mean_squared_error: 1.8300 - val_loss: 3.1807 - val_root_mean_squared_error: 1.7834\n",
      "Epoch 8/50\n",
      "686/686 [==============================] - 7s 10ms/step - loss: 3.3804 - root_mean_squared_error: 1.8386 - val_loss: 3.2024 - val_root_mean_squared_error: 1.7895\n",
      "Epoch 9/50\n",
      "686/686 [==============================] - 7s 11ms/step - loss: 3.3560 - root_mean_squared_error: 1.8319 - val_loss: 3.1677 - val_root_mean_squared_error: 1.7798\n",
      "Epoch 10/50\n",
      "686/686 [==============================] - 7s 10ms/step - loss: 3.4079 - root_mean_squared_error: 1.8461 - val_loss: 3.2004 - val_root_mean_squared_error: 1.7890\n",
      "Epoch 11/50\n",
      "686/686 [==============================] - 7s 10ms/step - loss: 3.3799 - root_mean_squared_error: 1.8385 - val_loss: 3.1724 - val_root_mean_squared_error: 1.7811\n",
      "Epoch 12/50\n",
      "686/686 [==============================] - 7s 10ms/step - loss: 3.3914 - root_mean_squared_error: 1.8416 - val_loss: 3.1677 - val_root_mean_squared_error: 1.7798\n",
      "Epoch 13/50\n",
      "686/686 [==============================] - 7s 10ms/step - loss: 3.3678 - root_mean_squared_error: 1.8351 - val_loss: 3.1709 - val_root_mean_squared_error: 1.7807\n",
      "Epoch 14/50\n",
      "686/686 [==============================] - 7s 11ms/step - loss: 3.3426 - root_mean_squared_error: 1.8283 - val_loss: 3.1760 - val_root_mean_squared_error: 1.7821\n",
      "Epoch 15/50\n",
      "686/686 [==============================] - 7s 11ms/step - loss: 3.3396 - root_mean_squared_error: 1.8275 - val_loss: 3.1657 - val_root_mean_squared_error: 1.7792\n"
     ]
    }
   ],
   "source": [
    "history =ltdu_model.fit(x=train_ltdu_features_dict,\n",
    "                        y=train_target,\n",
    "                        epochs=50,\n",
    "                        validation_split = 0.2,\n",
    "                        callbacks=[early_stopping])"
   ]
  },
  {
   "cell_type": "code",
   "execution_count": 62,
   "metadata": {},
   "outputs": [
    {
     "name": "stdout",
     "output_type": "stream",
     "text": [
      "Minimum validation RMSE: 1.779041051864624\n"
     ]
    },
    {
     "data": {
      "image/png": "[encoded data removed]",
      "text/plain": [
       "<Figure size 640x480 with 1 Axes>"
      ]
     },
     "metadata": {},
     "output_type": "display_data"
    }
   ],
   "source": [
    "history_df = pd.DataFrame(history.history)\n",
    "history_df.loc[1:, ['root_mean_squared_error', 'val_root_mean_squared_error']].plot();\n",
    "print(\"Minimum validation RMSE: {}\".format(history_df['val_root_mean_squared_error'].min()))"
   ]
  },
  {
   "cell_type": "code",
   "execution_count": 63,
   "metadata": {},
   "outputs": [
    {
     "name": "stdout",
     "output_type": "stream",
     "text": [
      "215/215 [==============================] - 2s 8ms/step - loss: 3.1737 - root_mean_squared_error: 1.7815\n",
      "RMSE 1.7814784049987793\n"
     ]
    }
   ],
   "source": [
    "loss, rmse =ltdu_model.evaluate(x=test_ltdu_features_dict, y=test_target)\n",
    "print(\"RMSE\", rmse)"
   ]
  }
 ],
 "metadata": {
  "kernelspec": {
   "display_name": "Python 3.10.6 ('tf')",
   "language": "python",
   "name": "python3"
  },
  "language_info": {
   "codemirror_mode": {
    "name": "ipython",
    "version": 3
   },
   "file_extension": ".py",
   "mimetype": "text/x-python",
   "name": "python",
   "nbconvert_exporter": "python",
   "pygments_lexer": "ipython3",
   "version": "3.10.6"
  },
  "orig_nbformat": 4,
  "vscode": {
   "interpreter": {
    "hash": "2fb52d76c6ca317d04f47a1b4ccd0834985762d1aaf348161a3099093323cd59"
   }
  }
 },
 "nbformat": 4,
 "nbformat_minor": 2
}
