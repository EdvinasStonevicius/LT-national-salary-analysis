{
 "cells": [
  {
   "cell_type": "code",
   "execution_count": 106,
   "metadata": {},
   "outputs": [],
   "source": [
    "import pandas as pd\n",
    "import numpy as np\n",
    "import matplotlib.pyplot as plt\n",
    "import seaborn as sns\n",
    "from sklearn.metrics import mean_squared_error\n",
    "from sklearn.metrics import r2_score\n",
    "from scipy import stats"
   ]
  },
  {
   "cell_type": "code",
   "execution_count": 107,
   "metadata": {},
   "outputs": [
    {
     "data": {
      "text/plain": [
       "Index(['lpk', 'hourly_rate', 'esize_class_orig', 'esize_class_1_49',\n",
       "       'esize_class_50_249', 'esize_class_GT_250', 'gender_orig', 'gender_M',\n",
       "       'age_class_orig', 'age_class_14-29', 'age_class_30-39',\n",
       "       'age_class_40-49', 'age_class_50-59', 'age_class_60+', 'education_orig',\n",
       "       'education_G1', 'education_G2', 'education_G3', 'education_G4', 'lpk1',\n",
       "       'lpk2', 'lpk1_nc', 'outlier', 'nace_orig', 'nace_B', 'nace_C', 'nace_D',\n",
       "       'nace_E', 'nace_F', 'nace_G', 'nace_H', 'nace_I', 'nace_J', 'nace_K',\n",
       "       'nace_L', 'nace_M', 'nace_N', 'nace_O', 'nace_P', 'nace_Q', 'nace_R',\n",
       "       'nace_S'],\n",
       "      dtype='object')"
      ]
     },
     "execution_count": 107,
     "metadata": {},
     "output_type": "execute_result"
    }
   ],
   "source": [
    "#data = pd.read_csv('../Data/LT_DU_data_for_ML.csv') #Mix of ordinal and One Hot encoding\n",
    "data = pd.read_csv('../Data/LT_DU_data_for_ML_all_OneHot.csv') # all features encoded with One Hot \n",
    "data.columns"
   ]
  },
  {
   "cell_type": "markdown",
   "metadata": {},
   "source": [
    "## Data selection and filtering"
   ]
  },
  {
   "cell_type": "markdown",
   "metadata": {},
   "source": [
    "Select lpk level"
   ]
  },
  {
   "cell_type": "code",
   "execution_count": 108,
   "metadata": {},
   "outputs": [],
   "source": [
    "lpk_level = 'lpk1'\n",
    "#Valid options: 'lpk', 'lpk1', 'lpk2', 'lpk1_nc'"
   ]
  },
  {
   "cell_type": "markdown",
   "metadata": {},
   "source": [
    "Include outliers?"
   ]
  },
  {
   "cell_type": "code",
   "execution_count": 109,
   "metadata": {},
   "outputs": [
    {
     "name": "stdout",
     "output_type": "stream",
     "text": [
      "Outliers removed\n"
     ]
    },
    {
     "data": {
      "text/plain": [
       "(35170, 42)"
      ]
     },
     "execution_count": 109,
     "metadata": {},
     "output_type": "execute_result"
    }
   ],
   "source": [
    "remove_outliers = True\n",
    "if remove_outliers == True:\n",
    "    data=data.query('outlier==False')\n",
    "    print('Outliers removed')\n",
    "else:\n",
    "    print('Outliers retained')\n",
    "\n",
    "data.shape"
   ]
  },
  {
   "cell_type": "markdown",
   "metadata": {},
   "source": [
    "Include upper boundary?"
   ]
  },
  {
   "cell_type": "code",
   "execution_count": 110,
   "metadata": {},
   "outputs": [
    {
     "name": "stdout",
     "output_type": "stream",
     "text": [
      "All records retained\n"
     ]
    },
    {
     "data": {
      "text/plain": [
       "(35170, 42)"
      ]
     },
     "execution_count": 110,
     "metadata": {},
     "output_type": "execute_result"
    }
   ],
   "source": [
    "upper_boundary = 15\n",
    "remove_above_boundary = False\n",
    "if remove_above_boundary == True:\n",
    "    data=data.query('hourly_rate <= @upper_boundary')\n",
    "    print('\"hourly_rate\" values above boundary are removed')\n",
    "else:\n",
    "    print('All records retained')\n",
    "\n",
    "data.shape"
   ]
  },
  {
   "cell_type": "markdown",
   "metadata": {},
   "source": [
    "Remove below minimal wage?"
   ]
  },
  {
   "cell_type": "code",
   "execution_count": 111,
   "metadata": {},
   "outputs": [
    {
     "name": "stdout",
     "output_type": "stream",
     "text": [
      "All records retained\n"
     ]
    },
    {
     "data": {
      "text/plain": [
       "(35170, 42)"
      ]
     },
     "execution_count": 111,
     "metadata": {},
     "output_type": "execute_result"
    }
   ],
   "source": [
    "lower_boundary = 2.45\n",
    "remove_below_boundary = False\n",
    "if remove_below_boundary == True:\n",
    "    data=data.query('hourly_rate >= @lower_boundary')\n",
    "    print('\"hourly_rate\" values belove boundary are removed')\n",
    "else:\n",
    "    print('All records retained')\n",
    "\n",
    "data.shape"
   ]
  },
  {
   "cell_type": "markdown",
   "metadata": {},
   "source": [
    "Prepare X and y"
   ]
  },
  {
   "cell_type": "code",
   "execution_count": 112,
   "metadata": {},
   "outputs": [],
   "source": [
    "remove_col = ['lpk', 'lpk1', 'lpk2', 'lpk1_nc', 'outlier',\n",
    "             'nace_orig','esize_class_orig','gender_orig','age_class_orig','education_orig']\n",
    "remove_col.remove(lpk_level)"
   ]
  },
  {
   "cell_type": "code",
   "execution_count": 113,
   "metadata": {},
   "outputs": [
    {
     "data": {
      "text/plain": [
       "Index(['hourly_rate', 'esize_class_1_49', 'esize_class_50_249',\n",
       "       'esize_class_GT_250', 'gender_M', 'age_class_14-29', 'age_class_30-39',\n",
       "       'age_class_40-49', 'age_class_50-59', 'age_class_60+', 'education_G1',\n",
       "       'education_G2', 'education_G3', 'education_G4', 'nace_B', 'nace_C',\n",
       "       'nace_D', 'nace_E', 'nace_F', 'nace_G', 'nace_H', 'nace_I', 'nace_J',\n",
       "       'nace_K', 'nace_L', 'nace_M', 'nace_N', 'nace_O', 'nace_P', 'nace_Q',\n",
       "       'nace_R', 'nace_S', 'lpk1_1', 'lpk1_2', 'lpk1_3', 'lpk1_4', 'lpk1_5',\n",
       "       'lpk1_7', 'lpk1_8', 'lpk1_9'],\n",
       "      dtype='object')"
      ]
     },
     "execution_count": 113,
     "metadata": {},
     "output_type": "execute_result"
    }
   ],
   "source": [
    "data_sf = pd.get_dummies(data, prefix=lpk_level ,columns=[lpk_level])\n",
    "data_sf.drop(columns=remove_col, inplace=True )\n",
    "data_sf.columns"
   ]
  },
  {
   "cell_type": "code",
   "execution_count": 114,
   "metadata": {},
   "outputs": [
    {
     "data": {
      "text/plain": [
       "((35170,), (35170, 39))"
      ]
     },
     "execution_count": 114,
     "metadata": {},
     "output_type": "execute_result"
    }
   ],
   "source": [
    "y = data_sf['hourly_rate']\n",
    "X = data_sf.drop(columns='hourly_rate')\n",
    "y.shape , X.shape"
   ]
  },
  {
   "cell_type": "code",
   "execution_count": 115,
   "metadata": {},
   "outputs": [
    {
     "data": {
      "text/plain": [
       "((28136,), (7034,))"
      ]
     },
     "execution_count": 115,
     "metadata": {},
     "output_type": "execute_result"
    }
   ],
   "source": [
    "from sklearn.model_selection import train_test_split\n",
    "X_train, X_test, y_train, y_test = train_test_split( X, y, test_size=0.20, random_state=0)\n",
    "y_train.shape, y_test.shape"
   ]
  },
  {
   "cell_type": "code",
   "execution_count": 116,
   "metadata": {},
   "outputs": [
    {
     "data": {
      "text/plain": [
       "4.51"
      ]
     },
     "execution_count": 116,
     "metadata": {},
     "output_type": "execute_result"
    }
   ],
   "source": [
    "y_train_median = np.median(y_train)\n",
    "y_train_median.round(2)"
   ]
  },
  {
   "cell_type": "markdown",
   "metadata": {},
   "source": [
    "## Model and predictions"
   ]
  },
  {
   "cell_type": "code",
   "execution_count": 117,
   "metadata": {},
   "outputs": [],
   "source": [
    "from sklearn.linear_model import Ridge\n",
    "model = Ridge(fit_intercept=True, alpha=0.01)\n",
    "model.fit(X=X_train,y=y_train)\n",
    "y_train_pred = model.predict(X_train)\n",
    "y_test_pred = model.predict(X_test)\n",
    "residuals_test=y_test_pred-y_test\n",
    "r_residuals_test=(y_test_pred-y_test)/y_test*100"
   ]
  },
  {
   "cell_type": "code",
   "execution_count": 118,
   "metadata": {},
   "outputs": [
    {
     "data": {
      "image/png": "[encoded data removed]",
      "text/plain": [
       "<Figure size 360x360 with 1 Axes>"
      ]
     },
     "metadata": {
      "needs_background": "light"
     },
     "output_type": "display_data"
    }
   ],
   "source": [
    "x1=np.quantile(r_residuals_test, 0.10)\n",
    "x2=np.quantile(r_residuals_test, 0.90)\n",
    "\n",
    "sns.displot(r_residuals_test, kind='ecdf')\n",
    "plt.xlabel('Relative residuals, %')\n",
    "plt.fill_betweenx(y=[0,1], x1=x1, x2=x2, alpha=0.2)\n",
    "plt.text(x=x1, y=0.2, s=x1.round(1), ha='center')\n",
    "plt.text(x=x2, y=0.2, s=x2.round(1), ha='center');"
   ]
  },
  {
   "cell_type": "code",
   "execution_count": 119,
   "metadata": {},
   "outputs": [
    {
     "data": {
      "text/html": [
       "<div>\n",
       "<style scoped>\n",
       "    .dataframe tbody tr th:only-of-type {\n",
       "        vertical-align: middle;\n",
       "    }\n",
       "\n",
       "    .dataframe tbody tr th {\n",
       "        vertical-align: top;\n",
       "    }\n",
       "\n",
       "    .dataframe thead th {\n",
       "        text-align: right;\n",
       "    }\n",
       "</style>\n",
       "<table border=\"1\" class=\"dataframe\">\n",
       "  <thead>\n",
       "    <tr style=\"text-align: right;\">\n",
       "      <th></th>\n",
       "      <th>features</th>\n",
       "      <th>coef</th>\n",
       "    </tr>\n",
       "  </thead>\n",
       "  <tbody>\n",
       "    <tr>\n",
       "      <th>31</th>\n",
       "      <td>lpk1_1</td>\n",
       "      <td>2.879963</td>\n",
       "    </tr>\n",
       "    <tr>\n",
       "      <th>21</th>\n",
       "      <td>nace_J</td>\n",
       "      <td>1.345421</td>\n",
       "    </tr>\n",
       "    <tr>\n",
       "      <th>22</th>\n",
       "      <td>nace_K</td>\n",
       "      <td>1.071789</td>\n",
       "    </tr>\n",
       "    <tr>\n",
       "      <th>32</th>\n",
       "      <td>lpk1_2</td>\n",
       "      <td>1.020678</td>\n",
       "    </tr>\n",
       "    <tr>\n",
       "      <th>12</th>\n",
       "      <td>education_G4</td>\n",
       "      <td>0.931807</td>\n",
       "    </tr>\n",
       "    <tr>\n",
       "      <th>3</th>\n",
       "      <td>gender_M</td>\n",
       "      <td>0.839390</td>\n",
       "    </tr>\n",
       "    <tr>\n",
       "      <th>13</th>\n",
       "      <td>nace_B</td>\n",
       "      <td>0.770025</td>\n",
       "    </tr>\n",
       "    <tr>\n",
       "      <th>2</th>\n",
       "      <td>esize_class_GT_250</td>\n",
       "      <td>0.627088</td>\n",
       "    </tr>\n",
       "    <tr>\n",
       "      <th>5</th>\n",
       "      <td>age_class_30-39</td>\n",
       "      <td>0.400336</td>\n",
       "    </tr>\n",
       "    <tr>\n",
       "      <th>1</th>\n",
       "      <td>esize_class_50_249</td>\n",
       "      <td>0.336296</td>\n",
       "    </tr>\n",
       "    <tr>\n",
       "      <th>14</th>\n",
       "      <td>nace_C</td>\n",
       "      <td>0.327374</td>\n",
       "    </tr>\n",
       "    <tr>\n",
       "      <th>24</th>\n",
       "      <td>nace_M</td>\n",
       "      <td>0.326128</td>\n",
       "    </tr>\n",
       "    <tr>\n",
       "      <th>11</th>\n",
       "      <td>education_G3</td>\n",
       "      <td>0.276288</td>\n",
       "    </tr>\n",
       "    <tr>\n",
       "      <th>15</th>\n",
       "      <td>nace_D</td>\n",
       "      <td>0.225616</td>\n",
       "    </tr>\n",
       "    <tr>\n",
       "      <th>6</th>\n",
       "      <td>age_class_40-49</td>\n",
       "      <td>0.147319</td>\n",
       "    </tr>\n",
       "    <tr>\n",
       "      <th>17</th>\n",
       "      <td>nace_F</td>\n",
       "      <td>-0.006789</td>\n",
       "    </tr>\n",
       "    <tr>\n",
       "      <th>16</th>\n",
       "      <td>nace_E</td>\n",
       "      <td>-0.031737</td>\n",
       "    </tr>\n",
       "    <tr>\n",
       "      <th>30</th>\n",
       "      <td>nace_S</td>\n",
       "      <td>-0.046117</td>\n",
       "    </tr>\n",
       "    <tr>\n",
       "      <th>23</th>\n",
       "      <td>nace_L</td>\n",
       "      <td>-0.074173</td>\n",
       "    </tr>\n",
       "    <tr>\n",
       "      <th>4</th>\n",
       "      <td>age_class_14-29</td>\n",
       "      <td>-0.127187</td>\n",
       "    </tr>\n",
       "    <tr>\n",
       "      <th>7</th>\n",
       "      <td>age_class_50-59</td>\n",
       "      <td>-0.139369</td>\n",
       "    </tr>\n",
       "    <tr>\n",
       "      <th>33</th>\n",
       "      <td>lpk1_3</td>\n",
       "      <td>-0.143444</td>\n",
       "    </tr>\n",
       "    <tr>\n",
       "      <th>20</th>\n",
       "      <td>nace_I</td>\n",
       "      <td>-0.158763</td>\n",
       "    </tr>\n",
       "    <tr>\n",
       "      <th>26</th>\n",
       "      <td>nace_O</td>\n",
       "      <td>-0.173309</td>\n",
       "    </tr>\n",
       "    <tr>\n",
       "      <th>18</th>\n",
       "      <td>nace_G</td>\n",
       "      <td>-0.195152</td>\n",
       "    </tr>\n",
       "    <tr>\n",
       "      <th>8</th>\n",
       "      <td>age_class_60+</td>\n",
       "      <td>-0.281099</td>\n",
       "    </tr>\n",
       "    <tr>\n",
       "      <th>28</th>\n",
       "      <td>nace_Q</td>\n",
       "      <td>-0.426061</td>\n",
       "    </tr>\n",
       "    <tr>\n",
       "      <th>25</th>\n",
       "      <td>nace_N</td>\n",
       "      <td>-0.430479</td>\n",
       "    </tr>\n",
       "    <tr>\n",
       "      <th>36</th>\n",
       "      <td>lpk1_7</td>\n",
       "      <td>-0.442961</td>\n",
       "    </tr>\n",
       "    <tr>\n",
       "      <th>10</th>\n",
       "      <td>education_G2</td>\n",
       "      <td>-0.464400</td>\n",
       "    </tr>\n",
       "    <tr>\n",
       "      <th>34</th>\n",
       "      <td>lpk1_4</td>\n",
       "      <td>-0.513742</td>\n",
       "    </tr>\n",
       "    <tr>\n",
       "      <th>19</th>\n",
       "      <td>nace_H</td>\n",
       "      <td>-0.575653</td>\n",
       "    </tr>\n",
       "    <tr>\n",
       "      <th>37</th>\n",
       "      <td>lpk1_8</td>\n",
       "      <td>-0.618944</td>\n",
       "    </tr>\n",
       "    <tr>\n",
       "      <th>9</th>\n",
       "      <td>education_G1</td>\n",
       "      <td>-0.743695</td>\n",
       "    </tr>\n",
       "    <tr>\n",
       "      <th>27</th>\n",
       "      <td>nace_P</td>\n",
       "      <td>-0.830565</td>\n",
       "    </tr>\n",
       "    <tr>\n",
       "      <th>35</th>\n",
       "      <td>lpk1_5</td>\n",
       "      <td>-0.857882</td>\n",
       "    </tr>\n",
       "    <tr>\n",
       "      <th>0</th>\n",
       "      <td>esize_class_1_49</td>\n",
       "      <td>-0.963384</td>\n",
       "    </tr>\n",
       "    <tr>\n",
       "      <th>29</th>\n",
       "      <td>nace_R</td>\n",
       "      <td>-1.117554</td>\n",
       "    </tr>\n",
       "    <tr>\n",
       "      <th>38</th>\n",
       "      <td>lpk1_9</td>\n",
       "      <td>-1.323668</td>\n",
       "    </tr>\n",
       "  </tbody>\n",
       "</table>\n",
       "</div>"
      ],
      "text/plain": [
       "              features      coef\n",
       "31              lpk1_1  2.879963\n",
       "21              nace_J  1.345421\n",
       "22              nace_K  1.071789\n",
       "32              lpk1_2  1.020678\n",
       "12        education_G4  0.931807\n",
       "3             gender_M  0.839390\n",
       "13              nace_B  0.770025\n",
       "2   esize_class_GT_250  0.627088\n",
       "5      age_class_30-39  0.400336\n",
       "1   esize_class_50_249  0.336296\n",
       "14              nace_C  0.327374\n",
       "24              nace_M  0.326128\n",
       "11        education_G3  0.276288\n",
       "15              nace_D  0.225616\n",
       "6      age_class_40-49  0.147319\n",
       "17              nace_F -0.006789\n",
       "16              nace_E -0.031737\n",
       "30              nace_S -0.046117\n",
       "23              nace_L -0.074173\n",
       "4      age_class_14-29 -0.127187\n",
       "7      age_class_50-59 -0.139369\n",
       "33              lpk1_3 -0.143444\n",
       "20              nace_I -0.158763\n",
       "26              nace_O -0.173309\n",
       "18              nace_G -0.195152\n",
       "8        age_class_60+ -0.281099\n",
       "28              nace_Q -0.426061\n",
       "25              nace_N -0.430479\n",
       "36              lpk1_7 -0.442961\n",
       "10        education_G2 -0.464400\n",
       "34              lpk1_4 -0.513742\n",
       "19              nace_H -0.575653\n",
       "37              lpk1_8 -0.618944\n",
       "9         education_G1 -0.743695\n",
       "27              nace_P -0.830565\n",
       "35              lpk1_5 -0.857882\n",
       "0     esize_class_1_49 -0.963384\n",
       "29              nace_R -1.117554\n",
       "38              lpk1_9 -1.323668"
      ]
     },
     "execution_count": 119,
     "metadata": {},
     "output_type": "execute_result"
    }
   ],
   "source": [
    "params=pd.DataFrame( {'features':model.feature_names_in_ ,\n",
    "                     'coef':model.coef_})\n",
    "params.sort_values('coef', ascending=False)"
   ]
  },
  {
   "cell_type": "code",
   "execution_count": 120,
   "metadata": {},
   "outputs": [
    {
     "name": "stdout",
     "output_type": "stream",
     "text": [
      "Train: RMSE= 2.12  R2= 0.42\n",
      "Test: RMSE= 2.09  R2= 0.42\n"
     ]
    }
   ],
   "source": [
    "print('Train: RMSE=', np.sqrt(mean_squared_error(y_train, y_train_pred)).round(2),\n",
    "    ' R2=', r2_score(y_train, y_train_pred).round(2))\n",
    "\n",
    "print('Test: RMSE=', np.sqrt(mean_squared_error(y_test, y_test_pred)).round(2),\n",
    "    ' R2=', r2_score(y_test, y_test_pred).round(2))"
   ]
  },
  {
   "cell_type": "code",
   "execution_count": 121,
   "metadata": {},
   "outputs": [
    {
     "data": {
      "image/png": "[encoded data removed]",
      "text/plain": [
       "<Figure size 1152x288 with 3 Axes>"
      ]
     },
     "metadata": {
      "needs_background": "light"
     },
     "output_type": "display_data"
    }
   ],
   "source": [
    "\n",
    "fig, ax = plt.subplots(1, 3, figsize=(16, 4), sharex=True)\n",
    "sns.scatterplot(ax=ax[0], x=y_test, y=y_test_pred,  s=3, color='black', alpha=0.1)\n",
    "#sns.kdeplot(ax=ax[0],  x=y_test, y=y_test_pred, alpha=0.5 )\n",
    "ax[0].set_xlabel('true HR')\n",
    "ax[0].set_ylabel('predicted HR')\n",
    "ax[0].set_aspect(aspect=1, adjustable=None, anchor=None, share=False)\n",
    "ax[0].plot((0,1), (0, 1), transform=ax[0].transAxes, linestyle='--', color='r', lw=1)\n",
    "ax[0].vlines(ymin=0, ymax=max(y_test) , x=y_train_median, linestyle='-.', color='g', lw=1)\n",
    "ax[0].hlines(xmin=0, xmax=max(y_test) , y=y_train_median, linestyle='-.', color='g', lw=1)\n",
    "\n",
    "sns.scatterplot(ax=ax[1],  x=y_test, y=residuals_test,  s=3, color='black', alpha=0.1)\n",
    "#sns.kdeplot(ax=ax[1], x=y_test, y=residuals_test, alpha=0.5 )\n",
    "ax[1].set_xlabel('true HR')\n",
    "ax[1].set_ylabel('Residuals')\n",
    "ax[1].vlines(ymin=min(residuals_test), ymax=max(residuals_test) , x=y_train_median, linestyle='-.', color='g', lw=1)\n",
    "ax[1].hlines(xmin=0, xmax=max(y_test) , y=0, linestyle='--', color='r', lw=1)\n",
    "\n",
    "sns.scatterplot(ax=ax[2],  x=y_test, y=r_residuals_test,  s=3, color='black', alpha=0.1)\n",
    "#sns.kdeplot(ax=ax[2],  x=y_test, y=r_residuals_test, alpha=0.5 )\n",
    "ax[2].set_xlabel('true HR')\n",
    "ax[2].set_ylabel('Relative Residuals, %')\n",
    "ax[2].vlines(ymin=min(r_residuals_test), ymax=max(r_residuals_test) , x=y_train_median, linestyle='-.', color='g', lw=1)\n",
    "ax[2].hlines(xmin=0, xmax=max(y_test) , y=0, linestyle='--', color='r', lw=1);"
   ]
  }
 ],
 "metadata": {
  "kernelspec": {
   "display_name": "Python 3.10.4 ('ds310-ltdu')",
   "language": "python",
   "name": "python3"
  },
  "language_info": {
   "codemirror_mode": {
    "name": "ipython",
    "version": 3
   },
   "file_extension": ".py",
   "mimetype": "text/x-python",
   "name": "python",
   "nbconvert_exporter": "python",
   "pygments_lexer": "ipython3",
   "version": "3.10.4"
  },
  "orig_nbformat": 4,
  "vscode": {
   "interpreter": {
    "hash": "f596823847b41a4877c15772cb4cef8c5fd558509561fe56420e1f0f39d8a61f"
   }
  }
 },
 "nbformat": 4,
 "nbformat_minor": 2
}
