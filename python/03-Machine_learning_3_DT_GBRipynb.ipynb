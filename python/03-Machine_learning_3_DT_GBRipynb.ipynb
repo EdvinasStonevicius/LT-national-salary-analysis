{
 "cells": [
  {
   "cell_type": "code",
   "execution_count": 6,
   "metadata": {},
   "outputs": [],
   "source": [
    "import pandas as pd\n",
    "import numpy as np\n",
    "import matplotlib.pyplot as plt\n",
    "import seaborn as sns\n",
    "from sklearn.metrics import mean_squared_error\n",
    "from sklearn.metrics import r2_score\n",
    "from scipy import stats"
   ]
  },
  {
   "cell_type": "code",
   "execution_count": 7,
   "metadata": {},
   "outputs": [
    {
     "data": {
      "text/plain": [
       "Index(['lpk', 'hourly_rate', 'experience', 'weeks', 'vacation',\n",
       "       'esize_class_ord', 'esize_class_orig', 'esize_class_oh_1_49',\n",
       "       'esize_class_oh_50_249', 'esize_class_oh_GT_250', 'gender_orig',\n",
       "       'gender_M', 'age_class_ord', 'age_class_orig', 'age_class_oh_14-29',\n",
       "       'age_class_oh_30-39', 'age_class_oh_40-49', 'age_class_oh_50-59',\n",
       "       'age_class_oh_60+', 'education_ord', 'education_orig',\n",
       "       'education_oh_G1', 'education_oh_G2', 'education_oh_G3',\n",
       "       'education_oh_G4', 'outlier', 'nace_orig', 'nace_B', 'nace_C', 'nace_D',\n",
       "       'nace_E', 'nace_F', 'nace_G', 'nace_H', 'nace_I', 'nace_J', 'nace_K',\n",
       "       'nace_L', 'nace_M', 'nace_N', 'nace_O', 'nace_P', 'nace_Q', 'nace_R',\n",
       "       'nace_S', 'hourly_rate_norm', 'experience_sc', 'weeks_sc',\n",
       "       'vacation_sc'],\n",
       "      dtype='object')"
      ]
     },
     "execution_count": 7,
     "metadata": {},
     "output_type": "execute_result"
    }
   ],
   "source": [
    "data_import = pd.read_csv('../Data/LT_DU_data_for_ML_All_variations_optimized_outliers.csv') # All variations of categorical and numeric transformations\n",
    "data_import.columns"
   ]
  },
  {
   "cell_type": "markdown",
   "metadata": {},
   "source": [
    "# Data selection and filtering"
   ]
  },
  {
   "cell_type": "markdown",
   "metadata": {},
   "source": [
    "## Parameters"
   ]
  },
  {
   "cell_type": "code",
   "execution_count": 8,
   "metadata": {},
   "outputs": [],
   "source": [
    "# Normalize 'hourly_rate' ('no'/'yes')?\n",
    "normalize = 'no'\n",
    "# Select lpk level. Valid options: '1' (0), '2' (00), '3' (000).\n",
    "lpk_level = 3\n",
    "# Remove small lpk3 classes ('no'/'yes')?\n",
    "min_lpk3_len = 50\n",
    "remove_below_min_lpk3_len = 'yes'\n",
    "# Remove outliers ('no'/'yes')?\n",
    "remove_outliers = 'yes'\n",
    "# Remove upper boundary ('no'/'yes')?\n",
    "upper_boundary = 15\n",
    "remove_above_boundary = 'no'\n",
    "# Remove below minimal wage ('no'/'yes')?\n",
    "lower_boundary = 2.45\n",
    "remove_below_boundary = 'no'\n",
    "# Use scaled numeric features ('no'/'yes')?\n",
    "use_numeric = 'yes'\n",
    "# Use ordinary or one hot encoding for 'esize_class_ord', 'age_class_ord', 'education_ord'?\n",
    "# 'no' use One Hot, 'yes' use ordinary\n",
    "use_ordinary = 'yes'\n",
    "# Use nace One Hot ('no'/'yes')?\n",
    "nace_one_hot = 'yes'"
   ]
  },
  {
   "cell_type": "markdown",
   "metadata": {},
   "source": [
    "## Selection and filtering"
   ]
  },
  {
   "cell_type": "code",
   "execution_count": 18,
   "metadata": {},
   "outputs": [
    {
     "name": "stdout",
     "output_type": "stream",
     "text": [
      "Target label is \"hourly_rate\"\n",
      "Outliers removed\n",
      "LPK encoded using lpk_3\n",
      "lpk3 classes with less than 50 records are removed\n",
      "All records above boundary retained\n",
      "All records below minimal wage retained\n",
      "Scaled numeric features are used\n",
      "Ordinari encoding for esize_class, age_class, education used\n",
      "One hot encoding used for nace \n"
     ]
    }
   ],
   "source": [
    "data=data_import.copy()\n",
    "\n",
    "# Normalize 'hourly_rate' ('no'/'yes')?\n",
    "if normalize == 'no':\n",
    "    data.drop(columns=['hourly_rate_norm'], inplace=True)\n",
    "    target='hourly_rate'\n",
    "else:\n",
    "    data.drop(columns=['hourly_rate'], inplace=True)\n",
    "    target='hourly_rate_norm'\n",
    "\n",
    "print(f'Target label is \"{target}\"')\n",
    "\n",
    "# Outliers\n",
    "if remove_outliers == 'yes':\n",
    "    data=data.query('outlier==False')\n",
    "    print('Outliers removed')\n",
    "else:\n",
    "    print('Outliers retained')\n",
    "\n",
    "\n",
    "# One Hot encoding for selected lpk level\n",
    "lpk_level_label = 'lpk_'+str(lpk_level)\n",
    "print(f'LPK encoded using {lpk_level_label}')\n",
    "data[lpk_level_label] = data['lpk'] // (10**(3-lpk_level))\n",
    "# Small lpk3 classes ('no'/'yes')?\n",
    "if remove_below_min_lpk3_len == 'yes' and lpk_level == 3:\n",
    "    data=data.groupby(lpk_level_label).filter(lambda x: len(x) > min_lpk3_len)\n",
    "    print(F'lpk3 classes with less than {min_lpk3_len} records are removed')\n",
    "else:\n",
    "    print('All lpk3 classes retained')\n",
    "#data = pd.get_dummies(data, prefix='lpk' ,columns=[lpk_level_label])\n",
    "\n",
    "# Include upper boundary?\n",
    "if remove_above_boundary == 'yes':\n",
    "    data=data.query('hourly_rate <= @upper_boundary')\n",
    "    print('Target values above boundary are removed')\n",
    "else:\n",
    "    print('All records above boundary retained')\n",
    "\n",
    "# Remove below minimal wage?\n",
    "if remove_below_boundary == 'yes':\n",
    "    data=data.query('hourly_rate >= @lower_boundary')\n",
    "    print('All records below minimal wage are removed')\n",
    "else:\n",
    "    print('All records below minimal wage retained')\n",
    "\n",
    "# Use scaled numeric features?\n",
    "if use_numeric == 'no':\n",
    "    data.drop(columns=['experience_sc', 'weeks_sc', 'vacation_sc'], inplace=True)\n",
    "    print('Scaled numeric features are removed')\n",
    "else:\n",
    "    print('Scaled numeric features are used')\n",
    "\n",
    "# Use ordinary or one hot encoding for 'esize_class', 'age_class', 'education'?\n",
    "if use_ordinary == 'yes':\n",
    "    data.drop(columns=data.columns[data.columns.str.contains('_oh_')], inplace= True)\n",
    "    print('Ordinari encoding for esize_class, age_class, education used')\n",
    "else:\n",
    "    data.drop(columns=data.columns[data.columns.str.contains('_ord')], inplace= True)\n",
    "    print('One hot encoding for esize_class, age_class, education used')\n",
    "\n",
    " # Use nace One Hot ('no'/'yes')?\n",
    "if nace_one_hot == 'no':\n",
    "    data.drop(columns=data.columns[data.columns.str.contains('nace_')], inplace= True)\n",
    "    print('Original nace values')\n",
    "else:\n",
    "    data.drop(columns='nace_orig', inplace= True)\n",
    "    print('One hot encoding used for nace ')   \n",
    "\n",
    "# Remove meta columns (not used in ML development)\n",
    "remove_col = ['lpk', 'outlier',\n",
    "             'esize_class_orig','gender_orig','age_class_orig','education_orig',\n",
    "             'experience', 'weeks', 'vacation']\n",
    "data.drop(columns=remove_col, inplace=True )\n",
    "\n",
    "#Remove meta columns (not used in ML development)\n",
    "remove_col = ['experience_sc', 'weeks_sc', 'vacation_sc']\n",
    "data.drop(columns=remove_col, inplace=True )"
   ]
  },
  {
   "cell_type": "code",
   "execution_count": 19,
   "metadata": {},
   "outputs": [],
   "source": [
    "data.drop(columns=data.columns[data.columns.str.contains('nace_')], inplace= True)"
   ]
  },
  {
   "cell_type": "code",
   "execution_count": 20,
   "metadata": {},
   "outputs": [
    {
     "data": {
      "text/plain": [
       "Index(['hourly_rate', 'esize_class_ord', 'gender_M', 'age_class_ord',\n",
       "       'education_ord', 'lpk_3'],\n",
       "      dtype='object')"
      ]
     },
     "execution_count": 20,
     "metadata": {},
     "output_type": "execute_result"
    }
   ],
   "source": [
    "data.columns"
   ]
  },
  {
   "cell_type": "markdown",
   "metadata": {},
   "source": [
    "# Prepare X and y"
   ]
  },
  {
   "cell_type": "code",
   "execution_count": 21,
   "metadata": {},
   "outputs": [
    {
     "data": {
      "text/plain": [
       "((30574,), (30574, 5))"
      ]
     },
     "execution_count": 21,
     "metadata": {},
     "output_type": "execute_result"
    }
   ],
   "source": [
    "y = data[target]\n",
    "X = data.drop(columns=target)\n",
    "y.shape , X.shape"
   ]
  },
  {
   "cell_type": "code",
   "execution_count": 22,
   "metadata": {},
   "outputs": [
    {
     "data": {
      "text/plain": [
       "((24459,), (6115,))"
      ]
     },
     "execution_count": 22,
     "metadata": {},
     "output_type": "execute_result"
    }
   ],
   "source": [
    "from sklearn.model_selection import train_test_split\n",
    "X_train, X_test, y_train, y_test = train_test_split( X, y, test_size=0.20, random_state=0)\n",
    "y_train.shape, y_test.shape"
   ]
  },
  {
   "cell_type": "code",
   "execution_count": 23,
   "metadata": {},
   "outputs": [
    {
     "data": {
      "text/plain": [
       "4.72"
      ]
     },
     "execution_count": 23,
     "metadata": {},
     "output_type": "execute_result"
    }
   ],
   "source": [
    "y_train_mean = np.mean(y_train)\n",
    "y_train_mean.round(2)"
   ]
  },
  {
   "cell_type": "markdown",
   "metadata": {},
   "source": [
    "# Model and predictions"
   ]
  },
  {
   "cell_type": "markdown",
   "metadata": {},
   "source": [
    "## Initial model"
   ]
  },
  {
   "cell_type": "code",
   "execution_count": 24,
   "metadata": {},
   "outputs": [],
   "source": [
    "from sklearn.ensemble import GradientBoostingRegressor\n",
    "model = GradientBoostingRegressor( random_state=0)\n",
    "model.fit(X=X_train,y=y_train)\n",
    "y_train_pred = model.predict(X_train)\n",
    "y_test_pred = model.predict(X_test)\n",
    "residuals_test=y_test_pred-y_test\n",
    "r_residuals_test=(y_test_pred-y_test)/y_test*100"
   ]
  },
  {
   "cell_type": "code",
   "execution_count": 25,
   "metadata": {},
   "outputs": [
    {
     "name": "stdout",
     "output_type": "stream",
     "text": [
      "Train: RMSE= 1.553  R2= 0.552\n",
      "Test: RMSE= 1.523  R2= 0.573\n"
     ]
    }
   ],
   "source": [
    "print('Train: RMSE=', np.sqrt(mean_squared_error(y_train, y_train_pred)).round(3),\n",
    "    ' R2=', r2_score(y_train, y_train_pred).round(3))\n",
    "\n",
    "print('Test: RMSE=', np.sqrt(mean_squared_error(y_test, y_test_pred)).round(3),\n",
    "    ' R2=', r2_score(y_test, y_test_pred).round(3))"
   ]
  },
  {
   "cell_type": "markdown",
   "metadata": {},
   "source": [
    "## GridSearchCV"
   ]
  },
  {
   "cell_type": "code",
   "execution_count": 26,
   "metadata": {},
   "outputs": [
    {
     "data": {
      "text/plain": [
       "{'max_depth': 4,\n",
       " 'min_samples_leaf': 20,\n",
       " 'min_samples_split': 4,\n",
       " 'n_estimators': 500}"
      ]
     },
     "execution_count": 26,
     "metadata": {},
     "output_type": "execute_result"
    }
   ],
   "source": [
    "\"\"\" from sklearn.model_selection import GridSearchCV\n",
    "from sklearn.model_selection import RepeatedKFold\n",
    "model = GradientBoostingRegressor(max_features='sqrt')\n",
    "cv = RepeatedKFold(n_splits=3, n_repeats=1, random_state=1)\n",
    "grid = {\n",
    "        'max_depth': [4 ,5, 6],\n",
    "        'min_samples_leaf': [ 19, 20, 21],\n",
    "        'min_samples_split': [2, 3, 4],\n",
    "        'n_estimators': [300, 400, 500]\n",
    "        }\n",
    "\n",
    "search = GridSearchCV(model, grid, scoring='neg_root_mean_squared_error', cv=cv, n_jobs=-1)\n",
    "results = search.fit(X=X_train,y=y_train)\n",
    "results.best_params_  \"\"\""
   ]
  },
  {
   "cell_type": "code",
   "execution_count": 27,
   "metadata": {},
   "outputs": [
    {
     "data": {
      "text/plain": [
       "{'max_depth': 4,\n",
       " 'min_samples_leaf': 20,\n",
       " 'min_samples_split': 4,\n",
       " 'n_estimators': 500}"
      ]
     },
     "execution_count": 27,
     "metadata": {},
     "output_type": "execute_result"
    }
   ],
   "source": [
    "from sklearn.model_selection import GridSearchCV\n",
    "from sklearn.model_selection import RepeatedKFold\n",
    "model = GradientBoostingRegressor(max_features='sqrt')\n",
    "cv = RepeatedKFold(n_splits=5, n_repeats=3, random_state=1)\n",
    "grid = {\n",
    "        'max_depth': [4],\n",
    "        'min_samples_leaf': [20],\n",
    "        'min_samples_split': [4],\n",
    "        'n_estimators': [ 500]\n",
    "        }\n",
    "\n",
    "search = GridSearchCV(model, grid, scoring='neg_root_mean_squared_error', cv=cv, n_jobs=-1)\n",
    "results = search.fit(X=X_train,y=y_train)\n",
    "results.best_params_"
   ]
  },
  {
   "cell_type": "code",
   "execution_count": 28,
   "metadata": {},
   "outputs": [
    {
     "data": {
      "text/html": [
       "<style>#sk-container-id-1 {color: black;background-color: white;}#sk-container-id-1 pre{padding: 0;}#sk-container-id-1 div.sk-toggleable {background-color: white;}#sk-container-id-1 label.sk-toggleable__label {cursor: pointer;display: block;width: 100%;margin-bottom: 0;padding: 0.3em;box-sizing: border-box;text-align: center;}#sk-container-id-1 label.sk-toggleable__label-arrow:before {content: \"▸\";float: left;margin-right: 0.25em;color: #696969;}#sk-container-id-1 label.sk-toggleable__label-arrow:hover:before {color: black;}#sk-container-id-1 div.sk-estimator:hover label.sk-toggleable__label-arrow:before {color: black;}#sk-container-id-1 div.sk-toggleable__content {max-height: 0;max-width: 0;overflow: hidden;text-align: left;background-color: #f0f8ff;}#sk-container-id-1 div.sk-toggleable__content pre {margin: 0.2em;color: black;border-radius: 0.25em;background-color: #f0f8ff;}#sk-container-id-1 input.sk-toggleable__control:checked~div.sk-toggleable__content {max-height: 200px;max-width: 100%;overflow: auto;}#sk-container-id-1 input.sk-toggleable__control:checked~label.sk-toggleable__label-arrow:before {content: \"▾\";}#sk-container-id-1 div.sk-estimator input.sk-toggleable__control:checked~label.sk-toggleable__label {background-color: #d4ebff;}#sk-container-id-1 div.sk-label input.sk-toggleable__control:checked~label.sk-toggleable__label {background-color: #d4ebff;}#sk-container-id-1 input.sk-hidden--visually {border: 0;clip: rect(1px 1px 1px 1px);clip: rect(1px, 1px, 1px, 1px);height: 1px;margin: -1px;overflow: hidden;padding: 0;position: absolute;width: 1px;}#sk-container-id-1 div.sk-estimator {font-family: monospace;background-color: #f0f8ff;border: 1px dotted black;border-radius: 0.25em;box-sizing: border-box;margin-bottom: 0.5em;}#sk-container-id-1 div.sk-estimator:hover {background-color: #d4ebff;}#sk-container-id-1 div.sk-parallel-item::after {content: \"\";width: 100%;border-bottom: 1px solid gray;flex-grow: 1;}#sk-container-id-1 div.sk-label:hover label.sk-toggleable__label {background-color: #d4ebff;}#sk-container-id-1 div.sk-serial::before {content: \"\";position: absolute;border-left: 1px solid gray;box-sizing: border-box;top: 0;bottom: 0;left: 50%;z-index: 0;}#sk-container-id-1 div.sk-serial {display: flex;flex-direction: column;align-items: center;background-color: white;padding-right: 0.2em;padding-left: 0.2em;position: relative;}#sk-container-id-1 div.sk-item {position: relative;z-index: 1;}#sk-container-id-1 div.sk-parallel {display: flex;align-items: stretch;justify-content: center;background-color: white;position: relative;}#sk-container-id-1 div.sk-item::before, #sk-container-id-1 div.sk-parallel-item::before {content: \"\";position: absolute;border-left: 1px solid gray;box-sizing: border-box;top: 0;bottom: 0;left: 50%;z-index: -1;}#sk-container-id-1 div.sk-parallel-item {display: flex;flex-direction: column;z-index: 1;position: relative;background-color: white;}#sk-container-id-1 div.sk-parallel-item:first-child::after {align-self: flex-end;width: 50%;}#sk-container-id-1 div.sk-parallel-item:last-child::after {align-self: flex-start;width: 50%;}#sk-container-id-1 div.sk-parallel-item:only-child::after {width: 0;}#sk-container-id-1 div.sk-dashed-wrapped {border: 1px dashed gray;margin: 0 0.4em 0.5em 0.4em;box-sizing: border-box;padding-bottom: 0.4em;background-color: white;}#sk-container-id-1 div.sk-label label {font-family: monospace;font-weight: bold;display: inline-block;line-height: 1.2em;}#sk-container-id-1 div.sk-label-container {text-align: center;}#sk-container-id-1 div.sk-container {/* jupyter's `normalize.less` sets `[hidden] { display: none; }` but bootstrap.min.css set `[hidden] { display: none !important; }` so we also need the `!important` here to be able to override the default hidden behavior on the sphinx rendered scikit-learn.org. See: https://github.com/scikit-learn/scikit-learn/issues/21755 */display: inline-block !important;position: relative;}#sk-container-id-1 div.sk-text-repr-fallback {display: none;}</style><div id=\"sk-container-id-1\" class=\"sk-top-container\"><div class=\"sk-text-repr-fallback\"><pre>GradientBoostingRegressor(max_depth=4, max_features=&#x27;sqrt&#x27;, min_samples_leaf=20,\n",
       "                          min_samples_split=4, n_estimators=500)</pre><b>In a Jupyter environment, please rerun this cell to show the HTML representation or trust the notebook. <br />On GitHub, the HTML representation is unable to render, please try loading this page with nbviewer.org.</b></div><div class=\"sk-container\" hidden><div class=\"sk-item\"><div class=\"sk-estimator sk-toggleable\"><input class=\"sk-toggleable__control sk-hidden--visually\" id=\"sk-estimator-id-1\" type=\"checkbox\" checked><label for=\"sk-estimator-id-1\" class=\"sk-toggleable__label sk-toggleable__label-arrow\">GradientBoostingRegressor</label><div class=\"sk-toggleable__content\"><pre>GradientBoostingRegressor(max_depth=4, max_features=&#x27;sqrt&#x27;, min_samples_leaf=20,\n",
       "                          min_samples_split=4, n_estimators=500)</pre></div></div></div></div></div>"
      ],
      "text/plain": [
       "GradientBoostingRegressor(max_depth=4, max_features='sqrt', min_samples_leaf=20,\n",
       "                          min_samples_split=4, n_estimators=500)"
      ]
     },
     "execution_count": 28,
     "metadata": {},
     "output_type": "execute_result"
    }
   ],
   "source": [
    "best_model=results.best_estimator_\n",
    "best_model"
   ]
  },
  {
   "cell_type": "code",
   "execution_count": 29,
   "metadata": {},
   "outputs": [],
   "source": [
    "y_train_pred = best_model.predict(X_train)\n",
    "y_test_pred = best_model.predict(X_test)\n",
    "residuals_test=y_test_pred-y_test\n",
    "r_residuals_test=(y_test_pred-y_test)/y_test*100"
   ]
  },
  {
   "cell_type": "code",
   "execution_count": 30,
   "metadata": {},
   "outputs": [
    {
     "name": "stdout",
     "output_type": "stream",
     "text": [
      "Train: RMSE= 1.49  R2= 0.588\n",
      "Test: RMSE= 1.486  R2= 0.594\n"
     ]
    }
   ],
   "source": [
    "print('Train: RMSE=', np.sqrt(mean_squared_error(y_train, y_train_pred)).round(3),\n",
    "    ' R2=', r2_score(y_train, y_train_pred).round(3))\n",
    "\n",
    "print('Test: RMSE=', np.sqrt(mean_squared_error(y_test, y_test_pred)).round(3),\n",
    "    ' R2=', r2_score(y_test, y_test_pred).round(3))"
   ]
  },
  {
   "cell_type": "markdown",
   "metadata": {},
   "source": [
    "## Feature importance"
   ]
  },
  {
   "cell_type": "code",
   "execution_count": 31,
   "metadata": {},
   "outputs": [
    {
     "data": {
      "text/html": [
       "<div>\n",
       "<style scoped>\n",
       "    .dataframe tbody tr th:only-of-type {\n",
       "        vertical-align: middle;\n",
       "    }\n",
       "\n",
       "    .dataframe tbody tr th {\n",
       "        vertical-align: top;\n",
       "    }\n",
       "\n",
       "    .dataframe thead th {\n",
       "        text-align: right;\n",
       "    }\n",
       "</style>\n",
       "<table border=\"1\" class=\"dataframe\">\n",
       "  <thead>\n",
       "    <tr style=\"text-align: right;\">\n",
       "      <th></th>\n",
       "      <th>importance</th>\n",
       "    </tr>\n",
       "  </thead>\n",
       "  <tbody>\n",
       "    <tr>\n",
       "      <th>lpk_3</th>\n",
       "      <td>0.641008</td>\n",
       "    </tr>\n",
       "    <tr>\n",
       "      <th>education_ord</th>\n",
       "      <td>0.217878</td>\n",
       "    </tr>\n",
       "    <tr>\n",
       "      <th>esize_class_ord</th>\n",
       "      <td>0.082116</td>\n",
       "    </tr>\n",
       "    <tr>\n",
       "      <th>gender_M</th>\n",
       "      <td>0.040126</td>\n",
       "    </tr>\n",
       "    <tr>\n",
       "      <th>age_class_ord</th>\n",
       "      <td>0.018872</td>\n",
       "    </tr>\n",
       "  </tbody>\n",
       "</table>\n",
       "</div>"
      ],
      "text/plain": [
       "                 importance\n",
       "lpk_3              0.641008\n",
       "education_ord      0.217878\n",
       "esize_class_ord    0.082116\n",
       "gender_M           0.040126\n",
       "age_class_ord      0.018872"
      ]
     },
     "execution_count": 31,
     "metadata": {},
     "output_type": "execute_result"
    }
   ],
   "source": [
    "importances = pd.DataFrame({'importance': best_model.feature_importances_ }, index=best_model.feature_names_in_ )\n",
    "importances.sort_values('importance', ascending=False)"
   ]
  },
  {
   "cell_type": "code",
   "execution_count": 32,
   "metadata": {},
   "outputs": [
    {
     "name": "stderr",
     "output_type": "stream",
     "text": [
      "c:\\Users\\diuka\\miniconda3\\envs\\ds310-ltdu\\lib\\site-packages\\tqdm\\auto.py:22: TqdmWarning: IProgress not found. Please update jupyter and ipywidgets. See https://ipywidgets.readthedocs.io/en/stable/user_install.html\n",
      "  from .autonotebook import tqdm as notebook_tqdm\n"
     ]
    }
   ],
   "source": [
    "import shap\n",
    "explainer = shap.TreeExplainer(best_model)\n",
    "shap_values = explainer(X_test)"
   ]
  },
  {
   "cell_type": "code",
   "execution_count": 33,
   "metadata": {},
   "outputs": [
    {
     "data": {
      "image/png": "[encoded data removed]",
      "text/plain": [
       "<Figure size 576x252 with 1 Axes>"
      ]
     },
     "metadata": {
      "needs_background": "light"
     },
     "output_type": "display_data"
    }
   ],
   "source": [
    "shap.summary_plot(shap_values, plot_type=\"bar\");"
   ]
  },
  {
   "cell_type": "code",
   "execution_count": 34,
   "metadata": {},
   "outputs": [
    {
     "data": {
      "image/png": "[encoded data removed]",
      "text/plain": [
       "<Figure size 1152x288 with 3 Axes>"
      ]
     },
     "metadata": {
      "needs_background": "light"
     },
     "output_type": "display_data"
    }
   ],
   "source": [
    "\n",
    "fig, ax = plt.subplots(1, 3, figsize=(16, 4), sharex=True)\n",
    "sns.scatterplot(ax=ax[0], x=y_test, y=y_test_pred,  s=3, color='black', alpha=0.1)\n",
    "#sns.kdeplot(ax=ax[0],  x=y_test, y=y_test_pred, alpha=0.5 )\n",
    "ax[0].set_xlabel('true HR')\n",
    "ax[0].set_ylabel('predicted HR')\n",
    "ax[0].set_aspect(aspect=1, adjustable=None, anchor=None, share=False)\n",
    "ax[0].plot((0,1), (0, 1), transform=ax[0].transAxes, linestyle='--', color='r', lw=1)\n",
    "ax[0].vlines(ymin=0, ymax=max(y_test) , x=y_train_mean, linestyle='-.', color='g', lw=1)\n",
    "ax[0].hlines(xmin=0, xmax=max(y_test) , y=y_train_mean, linestyle='-.', color='g', lw=1)\n",
    "\n",
    "sns.scatterplot(ax=ax[1],  x=y_test, y=residuals_test,  s=3, color='black', alpha=0.1)\n",
    "#sns.kdeplot(ax=ax[1], x=y_test, y=residuals_test, alpha=0.5 )\n",
    "ax[1].set_xlabel('true HR')\n",
    "ax[1].set_ylabel('Residuals')\n",
    "ax[1].vlines(ymin=min(residuals_test), ymax=max(residuals_test) , x=y_train_mean, linestyle='-.', color='g', lw=1)\n",
    "ax[1].hlines(xmin=0, xmax=max(y_test) , y=0, linestyle='--', color='r', lw=1)\n",
    "\n",
    "sns.scatterplot(ax=ax[2],  x=y_test, y=r_residuals_test,  s=3, color='black', alpha=0.1)\n",
    "#sns.kdeplot(ax=ax[2],  x=y_test, y=r_residuals_test, alpha=0.5 )\n",
    "ax[2].set_xlabel('true HR')\n",
    "ax[2].set_ylabel('Relative Residuals, %')\n",
    "ax[2].vlines(ymin=min(r_residuals_test), ymax=max(r_residuals_test) , x=y_train_mean, linestyle='-.', color='g', lw=1)\n",
    "ax[2].hlines(xmin=0, xmax=max(y_test) , y=0, linestyle='--', color='r', lw=1);"
   ]
  },
  {
   "cell_type": "code",
   "execution_count": 36,
   "metadata": {},
   "outputs": [
    {
     "data": {
      "image/png": "[encoded data removed]",
      "text/plain": [
       "<Figure size 360x360 with 1 Axes>"
      ]
     },
     "metadata": {
      "needs_background": "light"
     },
     "output_type": "display_data"
    }
   ],
   "source": [
    "x1=np.quantile(residuals_test, 0.10)\n",
    "x2=np.quantile(residuals_test, 0.90)\n",
    "sns.displot(residuals_test, kind='ecdf',)\n",
    "plt.xlabel('Residuals')\n",
    "plt.fill_betweenx(y=[0,1], x1=x1, x2=x2, alpha=0.2)\n",
    "plt.text(x=x1, y=0.2, s=x1.round(1), ha='center')\n",
    "plt.text(x=x2, y=0.2, s=x2.round(1), ha='center')\n",
    "plt.title('Proportion of reisduals between 0.1 and 0.9 quantile');"
   ]
  }
 ],
 "metadata": {
  "kernelspec": {
   "display_name": "Python 3.10.4 ('ds310-ltdu')",
   "language": "python",
   "name": "python3"
  },
  "language_info": {
   "codemirror_mode": {
    "name": "ipython",
    "version": 3
   },
   "file_extension": ".py",
   "mimetype": "text/x-python",
   "name": "python",
   "nbconvert_exporter": "python",
   "pygments_lexer": "ipython3",
   "version": "3.10.4"
  },
  "orig_nbformat": 4,
  "vscode": {
   "interpreter": {
    "hash": "f596823847b41a4877c15772cb4cef8c5fd558509561fe56420e1f0f39d8a61f"
   }
  }
 },
 "nbformat": 4,
 "nbformat_minor": 2
}
