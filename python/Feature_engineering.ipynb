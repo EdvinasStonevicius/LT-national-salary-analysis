{
 "cells": [
  {
   "cell_type": "code",
   "execution_count": 24,
   "metadata": {},
   "outputs": [],
   "source": [
    "import pandas as pd\n",
    "import numpy as np\n",
    "import matplotlib.pyplot as plt\n",
    "import seaborn as sns\n",
    "sns.set_theme(rc={\"figure.figsize\":(12, 4)})\n",
    "from statsmodels.stats.multicomp import pairwise_tukeyhsd"
   ]
  },
  {
   "cell_type": "code",
   "execution_count": 25,
   "metadata": {},
   "outputs": [],
   "source": [
    "data = pd.read_csv('../Data/SQLout_employees.csv')\n"
   ]
  },
  {
   "cell_type": "code",
   "execution_count": 26,
   "metadata": {},
   "outputs": [],
   "source": [
    "data2018ft = data.query('arrangement == \"FT\" & year==2018')[['nace',\n",
    "                          'esize_class',  'collective',  'gender',\n",
    "                          'age_class', 'lpk',  'education', 'contract',\n",
    "                          'hourly_rate']]"
   ]
  },
  {
   "cell_type": "code",
   "execution_count": 27,
   "metadata": {},
   "outputs": [],
   "source": [
    "def hr_in_categories(dataframe, column):\n",
    "    \"\"\"function to estimate if categorical feature is\n",
    "     an important predictor and if it can be reclassified\"\"\"\n",
    "    sns.boxplot(data=dataframe, x=column, y='hourly_rate')\n",
    "    plt.ylim(0, 15)\n",
    "    plt.show();\n",
    "    tukey = pairwise_tukeyhsd(endog=dataframe['hourly_rate'], \n",
    "                        groups=dataframe[column], alpha=0.05)\n",
    "    print(tukey)"
   ]
  },
  {
   "cell_type": "markdown",
   "metadata": {},
   "source": [
    "# 'hourly_rate' variation in predictor groups"
   ]
  },
  {
   "cell_type": "markdown",
   "metadata": {},
   "source": [
    "## 'nace'"
   ]
  },
  {
   "cell_type": "code",
   "execution_count": 28,
   "metadata": {},
   "outputs": [
    {
     "data": {
      "image/png": "[encoded data removed]",
      "text/plain": [
       "<Figure size 864x288 with 1 Axes>"
      ]
     },
     "metadata": {},
     "output_type": "display_data"
    },
    {
     "name": "stdout",
     "output_type": "stream",
     "text": [
      "Multiple Comparison of Means - Tukey HSD, FWER=0.05 \n",
      "====================================================\n",
      "group1 group2 meandiff p-adj   lower   upper  reject\n",
      "----------------------------------------------------\n",
      "     B      C  -0.5978 0.1723 -1.2794  0.0838  False\n",
      "     B      D  -0.0195    1.0 -0.8301  0.7911  False\n",
      "     B      E  -1.1563    0.0 -1.9294 -0.3832   True\n",
      "     B      F  -0.4738 0.7086 -1.2035  0.2559  False\n",
      "     B      G  -1.1443    0.0 -1.8573 -0.4313   True\n",
      "     B      H  -1.1689    0.0 -1.8705 -0.4673   True\n",
      "     B      I  -2.2757    0.0 -3.0526 -1.4987   True\n",
      "     B      J   2.5323    0.0  1.7981  3.2665   True\n",
      "     B      K    2.419    0.0  1.6608  3.1772   True\n",
      "     B      L  -1.1456 0.0013 -2.0475 -0.2438   True\n",
      "     B      M   0.8912 0.0027   0.162  1.6203   True\n",
      "     B      N   -1.662    0.0 -2.3826 -0.9413   True\n",
      "     B      O    0.118    1.0 -0.6011  0.8371  False\n",
      "     B      P  -0.9081 0.0037  -1.664 -0.1523   True\n",
      "     B      Q  -0.7209 0.0483 -1.4397 -0.0022   True\n",
      "     B      R  -1.6703    0.0  -2.444 -0.8966   True\n",
      "     B      S   -1.453    0.0 -2.3042 -0.6018   True\n",
      "     C      D   0.5783  0.003  0.1024  1.0542   True\n",
      "     C      E  -0.5585 0.0003 -0.9673 -0.1497   True\n",
      "     C      F    0.124 0.9971 -0.1953  0.4432  False\n",
      "     C      G  -0.5465    0.0 -0.8254 -0.2676   True\n",
      "     C      H  -0.5711    0.0 -0.8196 -0.3226   True\n",
      "     C      I  -1.6778    0.0 -2.0939 -1.2618   True\n",
      "     C      J   3.1301    0.0  2.8007  3.4595   True\n",
      "     C      K   3.0168    0.0  2.6369  3.3967   True\n",
      "     C      L  -0.5478   0.16 -1.1665  0.0709  False\n",
      "     C      M    1.489    0.0  1.1711  1.8068   True\n",
      "     C      N  -1.0641    0.0 -1.3621 -0.7662   True\n",
      "     C      O   0.7158    0.0  0.4215    1.01   True\n",
      "     C      P  -0.3103 0.2605 -0.6855  0.0649  False\n",
      "     C      Q  -0.1231  0.993 -0.4166  0.1703  False\n",
      "     C      R  -1.0725    0.0 -1.4825 -0.6625   True\n",
      "     C      S  -0.8552    0.0 -1.3974  -0.313   True\n",
      "     D      E  -1.1368    0.0 -1.7365 -0.5371   True\n",
      "     D      F  -0.4543 0.2406 -0.9969  0.0883  False\n",
      "     D      G  -1.1248    0.0 -1.6447 -0.6049   True\n",
      "     D      H  -1.1494    0.0 -1.6536 -0.6451   True\n",
      "     D      I  -2.2561    0.0 -2.8608 -1.6515   True\n",
      "     D      J   2.5518    0.0  2.0032  3.1004   True\n",
      "     D      K   2.4386    0.0  1.8582  3.0189   True\n",
      "     D      L  -1.1261    0.0 -1.8846 -0.3676   True\n",
      "     D      M   0.9107    0.0  0.3689  1.4525   True\n",
      "     D      N  -1.6424    0.0 -2.1728 -1.1121   True\n",
      "     D      O   0.1375    1.0 -0.3908  0.6657  False\n",
      "     D      P  -0.8886    0.0 -1.4659 -0.3113   True\n",
      "     D      Q  -0.7014 0.0005 -1.2293 -0.1736   True\n",
      "     D      R  -1.6508    0.0 -2.2513 -1.0503   True\n",
      "     D      S  -1.4335    0.0 -2.1309  -0.736   True\n",
      "     E      F   0.6825 0.0001  0.1977  1.1673   True\n",
      "     E      G    0.012    1.0 -0.4472  0.4713  False\n",
      "     E      H  -0.0126    1.0 -0.4541  0.4289  False\n",
      "     E      I  -1.1193    0.0 -1.6727 -0.5659   True\n",
      "     E      J   3.6886    0.0  3.1971  4.1802   True\n",
      "     E      K   3.5754    0.0  3.0486  4.1021   True\n",
      "     E      L   0.0107    1.0 -0.7076   0.729  False\n",
      "     E      M   2.0475    0.0  1.5635  2.5314   True\n",
      "     E      N  -0.5056 0.0208 -0.9767 -0.0346   True\n",
      "     E      O   1.2743    0.0  0.8056   1.743   True\n",
      "     E      P   0.2482 0.9746 -0.2752  0.7716  False\n",
      "     E      Q   0.4354 0.1052 -0.0329  0.9036  False\n",
      "     E      R   -0.514 0.0984 -1.0628  0.0349  False\n",
      "     E      S  -0.2967 0.9836 -0.9502  0.3569  False\n",
      "     F      G  -0.6705    0.0 -1.0522 -0.2887   True\n",
      "     F      H  -0.6951    0.0 -1.0552  -0.335   True\n",
      "     F      I  -1.8018    0.0 -2.2928 -1.3109   True\n",
      "     F      J   3.0061    0.0  2.5861  3.4262   True\n",
      "     F      K   2.8929    0.0  2.4322  3.3536   True\n",
      "     F      L  -0.6718 0.0496 -1.3432 -0.0004   True\n",
      "     F      M    1.365    0.0  0.9539   1.776   True\n",
      "     F      N  -1.1881    0.0  -1.584 -0.7923   True\n",
      "     F      O   0.5918    0.0  0.1987  0.9848   True\n",
      "     F      P  -0.4343 0.0852 -0.8911  0.0225  False\n",
      "     F      Q  -0.2471 0.7562 -0.6396  0.1454  False\n",
      "     F      R  -1.1965    0.0 -1.6823 -0.7106   True\n",
      "     F      S  -0.9792    0.0 -1.5807 -0.3776   True\n",
      "     G      H  -0.0246    1.0 -0.3495  0.3003  False\n",
      "     G      I  -1.1314    0.0 -1.5971 -0.6656   True\n",
      "     G      J   3.6766    0.0  3.2863  4.0668   True\n",
      "     G      K   3.5633    0.0  3.1296   3.997   True\n",
      "     G      L  -0.0013    1.0 -0.6545  0.6518  False\n",
      "     G      M   2.0354    0.0  1.6549   2.416   True\n",
      "     G      N  -0.5177 0.0001 -0.8817 -0.1536   True\n",
      "     G      O   1.2622    0.0  0.9012  1.6233   True\n",
      "     G      P   0.2362 0.9055 -0.1934  0.6658  False\n",
      "     G      Q   0.4233 0.0054  0.0629  0.7838   True\n",
      "     G      R   -0.526 0.0084 -0.9863 -0.0657   True\n",
      "     G      S  -0.3087 0.9286 -0.8899  0.2725  False\n",
      "     H      I  -1.1067    0.0  -1.555 -0.6585   True\n",
      "     H      J   3.7012    0.0  3.3321  4.0703   True\n",
      "     H      K   3.5879    0.0  3.1731  4.0028   True\n",
      "     H      L   0.0233    1.0 -0.6175   0.664  False\n",
      "     H      M   2.0601    0.0  1.7011   2.419   True\n",
      "     H      N   -0.493 0.0001 -0.8344 -0.1517   True\n",
      "     H      O   1.2869    0.0  0.9487   1.625   True\n",
      "     H      P   0.2608  0.743 -0.1498  0.6713  False\n",
      "     H      Q    0.448 0.0005  0.1105  0.7854   True\n",
      "     H      R  -0.5014 0.0096 -0.9439 -0.0588   True\n",
      "     H      S  -0.2841 0.9574 -0.8513  0.2832  False\n",
      "     I      J   4.8079    0.0  4.3103  5.3056   True\n",
      "     I      K   4.6947    0.0  4.1623  5.2271   True\n",
      "     I      L     1.13    0.0  0.4076  1.8525   True\n",
      "     I      M   3.1668    0.0  2.6767  3.6569   True\n",
      "     I      N   0.6137  0.001  0.1363  1.0911   True\n",
      "     I      O   2.3936    0.0  1.9185  2.8687   True\n",
      "     I      P   1.3675    0.0  0.8385  1.8966   True\n",
      "     I      Q   1.5547    0.0  1.0801  2.0293   True\n",
      "     I      R   0.6054 0.0164  0.0511  1.1597   True\n",
      "     I      S   0.8227 0.0018  0.1646  1.4808   True\n",
      "     J      K  -0.1133    1.0  -0.581  0.3545  False\n",
      "     J      L  -3.6779    0.0 -4.3542 -3.0017   True\n",
      "     J      M  -1.6411    0.0 -2.0601 -1.2221   True\n",
      "     J      N  -4.1942    0.0 -4.5983 -3.7902   True\n",
      "     J      O  -2.4143    0.0 -2.8157  -2.013   True\n",
      "     J      P  -3.4404    0.0 -3.9044 -2.9764   True\n",
      "     J      Q  -3.2532    0.0  -3.654 -2.8525   True\n",
      "     J      R  -4.2026    0.0 -4.6951   -3.71   True\n",
      "     J      S  -3.9853    0.0 -4.5923 -3.3782   True\n",
      "     K      L  -3.5647    0.0 -4.2669 -2.8624   True\n",
      "     K      M  -1.5279    0.0 -1.9877 -1.0681   True\n",
      "     K      N   -4.081    0.0 -4.5272 -3.6348   True\n",
      "     K      O  -2.3011    0.0 -2.7448 -1.8574   True\n",
      "     K      P  -3.3272    0.0 -3.8283 -2.8261   True\n",
      "     K      Q    -3.14    0.0 -3.5832 -2.6968   True\n",
      "     K      R  -4.0893    0.0  -4.617 -3.5617   True\n",
      "     K      S   -3.872    0.0 -4.5079 -3.2362   True\n",
      "     L      M   2.0368    0.0  1.3661  2.7075   True\n",
      "     L      N  -0.5163 0.3639 -1.1778  0.1452  False\n",
      "     L      O   1.2636    0.0  0.6037  1.9234   True\n",
      "     L      P   0.2375 0.9995 -0.4622  0.9372  False\n",
      "     L      Q   0.4247 0.7219 -0.2348  1.0842  False\n",
      "     L      R  -0.5247 0.4946 -1.2436  0.1943  False\n",
      "     L      S  -0.3074 0.9975 -1.1091  0.4944  False\n",
      "     M      N  -2.5531    0.0 -2.9478 -2.1584   True\n",
      "     M      O  -0.7732    0.0 -1.1651 -0.3813   True\n",
      "     M      P  -1.7993    0.0 -2.2552 -1.3434   True\n",
      "     M      Q  -1.6121    0.0 -2.0035 -1.2207   True\n",
      "     M      R  -2.5614    0.0 -3.0464 -2.0765   True\n",
      "     M      S  -2.3441    0.0  -2.945 -1.7433   True\n",
      "     N      O   1.7799    0.0   1.404  2.1558   True\n",
      "     N      P   0.7538    0.0  0.3116   1.196   True\n",
      "     N      Q    0.941    0.0  0.5657  1.3163   True\n",
      "     N      R  -0.0083    1.0 -0.4804  0.4637  False\n",
      "     N      S    0.209 0.9991 -0.3816  0.7995  False\n",
      "     O      P  -1.0261    0.0 -1.4658 -0.5864   True\n",
      "     O      Q  -0.8389    0.0 -1.2113 -0.4665   True\n",
      "     O      R  -1.7882    0.0  -2.258 -1.3185   True\n",
      "     O      S  -1.5709    0.0 -2.1596 -0.9822   True\n",
      "     P      Q   0.1872 0.9916  -0.252  0.6264  False\n",
      "     P      R  -0.7622 0.0001 -1.2864 -0.2379   True\n",
      "     P      S  -0.5449 0.1985 -1.1779  0.0882  False\n",
      "     Q      R  -0.9493    0.0 -1.4186   -0.48   True\n",
      "     Q      S   -0.732 0.0019 -1.3203 -0.1437   True\n",
      "     R      S   0.2173 0.9996  -0.437  0.8716  False\n",
      "----------------------------------------------------\n"
     ]
    }
   ],
   "source": [
    "hr_in_categories(data2018ft, 'nace')"
   ]
  },
  {
   "cell_type": "markdown",
   "metadata": {},
   "source": [
    "## 'esize_class'"
   ]
  },
  {
   "cell_type": "code",
   "execution_count": 29,
   "metadata": {},
   "outputs": [
    {
     "data": {
      "image/png": "[encoded data removed]",
      "text/plain": [
       "<Figure size 864x288 with 1 Axes>"
      ]
     },
     "metadata": {},
     "output_type": "display_data"
    },
    {
     "name": "stdout",
     "output_type": "stream",
     "text": [
      "Multiple Comparison of Means - Tukey HSD, FWER=0.05\n",
      "===================================================\n",
      "group1 group2 meandiff p-adj   lower  upper  reject\n",
      "---------------------------------------------------\n",
      "  1_49 50_249   1.1461   -0.0  1.0218 1.2703   True\n",
      "  1_49 GT_250   1.1105   -0.0  0.9942 1.2268   True\n",
      "50_249 GT_250  -0.0356 0.7244 -0.1445 0.0734  False\n",
      "---------------------------------------------------\n"
     ]
    }
   ],
   "source": [
    "hr_in_categories(data2018ft, 'esize_class')"
   ]
  },
  {
   "cell_type": "code",
   "execution_count": 30,
   "metadata": {},
   "outputs": [],
   "source": [
    "reclassify = { '1_49': 'small', '50_249': 'large', 'GT_250': 'large'}\n",
    "data2018ft['esize_class_nc']=data2018ft['esize_class'].replace(reclassify)"
   ]
  },
  {
   "cell_type": "markdown",
   "metadata": {},
   "source": [
    "## 'collective'"
   ]
  },
  {
   "cell_type": "code",
   "execution_count": 31,
   "metadata": {},
   "outputs": [
    {
     "data": {
      "image/png": "[encoded data removed]",
      "text/plain": [
       "<Figure size 864x288 with 1 Axes>"
      ]
     },
     "metadata": {},
     "output_type": "display_data"
    },
    {
     "name": "stdout",
     "output_type": "stream",
     "text": [
      "Multiple Comparison of Means - Tukey HSD, FWER=0.05 \n",
      "====================================================\n",
      "group1 group2 meandiff p-adj   lower   upper  reject\n",
      "----------------------------------------------------\n",
      "     B      C  -0.6311 0.3155 -1.5762   0.314  False\n",
      "     B      D   0.2036 0.1214 -0.0335  0.4406  False\n",
      "     B      N   -0.094 0.6759 -0.3092  0.1212  False\n",
      "     C      D   0.8347 0.0964 -0.0948  1.7641  False\n",
      "     C      N   0.5371 0.4417 -0.3871  1.4612  False\n",
      "     D      N  -0.2976    0.0  -0.428 -0.1672   True\n",
      "----------------------------------------------------\n"
     ]
    }
   ],
   "source": [
    "hr_in_categories(data2018ft, 'collective')"
   ]
  },
  {
   "cell_type": "markdown",
   "metadata": {},
   "source": [
    "Can be droped."
   ]
  },
  {
   "cell_type": "code",
   "execution_count": 32,
   "metadata": {},
   "outputs": [
    {
     "data": {
      "text/html": [
       "<div>\n",
       "<style scoped>\n",
       "    .dataframe tbody tr th:only-of-type {\n",
       "        vertical-align: middle;\n",
       "    }\n",
       "\n",
       "    .dataframe tbody tr th {\n",
       "        vertical-align: top;\n",
       "    }\n",
       "\n",
       "    .dataframe thead th {\n",
       "        text-align: right;\n",
       "    }\n",
       "</style>\n",
       "<table border=\"1\" class=\"dataframe\">\n",
       "  <thead>\n",
       "    <tr style=\"text-align: right;\">\n",
       "      <th></th>\n",
       "      <th>nace</th>\n",
       "      <th>esize_class</th>\n",
       "      <th>gender</th>\n",
       "      <th>age_class</th>\n",
       "      <th>lpk</th>\n",
       "      <th>education</th>\n",
       "      <th>contract</th>\n",
       "      <th>hourly_rate</th>\n",
       "      <th>esize_class_nc</th>\n",
       "    </tr>\n",
       "  </thead>\n",
       "  <tbody>\n",
       "    <tr>\n",
       "      <th>44952</th>\n",
       "      <td>C</td>\n",
       "      <td>1_49</td>\n",
       "      <td>M</td>\n",
       "      <td>50-59</td>\n",
       "      <td>722</td>\n",
       "      <td>G2</td>\n",
       "      <td>A</td>\n",
       "      <td>8.13</td>\n",
       "      <td>small</td>\n",
       "    </tr>\n",
       "    <tr>\n",
       "      <th>44953</th>\n",
       "      <td>C</td>\n",
       "      <td>1_49</td>\n",
       "      <td>M</td>\n",
       "      <td>40-49</td>\n",
       "      <td>721</td>\n",
       "      <td>G2</td>\n",
       "      <td>A</td>\n",
       "      <td>8.20</td>\n",
       "      <td>small</td>\n",
       "    </tr>\n",
       "    <tr>\n",
       "      <th>44954</th>\n",
       "      <td>C</td>\n",
       "      <td>1_49</td>\n",
       "      <td>M</td>\n",
       "      <td>50-59</td>\n",
       "      <td>722</td>\n",
       "      <td>G2</td>\n",
       "      <td>A</td>\n",
       "      <td>8.20</td>\n",
       "      <td>small</td>\n",
       "    </tr>\n",
       "    <tr>\n",
       "      <th>44955</th>\n",
       "      <td>C</td>\n",
       "      <td>1_49</td>\n",
       "      <td>F</td>\n",
       "      <td>40-49</td>\n",
       "      <td>334</td>\n",
       "      <td>G2</td>\n",
       "      <td>A</td>\n",
       "      <td>2.51</td>\n",
       "      <td>small</td>\n",
       "    </tr>\n",
       "    <tr>\n",
       "      <th>44956</th>\n",
       "      <td>M</td>\n",
       "      <td>50_249</td>\n",
       "      <td>F</td>\n",
       "      <td>40-49</td>\n",
       "      <td>522</td>\n",
       "      <td>G2</td>\n",
       "      <td>A</td>\n",
       "      <td>2.19</td>\n",
       "      <td>large</td>\n",
       "    </tr>\n",
       "    <tr>\n",
       "      <th>...</th>\n",
       "      <td>...</td>\n",
       "      <td>...</td>\n",
       "      <td>...</td>\n",
       "      <td>...</td>\n",
       "      <td>...</td>\n",
       "      <td>...</td>\n",
       "      <td>...</td>\n",
       "      <td>...</td>\n",
       "      <td>...</td>\n",
       "    </tr>\n",
       "    <tr>\n",
       "      <th>88111</th>\n",
       "      <td>N</td>\n",
       "      <td>1_49</td>\n",
       "      <td>M</td>\n",
       "      <td>14-29</td>\n",
       "      <td>711</td>\n",
       "      <td>G2</td>\n",
       "      <td>A</td>\n",
       "      <td>2.84</td>\n",
       "      <td>small</td>\n",
       "    </tr>\n",
       "    <tr>\n",
       "      <th>88112</th>\n",
       "      <td>N</td>\n",
       "      <td>1_49</td>\n",
       "      <td>M</td>\n",
       "      <td>14-29</td>\n",
       "      <td>711</td>\n",
       "      <td>G2</td>\n",
       "      <td>A</td>\n",
       "      <td>2.84</td>\n",
       "      <td>small</td>\n",
       "    </tr>\n",
       "    <tr>\n",
       "      <th>88113</th>\n",
       "      <td>N</td>\n",
       "      <td>1_49</td>\n",
       "      <td>M</td>\n",
       "      <td>30-39</td>\n",
       "      <td>711</td>\n",
       "      <td>G2</td>\n",
       "      <td>A</td>\n",
       "      <td>2.84</td>\n",
       "      <td>small</td>\n",
       "    </tr>\n",
       "    <tr>\n",
       "      <th>88114</th>\n",
       "      <td>N</td>\n",
       "      <td>1_49</td>\n",
       "      <td>M</td>\n",
       "      <td>50-59</td>\n",
       "      <td>711</td>\n",
       "      <td>G2</td>\n",
       "      <td>A</td>\n",
       "      <td>2.84</td>\n",
       "      <td>small</td>\n",
       "    </tr>\n",
       "    <tr>\n",
       "      <th>88115</th>\n",
       "      <td>L</td>\n",
       "      <td>1_49</td>\n",
       "      <td>M</td>\n",
       "      <td>30-39</td>\n",
       "      <td>122</td>\n",
       "      <td>G4</td>\n",
       "      <td>A</td>\n",
       "      <td>16.53</td>\n",
       "      <td>small</td>\n",
       "    </tr>\n",
       "  </tbody>\n",
       "</table>\n",
       "<p>36785 rows × 9 columns</p>\n",
       "</div>"
      ],
      "text/plain": [
       "      nace esize_class gender age_class  lpk education contract  hourly_rate  \\\n",
       "44952    C        1_49      M     50-59  722        G2        A         8.13   \n",
       "44953    C        1_49      M     40-49  721        G2        A         8.20   \n",
       "44954    C        1_49      M     50-59  722        G2        A         8.20   \n",
       "44955    C        1_49      F     40-49  334        G2        A         2.51   \n",
       "44956    M      50_249      F     40-49  522        G2        A         2.19   \n",
       "...    ...         ...    ...       ...  ...       ...      ...          ...   \n",
       "88111    N        1_49      M     14-29  711        G2        A         2.84   \n",
       "88112    N        1_49      M     14-29  711        G2        A         2.84   \n",
       "88113    N        1_49      M     30-39  711        G2        A         2.84   \n",
       "88114    N        1_49      M     50-59  711        G2        A         2.84   \n",
       "88115    L        1_49      M     30-39  122        G4        A        16.53   \n",
       "\n",
       "      esize_class_nc  \n",
       "44952          small  \n",
       "44953          small  \n",
       "44954          small  \n",
       "44955          small  \n",
       "44956          large  \n",
       "...              ...  \n",
       "88111          small  \n",
       "88112          small  \n",
       "88113          small  \n",
       "88114          small  \n",
       "88115          small  \n",
       "\n",
       "[36785 rows x 9 columns]"
      ]
     },
     "execution_count": 32,
     "metadata": {},
     "output_type": "execute_result"
    }
   ],
   "source": [
    "data2018ft.drop(columns='collective')"
   ]
  },
  {
   "cell_type": "markdown",
   "metadata": {},
   "source": [
    "## 'gender'"
   ]
  },
  {
   "cell_type": "code",
   "execution_count": 33,
   "metadata": {},
   "outputs": [
    {
     "data": {
      "image/png": "[encoded data removed]",
      "text/plain": [
       "<Figure size 864x288 with 1 Axes>"
      ]
     },
     "metadata": {},
     "output_type": "display_data"
    },
    {
     "name": "stdout",
     "output_type": "stream",
     "text": [
      "Multiple Comparison of Means - Tukey HSD, FWER=0.05\n",
      "=================================================\n",
      "group1 group2 meandiff p-adj lower  upper  reject\n",
      "-------------------------------------------------\n",
      "     F      M   0.8066  -0.0 0.7283 0.8848   True\n",
      "-------------------------------------------------\n"
     ]
    }
   ],
   "source": [
    "hr_in_categories(data2018ft, 'gender')"
   ]
  },
  {
   "cell_type": "markdown",
   "metadata": {},
   "source": [
    "## 'age_class'"
   ]
  },
  {
   "cell_type": "code",
   "execution_count": 34,
   "metadata": {},
   "outputs": [
    {
     "data": {
      "image/png": "[encoded data removed]",
      "text/plain": [
       "<Figure size 864x288 with 1 Axes>"
      ]
     },
     "metadata": {},
     "output_type": "display_data"
    },
    {
     "name": "stdout",
     "output_type": "stream",
     "text": [
      "Multiple Comparison of Means - Tukey HSD, FWER=0.05 \n",
      "====================================================\n",
      "group1 group2 meandiff p-adj   lower   upper  reject\n",
      "----------------------------------------------------\n",
      " 14-29  30-39   1.2492    0.0  1.0861  1.4124   True\n",
      " 14-29  40-49   0.6221    0.0  0.4595  0.7848   True\n",
      " 14-29  50-59  -0.0887 0.5594 -0.2494  0.0721  False\n",
      " 14-29    60+  -0.1999 0.0558 -0.4028   0.003  False\n",
      " 30-39  40-49  -0.6271    0.0 -0.7893 -0.4649   True\n",
      " 30-39  50-59  -1.3379    0.0 -1.4981 -1.1777   True\n",
      " 30-39    60+  -1.4492    0.0 -1.6517 -1.2466   True\n",
      " 40-49  50-59  -0.7108    0.0 -0.8706  -0.551   True\n",
      " 40-49    60+  -0.8221    0.0 -1.0242 -0.6199   True\n",
      " 50-59    60+  -0.1113 0.5539 -0.3118  0.0893  False\n",
      "----------------------------------------------------\n"
     ]
    }
   ],
   "source": [
    "hr_in_categories(data2018ft, 'age_class')"
   ]
  },
  {
   "cell_type": "code",
   "execution_count": 35,
   "metadata": {},
   "outputs": [],
   "source": [
    "reclassify = { '14-29': 'old_young', '30-39': '30-39', '40-49': '40-49', '50-59': 'old_young', '60+': 'argold_younge'}\n",
    "data2018ft['age_class_nc']=data2018ft['age_class'].replace(reclassify)"
   ]
  },
  {
   "cell_type": "markdown",
   "metadata": {},
   "source": [
    "## 'education'"
   ]
  },
  {
   "cell_type": "code",
   "execution_count": 36,
   "metadata": {},
   "outputs": [
    {
     "data": {
      "image/png": "[encoded data removed]",
      "text/plain": [
       "<Figure size 864x288 with 1 Axes>"
      ]
     },
     "metadata": {},
     "output_type": "display_data"
    },
    {
     "name": "stdout",
     "output_type": "stream",
     "text": [
      "Multiple Comparison of Means - Tukey HSD, FWER=0.05\n",
      "=================================================\n",
      "group1 group2 meandiff p-adj lower  upper  reject\n",
      "-------------------------------------------------\n",
      "    G1     G2   0.5137   0.0 0.2433 0.7841   True\n",
      "    G1     G3   2.7877  -0.0 2.5094 3.0659   True\n",
      "    G1     G4   4.3739  -0.0 4.0892 4.6587   True\n",
      "    G2     G3   2.2739  -0.0 2.1614 2.3864   True\n",
      "    G2     G4   3.8602  -0.0 3.7325 3.9879   True\n",
      "    G3     G4   1.5863  -0.0 1.4427 1.7298   True\n",
      "-------------------------------------------------\n"
     ]
    }
   ],
   "source": [
    "hr_in_categories(data2018ft, 'education')"
   ]
  },
  {
   "cell_type": "markdown",
   "metadata": {},
   "source": [
    "## 'contract'"
   ]
  },
  {
   "cell_type": "code",
   "execution_count": 37,
   "metadata": {},
   "outputs": [
    {
     "data": {
      "image/png": "[encoded data removed]",
      "text/plain": [
       "<Figure size 864x288 with 1 Axes>"
      ]
     },
     "metadata": {},
     "output_type": "display_data"
    },
    {
     "name": "stdout",
     "output_type": "stream",
     "text": [
      "Multiple Comparison of Means - Tukey HSD, FWER=0.05\n",
      "===================================================\n",
      "group1 group2 meandiff p-adj  lower   upper  reject\n",
      "---------------------------------------------------\n",
      "     A      B  -0.5813   0.0 -0.7714 -0.3912   True\n",
      "---------------------------------------------------\n"
     ]
    }
   ],
   "source": [
    "hr_in_categories(data2018ft, 'contract')"
   ]
  },
  {
   "cell_type": "markdown",
   "metadata": {},
   "source": [
    "## 'lpk' (high cardinality )"
   ]
  },
  {
   "cell_type": "code",
   "execution_count": 44,
   "metadata": {},
   "outputs": [
    {
     "data": {
      "text/html": [
       "<div>\n",
       "<style scoped>\n",
       "    .dataframe tbody tr th:only-of-type {\n",
       "        vertical-align: middle;\n",
       "    }\n",
       "\n",
       "    .dataframe tbody tr th {\n",
       "        vertical-align: top;\n",
       "    }\n",
       "\n",
       "    .dataframe thead th {\n",
       "        text-align: right;\n",
       "    }\n",
       "</style>\n",
       "<table border=\"1\" class=\"dataframe\">\n",
       "  <thead>\n",
       "    <tr style=\"text-align: right;\">\n",
       "      <th></th>\n",
       "      <th>nace</th>\n",
       "      <th>esize_class</th>\n",
       "      <th>collective</th>\n",
       "      <th>gender</th>\n",
       "      <th>age_class</th>\n",
       "      <th>lpk</th>\n",
       "      <th>education</th>\n",
       "      <th>contract</th>\n",
       "      <th>hourly_rate</th>\n",
       "      <th>esize_class_nc</th>\n",
       "      <th>age_class_nc</th>\n",
       "      <th>lpk1</th>\n",
       "    </tr>\n",
       "  </thead>\n",
       "  <tbody>\n",
       "    <tr>\n",
       "      <th>44952</th>\n",
       "      <td>C</td>\n",
       "      <td>1_49</td>\n",
       "      <td>N</td>\n",
       "      <td>M</td>\n",
       "      <td>50-59</td>\n",
       "      <td>722</td>\n",
       "      <td>G2</td>\n",
       "      <td>A</td>\n",
       "      <td>8.13</td>\n",
       "      <td>small</td>\n",
       "      <td>old_young</td>\n",
       "      <td>7</td>\n",
       "    </tr>\n",
       "    <tr>\n",
       "      <th>44953</th>\n",
       "      <td>C</td>\n",
       "      <td>1_49</td>\n",
       "      <td>N</td>\n",
       "      <td>M</td>\n",
       "      <td>40-49</td>\n",
       "      <td>721</td>\n",
       "      <td>G2</td>\n",
       "      <td>A</td>\n",
       "      <td>8.20</td>\n",
       "      <td>small</td>\n",
       "      <td>40-49</td>\n",
       "      <td>7</td>\n",
       "    </tr>\n",
       "    <tr>\n",
       "      <th>44954</th>\n",
       "      <td>C</td>\n",
       "      <td>1_49</td>\n",
       "      <td>N</td>\n",
       "      <td>M</td>\n",
       "      <td>50-59</td>\n",
       "      <td>722</td>\n",
       "      <td>G2</td>\n",
       "      <td>A</td>\n",
       "      <td>8.20</td>\n",
       "      <td>small</td>\n",
       "      <td>old_young</td>\n",
       "      <td>7</td>\n",
       "    </tr>\n",
       "    <tr>\n",
       "      <th>44955</th>\n",
       "      <td>C</td>\n",
       "      <td>1_49</td>\n",
       "      <td>N</td>\n",
       "      <td>F</td>\n",
       "      <td>40-49</td>\n",
       "      <td>334</td>\n",
       "      <td>G2</td>\n",
       "      <td>A</td>\n",
       "      <td>2.51</td>\n",
       "      <td>small</td>\n",
       "      <td>40-49</td>\n",
       "      <td>3</td>\n",
       "    </tr>\n",
       "    <tr>\n",
       "      <th>44956</th>\n",
       "      <td>M</td>\n",
       "      <td>50_249</td>\n",
       "      <td>N</td>\n",
       "      <td>F</td>\n",
       "      <td>40-49</td>\n",
       "      <td>522</td>\n",
       "      <td>G2</td>\n",
       "      <td>A</td>\n",
       "      <td>2.19</td>\n",
       "      <td>large</td>\n",
       "      <td>40-49</td>\n",
       "      <td>5</td>\n",
       "    </tr>\n",
       "    <tr>\n",
       "      <th>...</th>\n",
       "      <td>...</td>\n",
       "      <td>...</td>\n",
       "      <td>...</td>\n",
       "      <td>...</td>\n",
       "      <td>...</td>\n",
       "      <td>...</td>\n",
       "      <td>...</td>\n",
       "      <td>...</td>\n",
       "      <td>...</td>\n",
       "      <td>...</td>\n",
       "      <td>...</td>\n",
       "      <td>...</td>\n",
       "    </tr>\n",
       "    <tr>\n",
       "      <th>88111</th>\n",
       "      <td>N</td>\n",
       "      <td>1_49</td>\n",
       "      <td>N</td>\n",
       "      <td>M</td>\n",
       "      <td>14-29</td>\n",
       "      <td>711</td>\n",
       "      <td>G2</td>\n",
       "      <td>A</td>\n",
       "      <td>2.84</td>\n",
       "      <td>small</td>\n",
       "      <td>old_young</td>\n",
       "      <td>7</td>\n",
       "    </tr>\n",
       "    <tr>\n",
       "      <th>88112</th>\n",
       "      <td>N</td>\n",
       "      <td>1_49</td>\n",
       "      <td>N</td>\n",
       "      <td>M</td>\n",
       "      <td>14-29</td>\n",
       "      <td>711</td>\n",
       "      <td>G2</td>\n",
       "      <td>A</td>\n",
       "      <td>2.84</td>\n",
       "      <td>small</td>\n",
       "      <td>old_young</td>\n",
       "      <td>7</td>\n",
       "    </tr>\n",
       "    <tr>\n",
       "      <th>88113</th>\n",
       "      <td>N</td>\n",
       "      <td>1_49</td>\n",
       "      <td>N</td>\n",
       "      <td>M</td>\n",
       "      <td>30-39</td>\n",
       "      <td>711</td>\n",
       "      <td>G2</td>\n",
       "      <td>A</td>\n",
       "      <td>2.84</td>\n",
       "      <td>small</td>\n",
       "      <td>30-39</td>\n",
       "      <td>7</td>\n",
       "    </tr>\n",
       "    <tr>\n",
       "      <th>88114</th>\n",
       "      <td>N</td>\n",
       "      <td>1_49</td>\n",
       "      <td>N</td>\n",
       "      <td>M</td>\n",
       "      <td>50-59</td>\n",
       "      <td>711</td>\n",
       "      <td>G2</td>\n",
       "      <td>A</td>\n",
       "      <td>2.84</td>\n",
       "      <td>small</td>\n",
       "      <td>old_young</td>\n",
       "      <td>7</td>\n",
       "    </tr>\n",
       "    <tr>\n",
       "      <th>88115</th>\n",
       "      <td>L</td>\n",
       "      <td>1_49</td>\n",
       "      <td>N</td>\n",
       "      <td>M</td>\n",
       "      <td>30-39</td>\n",
       "      <td>122</td>\n",
       "      <td>G4</td>\n",
       "      <td>A</td>\n",
       "      <td>16.53</td>\n",
       "      <td>small</td>\n",
       "      <td>30-39</td>\n",
       "      <td>1</td>\n",
       "    </tr>\n",
       "  </tbody>\n",
       "</table>\n",
       "<p>36785 rows × 12 columns</p>\n",
       "</div>"
      ],
      "text/plain": [
       "      nace esize_class collective gender age_class  lpk education contract  \\\n",
       "44952    C        1_49          N      M     50-59  722        G2        A   \n",
       "44953    C        1_49          N      M     40-49  721        G2        A   \n",
       "44954    C        1_49          N      M     50-59  722        G2        A   \n",
       "44955    C        1_49          N      F     40-49  334        G2        A   \n",
       "44956    M      50_249          N      F     40-49  522        G2        A   \n",
       "...    ...         ...        ...    ...       ...  ...       ...      ...   \n",
       "88111    N        1_49          N      M     14-29  711        G2        A   \n",
       "88112    N        1_49          N      M     14-29  711        G2        A   \n",
       "88113    N        1_49          N      M     30-39  711        G2        A   \n",
       "88114    N        1_49          N      M     50-59  711        G2        A   \n",
       "88115    L        1_49          N      M     30-39  122        G4        A   \n",
       "\n",
       "       hourly_rate esize_class_nc age_class_nc  lpk1  \n",
       "44952         8.13          small    old_young     7  \n",
       "44953         8.20          small        40-49     7  \n",
       "44954         8.20          small    old_young     7  \n",
       "44955         2.51          small        40-49     3  \n",
       "44956         2.19          large        40-49     5  \n",
       "...            ...            ...          ...   ...  \n",
       "88111         2.84          small    old_young     7  \n",
       "88112         2.84          small    old_young     7  \n",
       "88113         2.84          small        30-39     7  \n",
       "88114         2.84          small    old_young     7  \n",
       "88115        16.53          small        30-39     1  \n",
       "\n",
       "[36785 rows x 12 columns]"
      ]
     },
     "execution_count": 44,
     "metadata": {},
     "output_type": "execute_result"
    }
   ],
   "source": [
    "data2018ft['lpk1'] = data2018ft['lpk'] // 100\n",
    "data2018ft"
   ]
  },
  {
   "cell_type": "code",
   "execution_count": 39,
   "metadata": {},
   "outputs": [
    {
     "data": {
      "text/html": [
       "<div>\n",
       "<style scoped>\n",
       "    .dataframe tbody tr th:only-of-type {\n",
       "        vertical-align: middle;\n",
       "    }\n",
       "\n",
       "    .dataframe tbody tr th {\n",
       "        vertical-align: top;\n",
       "    }\n",
       "\n",
       "    .dataframe thead th {\n",
       "        text-align: right;\n",
       "    }\n",
       "</style>\n",
       "<table border=\"1\" class=\"dataframe\">\n",
       "  <thead>\n",
       "    <tr style=\"text-align: right;\">\n",
       "      <th></th>\n",
       "      <th>nace</th>\n",
       "      <th>lpk</th>\n",
       "      <th>hourly_rate</th>\n",
       "      <th>lpk1</th>\n",
       "    </tr>\n",
       "  </thead>\n",
       "  <tbody>\n",
       "    <tr>\n",
       "      <th>0</th>\n",
       "      <td>B</td>\n",
       "      <td>112</td>\n",
       "      <td>14.998571</td>\n",
       "      <td>1.0</td>\n",
       "    </tr>\n",
       "    <tr>\n",
       "      <th>1</th>\n",
       "      <td>B</td>\n",
       "      <td>121</td>\n",
       "      <td>18.676667</td>\n",
       "      <td>1.0</td>\n",
       "    </tr>\n",
       "    <tr>\n",
       "      <th>2</th>\n",
       "      <td>B</td>\n",
       "      <td>122</td>\n",
       "      <td>9.813333</td>\n",
       "      <td>1.0</td>\n",
       "    </tr>\n",
       "    <tr>\n",
       "      <th>3</th>\n",
       "      <td>B</td>\n",
       "      <td>132</td>\n",
       "      <td>10.665769</td>\n",
       "      <td>1.0</td>\n",
       "    </tr>\n",
       "    <tr>\n",
       "      <th>4</th>\n",
       "      <td>B</td>\n",
       "      <td>211</td>\n",
       "      <td>10.075000</td>\n",
       "      <td>2.0</td>\n",
       "    </tr>\n",
       "    <tr>\n",
       "      <th>...</th>\n",
       "      <td>...</td>\n",
       "      <td>...</td>\n",
       "      <td>...</td>\n",
       "      <td>...</td>\n",
       "    </tr>\n",
       "    <tr>\n",
       "      <th>1149</th>\n",
       "      <td>S</td>\n",
       "      <td>921</td>\n",
       "      <td>2.190000</td>\n",
       "      <td>9.0</td>\n",
       "    </tr>\n",
       "    <tr>\n",
       "      <th>1150</th>\n",
       "      <td>S</td>\n",
       "      <td>931</td>\n",
       "      <td>3.874286</td>\n",
       "      <td>9.0</td>\n",
       "    </tr>\n",
       "    <tr>\n",
       "      <th>1151</th>\n",
       "      <td>S</td>\n",
       "      <td>933</td>\n",
       "      <td>2.190000</td>\n",
       "      <td>9.0</td>\n",
       "    </tr>\n",
       "    <tr>\n",
       "      <th>1152</th>\n",
       "      <td>S</td>\n",
       "      <td>961</td>\n",
       "      <td>4.530000</td>\n",
       "      <td>9.0</td>\n",
       "    </tr>\n",
       "    <tr>\n",
       "      <th>1153</th>\n",
       "      <td>S</td>\n",
       "      <td>962</td>\n",
       "      <td>2.616667</td>\n",
       "      <td>9.0</td>\n",
       "    </tr>\n",
       "  </tbody>\n",
       "</table>\n",
       "<p>1154 rows × 4 columns</p>\n",
       "</div>"
      ],
      "text/plain": [
       "     nace  lpk  hourly_rate  lpk1\n",
       "0       B  112    14.998571   1.0\n",
       "1       B  121    18.676667   1.0\n",
       "2       B  122     9.813333   1.0\n",
       "3       B  132    10.665769   1.0\n",
       "4       B  211    10.075000   2.0\n",
       "...   ...  ...          ...   ...\n",
       "1149    S  921     2.190000   9.0\n",
       "1150    S  931     3.874286   9.0\n",
       "1151    S  933     2.190000   9.0\n",
       "1152    S  961     4.530000   9.0\n",
       "1153    S  962     2.616667   9.0\n",
       "\n",
       "[1154 rows x 4 columns]"
      ]
     },
     "execution_count": 39,
     "metadata": {},
     "output_type": "execute_result"
    }
   ],
   "source": [
    "lpk_mean = data2018ft.groupby(['nace', 'lpk'])[['hourly_rate','lpk1']].mean().reset_index()\n",
    "lpk_mean"
   ]
  },
  {
   "cell_type": "code",
   "execution_count": 40,
   "metadata": {},
   "outputs": [],
   "source": [
    "lpk_mean = data2018ft.groupby(['lpk1', 'lpk'])['hourly_rate'].mean().to_frame().reset_index() \n"
   ]
  },
  {
   "cell_type": "code",
   "execution_count": 41,
   "metadata": {},
   "outputs": [
    {
     "data": {
      "image/png": "[encoded data removed]",
      "text/plain": [
       "<Figure size 864x288 with 1 Axes>"
      ]
     },
     "metadata": {},
     "output_type": "display_data"
    }
   ],
   "source": [
    "sns.scatterplot(data=lpk_mean, x='lpk', y='hourly_rate', hue='lpk1', s=80, palette='Set2');"
   ]
  },
  {
   "cell_type": "code",
   "execution_count": 47,
   "metadata": {},
   "outputs": [],
   "source": [
    "lpk_mean = data2018ft.groupby(['nace', 'lpk'])['hourly_rate'].mean().to_frame().reset_index() "
   ]
  },
  {
   "cell_type": "code",
   "execution_count": 48,
   "metadata": {},
   "outputs": [
    {
     "data": {
      "image/png": "[encoded data removed]",
      "text/plain": [
       "<Figure size 864x288 with 1 Axes>"
      ]
     },
     "metadata": {},
     "output_type": "display_data"
    }
   ],
   "source": [
    "sns.scatterplot(data=lpk_mean, x='lpk', y='hourly_rate', hue='nace', s=30, palette='Set2')\n",
    "plt.legend(loc='upper right', ncol=4);"
   ]
  }
 ],
 "metadata": {
  "kernelspec": {
   "display_name": "Python 3.10.4 ('ds310-ltdu')",
   "language": "python",
   "name": "python3"
  },
  "language_info": {
   "codemirror_mode": {
    "name": "ipython",
    "version": 3
   },
   "file_extension": ".py",
   "mimetype": "text/x-python",
   "name": "python",
   "nbconvert_exporter": "python",
   "pygments_lexer": "ipython3",
   "version": "3.10.4"
  },
  "orig_nbformat": 4,
  "vscode": {
   "interpreter": {
    "hash": "f596823847b41a4877c15772cb4cef8c5fd558509561fe56420e1f0f39d8a61f"
   }
  }
 },
 "nbformat": 4,
 "nbformat_minor": 2
}
